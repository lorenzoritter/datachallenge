{
 "cells": [
  {
   "cell_type": "code",
   "execution_count": 1,
   "metadata": {
    "collapsed": true
   },
   "outputs": [],
   "source": [
    "import numpy as np\n",
    "import pandas as pd"
   ]
  },
  {
   "cell_type": "markdown",
   "metadata": {},
   "source": [
    "##### I will try to store the content of the csv files in a HDFStore"
   ]
  },
  {
   "cell_type": "code",
   "execution_count": 2,
   "metadata": {
    "collapsed": true
   },
   "outputs": [],
   "source": [
    "searchesStore = pd.HDFStore('searchesNew.h5')\n",
    "bookingsStore = pd.HDFStore('bookings.h5')"
   ]
  },
  {
   "cell_type": "code",
   "execution_count": 11,
   "metadata": {
    "collapsed": true
   },
   "outputs": [
    {
     "ename": "ValueError",
     "evalue": "invalid combinate of [values_axes] on appending data [name->Date,cname->Date,dtype->string1336,shape->(1, 500000)] vs current table [name->Date,cname->Date,dtype->datetime64,shape->None]",
     "output_type": "error",
     "traceback": [
      "\u001b[1;31m---------------------------------------------------------------------------\u001b[0m",
      "\u001b[1;31mValueError\u001b[0m                                Traceback (most recent call last)",
      "\u001b[1;32m<ipython-input-11-88339d76b10c>\u001b[0m in \u001b[0;36m<module>\u001b[1;34m()\u001b[0m\n\u001b[0;32m      1\u001b[0m \u001b[1;32mfor\u001b[0m \u001b[0mchunk\u001b[0m \u001b[1;32min\u001b[0m \u001b[0mpd\u001b[0m\u001b[1;33m.\u001b[0m\u001b[0mread_csv\u001b[0m\u001b[1;33m(\u001b[0m\u001b[1;34m'../Files/searches.csv'\u001b[0m\u001b[1;33m,\u001b[0m \u001b[0mdelimiter\u001b[0m\u001b[1;33m=\u001b[0m\u001b[1;34m'^'\u001b[0m\u001b[1;33m,\u001b[0m \u001b[0mchunksize\u001b[0m\u001b[1;33m=\u001b[0m\u001b[1;36m500000\u001b[0m\u001b[1;33m,\u001b[0m \u001b[0musecols\u001b[0m\u001b[1;33m=\u001b[0m\u001b[1;33m[\u001b[0m\u001b[1;34m'Date'\u001b[0m\u001b[1;33m,\u001b[0m\u001b[1;34m'TxnCode'\u001b[0m\u001b[1;33m,\u001b[0m\u001b[1;34m'OfficeID'\u001b[0m\u001b[1;33m,\u001b[0m\u001b[1;34m'Country'\u001b[0m\u001b[1;33m,\u001b[0m\u001b[1;34m'Origin'\u001b[0m\u001b[1;33m,\u001b[0m\u001b[1;34m'Destination'\u001b[0m\u001b[1;33m,\u001b[0m\u001b[1;34m'RoundTrip'\u001b[0m\u001b[1;33m]\u001b[0m\u001b[1;33m,\u001b[0m \u001b[0mdtype\u001b[0m\u001b[1;33m=\u001b[0m\u001b[1;33m{\u001b[0m\u001b[1;34m'TxnCode'\u001b[0m\u001b[1;33m:\u001b[0m \u001b[0mnp\u001b[0m\u001b[1;33m.\u001b[0m\u001b[0mstr\u001b[0m\u001b[1;33m,\u001b[0m \u001b[1;34m'OfficeID'\u001b[0m\u001b[1;33m:\u001b[0m \u001b[0mnp\u001b[0m\u001b[1;33m.\u001b[0m\u001b[0mstr\u001b[0m\u001b[1;33m,\u001b[0m\u001b[1;34m'Country'\u001b[0m\u001b[1;33m:\u001b[0m \u001b[0mnp\u001b[0m\u001b[1;33m.\u001b[0m\u001b[0mstr\u001b[0m\u001b[1;33m,\u001b[0m \u001b[1;34m'Origin'\u001b[0m\u001b[1;33m:\u001b[0m \u001b[0mnp\u001b[0m\u001b[1;33m.\u001b[0m\u001b[0mstr\u001b[0m\u001b[1;33m,\u001b[0m\u001b[1;34m'Destination'\u001b[0m\u001b[1;33m:\u001b[0m \u001b[0mnp\u001b[0m\u001b[1;33m.\u001b[0m\u001b[0mstr\u001b[0m\u001b[1;33m,\u001b[0m \u001b[1;34m'RoundTrip'\u001b[0m\u001b[1;33m:\u001b[0m \u001b[0mnp\u001b[0m\u001b[1;33m.\u001b[0m\u001b[0mfloat64\u001b[0m\u001b[1;33m}\u001b[0m\u001b[1;33m)\u001b[0m\u001b[1;33m:\u001b[0m\u001b[1;33m\u001b[0m\u001b[0m\n\u001b[0;32m      2\u001b[0m     \u001b[0mchunk\u001b[0m\u001b[1;33m[\u001b[0m\u001b[1;34m'Date'\u001b[0m\u001b[1;33m]\u001b[0m \u001b[1;33m=\u001b[0m \u001b[0mpd\u001b[0m\u001b[1;33m.\u001b[0m\u001b[0mto_datetime\u001b[0m\u001b[1;33m(\u001b[0m\u001b[0mchunk\u001b[0m\u001b[1;33m[\u001b[0m\u001b[1;34m'Date'\u001b[0m\u001b[1;33m]\u001b[0m\u001b[1;33m)\u001b[0m\u001b[1;33m\u001b[0m\u001b[0m\n\u001b[1;32m----> 3\u001b[1;33m     \u001b[0msearchesStore\u001b[0m\u001b[1;33m.\u001b[0m\u001b[0mappend\u001b[0m\u001b[1;33m(\u001b[0m\u001b[1;34m'searches'\u001b[0m\u001b[1;33m,\u001b[0m\u001b[0mchunk\u001b[0m\u001b[1;33m,\u001b[0m\u001b[0mmin_itemsize\u001b[0m\u001b[1;33m=\u001b[0m\u001b[1;33m{\u001b[0m\u001b[1;34m'Date'\u001b[0m\u001b[1;33m:\u001b[0m\u001b[1;36m20\u001b[0m\u001b[1;33m,\u001b[0m\u001b[1;34m'TxnCode'\u001b[0m\u001b[1;33m:\u001b[0m\u001b[1;36m3\u001b[0m\u001b[1;33m,\u001b[0m\u001b[1;34m'OfficeID'\u001b[0m\u001b[1;33m:\u001b[0m\u001b[1;36m32\u001b[0m\u001b[1;33m,\u001b[0m\u001b[1;34m'Country'\u001b[0m\u001b[1;33m:\u001b[0m\u001b[1;36m2\u001b[0m\u001b[1;33m,\u001b[0m\u001b[1;34m'Origin'\u001b[0m\u001b[1;33m:\u001b[0m\u001b[1;36m3\u001b[0m\u001b[1;33m,\u001b[0m\u001b[1;34m'Destination'\u001b[0m\u001b[1;33m:\u001b[0m\u001b[1;36m3\u001b[0m\u001b[1;33m,\u001b[0m\u001b[1;34m'RoundTrip'\u001b[0m\u001b[1;33m:\u001b[0m\u001b[1;36m1\u001b[0m\u001b[1;33m}\u001b[0m\u001b[1;33m)\u001b[0m\u001b[1;33m\u001b[0m\u001b[0m\n\u001b[0m",
      "\u001b[1;32m/usr/lib/python2.7/dist-packages/pandas/io/pytables.pyc\u001b[0m in \u001b[0;36mappend\u001b[1;34m(self, key, value, format, append, columns, dropna, **kwargs)\u001b[0m\n\u001b[0;32m    912\u001b[0m         \u001b[0mkwargs\u001b[0m \u001b[1;33m=\u001b[0m \u001b[0mself\u001b[0m\u001b[1;33m.\u001b[0m\u001b[0m_validate_format\u001b[0m\u001b[1;33m(\u001b[0m\u001b[0mformat\u001b[0m\u001b[1;33m,\u001b[0m \u001b[0mkwargs\u001b[0m\u001b[1;33m)\u001b[0m\u001b[1;33m\u001b[0m\u001b[0m\n\u001b[0;32m    913\u001b[0m         self._write_to_group(key, value, append=append, dropna=dropna,\n\u001b[1;32m--> 914\u001b[1;33m                              **kwargs)\n\u001b[0m\u001b[0;32m    915\u001b[0m \u001b[1;33m\u001b[0m\u001b[0m\n\u001b[0;32m    916\u001b[0m     def append_to_multiple(self, d, value, selector, data_columns=None,\n",
      "\u001b[1;32m/usr/lib/python2.7/dist-packages/pandas/io/pytables.pyc\u001b[0m in \u001b[0;36m_write_to_group\u001b[1;34m(self, key, value, format, index, append, complib, encoding, **kwargs)\u001b[0m\n\u001b[0;32m   1271\u001b[0m \u001b[1;33m\u001b[0m\u001b[0m\n\u001b[0;32m   1272\u001b[0m         \u001b[1;31m# write the object\u001b[0m\u001b[1;33m\u001b[0m\u001b[1;33m\u001b[0m\u001b[0m\n\u001b[1;32m-> 1273\u001b[1;33m         \u001b[0ms\u001b[0m\u001b[1;33m.\u001b[0m\u001b[0mwrite\u001b[0m\u001b[1;33m(\u001b[0m\u001b[0mobj\u001b[0m\u001b[1;33m=\u001b[0m\u001b[0mvalue\u001b[0m\u001b[1;33m,\u001b[0m \u001b[0mappend\u001b[0m\u001b[1;33m=\u001b[0m\u001b[0mappend\u001b[0m\u001b[1;33m,\u001b[0m \u001b[0mcomplib\u001b[0m\u001b[1;33m=\u001b[0m\u001b[0mcomplib\u001b[0m\u001b[1;33m,\u001b[0m \u001b[1;33m**\u001b[0m\u001b[0mkwargs\u001b[0m\u001b[1;33m)\u001b[0m\u001b[1;33m\u001b[0m\u001b[0m\n\u001b[0m\u001b[0;32m   1274\u001b[0m \u001b[1;33m\u001b[0m\u001b[0m\n\u001b[0;32m   1275\u001b[0m         \u001b[1;32mif\u001b[0m \u001b[0ms\u001b[0m\u001b[1;33m.\u001b[0m\u001b[0mis_table\u001b[0m \u001b[1;32mand\u001b[0m \u001b[0mindex\u001b[0m\u001b[1;33m:\u001b[0m\u001b[1;33m\u001b[0m\u001b[0m\n",
      "\u001b[1;32m/usr/lib/python2.7/dist-packages/pandas/io/pytables.pyc\u001b[0m in \u001b[0;36mwrite\u001b[1;34m(self, obj, axes, append, complib, complevel, fletcher32, min_itemsize, chunksize, expectedrows, dropna, **kwargs)\u001b[0m\n\u001b[0;32m   3576\u001b[0m         self.create_axes(axes=axes, obj=obj, validate=append,\n\u001b[0;32m   3577\u001b[0m                          \u001b[0mmin_itemsize\u001b[0m\u001b[1;33m=\u001b[0m\u001b[0mmin_itemsize\u001b[0m\u001b[1;33m,\u001b[0m\u001b[1;33m\u001b[0m\u001b[0m\n\u001b[1;32m-> 3578\u001b[1;33m                          **kwargs)\n\u001b[0m\u001b[0;32m   3579\u001b[0m \u001b[1;33m\u001b[0m\u001b[0m\n\u001b[0;32m   3580\u001b[0m         \u001b[1;32mif\u001b[0m \u001b[1;32mnot\u001b[0m \u001b[0mself\u001b[0m\u001b[1;33m.\u001b[0m\u001b[0mis_exists\u001b[0m\u001b[1;33m:\u001b[0m\u001b[1;33m\u001b[0m\u001b[0m\n",
      "\u001b[1;32m/usr/lib/python2.7/dist-packages/pandas/io/pytables.pyc\u001b[0m in \u001b[0;36mcreate_axes\u001b[1;34m(self, axes, obj, validate, nan_rep, data_columns, min_itemsize, **kwargs)\u001b[0m\n\u001b[0;32m   3285\u001b[0m         \u001b[1;31m# validate the axes if we have an existing table\u001b[0m\u001b[1;33m\u001b[0m\u001b[1;33m\u001b[0m\u001b[0m\n\u001b[0;32m   3286\u001b[0m         \u001b[1;32mif\u001b[0m \u001b[0mvalidate\u001b[0m\u001b[1;33m:\u001b[0m\u001b[1;33m\u001b[0m\u001b[0m\n\u001b[1;32m-> 3287\u001b[1;33m             \u001b[0mself\u001b[0m\u001b[1;33m.\u001b[0m\u001b[0mvalidate\u001b[0m\u001b[1;33m(\u001b[0m\u001b[0mexisting_table\u001b[0m\u001b[1;33m)\u001b[0m\u001b[1;33m\u001b[0m\u001b[0m\n\u001b[0m\u001b[0;32m   3288\u001b[0m \u001b[1;33m\u001b[0m\u001b[0m\n\u001b[0;32m   3289\u001b[0m     \u001b[1;32mdef\u001b[0m \u001b[0mprocess_axes\u001b[0m\u001b[1;33m(\u001b[0m\u001b[0mself\u001b[0m\u001b[1;33m,\u001b[0m \u001b[0mobj\u001b[0m\u001b[1;33m,\u001b[0m \u001b[0mcolumns\u001b[0m\u001b[1;33m=\u001b[0m\u001b[0mNone\u001b[0m\u001b[1;33m)\u001b[0m\u001b[1;33m:\u001b[0m\u001b[1;33m\u001b[0m\u001b[0m\n",
      "\u001b[1;32m/usr/lib/python2.7/dist-packages/pandas/io/pytables.pyc\u001b[0m in \u001b[0;36mvalidate\u001b[1;34m(self, other)\u001b[0m\n\u001b[0;32m   2786\u001b[0m                         raise ValueError(\n\u001b[0;32m   2787\u001b[0m                             \u001b[1;34m\"invalid combinate of [%s] on appending data [%s] \"\u001b[0m\u001b[1;33m\u001b[0m\u001b[0m\n\u001b[1;32m-> 2788\u001b[1;33m                             \"vs current table [%s]\" % (c, sax, oax))\n\u001b[0m\u001b[0;32m   2789\u001b[0m \u001b[1;33m\u001b[0m\u001b[0m\n\u001b[0;32m   2790\u001b[0m                 \u001b[1;31m# should never get here\u001b[0m\u001b[1;33m\u001b[0m\u001b[1;33m\u001b[0m\u001b[0m\n",
      "\u001b[1;31mValueError\u001b[0m: invalid combinate of [values_axes] on appending data [name->Date,cname->Date,dtype->string1336,shape->(1, 500000)] vs current table [name->Date,cname->Date,dtype->datetime64,shape->None]"
     ]
    }
   ],
   "source": [
    "# this doesn't work: error on appending data (string1330->datetime64)\n",
    "#for chunk in pd.read_csv('../Files/searches.csv', delimiter='^', chunksize=500000, usecols=['Date','TxnCode','OfficeID','Country','Origin','Destination','RoundTrip'], dtype={'TxnCode': np.str, 'OfficeID': np.str,'Country': np.str, 'Origin': np.str,'Destination': np.str, 'RoundTrip': np.float64}):\n",
    "#    chunk['Date'] = pd.to_datetime(chunk['Date'])\n",
    "#    searchesStore.append('searches',chunk,min_itemsize={'Date':20,'TxnCode':3,'OfficeID':32,'Country':2,'Origin':3,'Destination':3,'RoundTrip':1})"
   ]
  },
  {
   "cell_type": "code",
   "execution_count": 12,
   "metadata": {
    "collapsed": false
   },
   "outputs": [],
   "source": [
    "for chunk in pd.read_csv('../Files/searches.csv', delimiter='^', chunksize=500000, usecols=['Date','TxnCode','OfficeID','Country','Origin','Destination','RoundTrip'], dtype={'Date':np.str, 'TxnCode': np.str, 'OfficeID': np.str,'Country': np.str, 'Origin': np.str,'Destination': np.str, 'RoundTrip': np.float64}):\n",
    "    searchesStore.append('searches',chunk,min_itemsize={'Date':167,'TxnCode':3,'OfficeID':32,'Country':2,'Origin':3,'Destination':3,'RoundTrip':1})"
   ]
  },
  {
   "cell_type": "code",
   "execution_count": 2,
   "metadata": {
    "collapsed": false
   },
   "outputs": [
    {
     "name": "stdout",
     "output_type": "stream",
     "text": [
      "CPU times: user 80.1 ms, sys: 27.6 ms, total: 108 ms\n",
      "Wall time: 712 ms\n"
     ]
    }
   ],
   "source": [
    "for chunk in pd.read_csv('../Files/bookingsClean.csv', delimiter='^', chunksize=500000, usecols=['act_date','dep_port','dep_city','arr_port','arr_city','pax'], parse_dates=['act_date'], dtype={'dep_port': object, 'dep_city': object, 'arr_city': object, 'arr_port': object, 'pax':np.float64}):\n",
    "    bookingsStore.append('bookings',chunk,min_itemsize={'act_date':20,'dep_port':3,'dep_city':15,'arr_port':3,'arr_city':15,'pax':3})"
   ]
  },
  {
   "cell_type": "code",
   "execution_count": null,
   "metadata": {
    "collapsed": false
   },
   "outputs": [],
   "source": [
    "# this loads the entire dataframe into the memory and the computer crashes\n",
    "#searchesStore.searches.head(5)"
   ]
  },
  {
   "cell_type": "code",
   "execution_count": 4,
   "metadata": {
    "collapsed": false
   },
   "outputs": [
    {
     "data": {
      "text/plain": [
       "Date_Time      datetime64[ns]\n",
       "TxnCode                object\n",
       "OfficeID               object\n",
       "Country                object\n",
       "Origin                 object\n",
       "Destination            object\n",
       "RoundTrip             float64\n",
       "dtype: object"
      ]
     },
     "execution_count": 4,
     "metadata": {},
     "output_type": "execute_result"
    }
   ],
   "source": [
    "# this loads the entire dataframe into the memory and the computer crashes\n",
    "#searchesStore.searches.dtypes"
   ]
  },
  {
   "cell_type": "code",
   "execution_count": 3,
   "metadata": {
    "collapsed": false
   },
   "outputs": [
    {
     "data": {
      "text/plain": [
       "<class 'pandas.io.pytables.HDFStore'>\n",
       "File path: searchesNew.h5\n",
       "/searches            frame_table  (typ->appendable,nrows->20390198,ncols->7,indexers->[index],dc->[Origin,RoundTrip,Country,Destination,TxnCode,OfficeID,Date])"
      ]
     },
     "execution_count": 3,
     "metadata": {},
     "output_type": "execute_result"
    }
   ],
   "source": [
    "searchesStore"
   ]
  },
  {
   "cell_type": "code",
   "execution_count": 7,
   "metadata": {
    "collapsed": false
   },
   "outputs": [
    {
     "data": {
      "text/plain": [
       "<class 'pandas.io.pytables.HDFStore'>\n",
       "File path: bookings.h5\n",
       "/bookings            frame_table  (typ->appendable,nrows->10000010,ncols->6,indexers->[index],dc->[arr_city,dep_city,pax,arr_port,act_date,dep_port])"
      ]
     },
     "execution_count": 7,
     "metadata": {},
     "output_type": "execute_result"
    }
   ],
   "source": [
    "bookingsStore"
   ]
  },
  {
   "cell_type": "code",
   "execution_count": 8,
   "metadata": {
    "collapsed": false
   },
   "outputs": [
    {
     "data": {
      "text/html": [
       "<div style=\"max-height:1000px;max-width:1500px;overflow:auto;\">\n",
       "<table border=\"1\" class=\"dataframe\">\n",
       "  <thead>\n",
       "    <tr style=\"text-align: right;\">\n",
       "      <th></th>\n",
       "      <th>Date</th>\n",
       "      <th>TxnCode</th>\n",
       "      <th>OfficeID</th>\n",
       "      <th>Country</th>\n",
       "      <th>Origin</th>\n",
       "      <th>Destination</th>\n",
       "      <th>RoundTrip</th>\n",
       "    </tr>\n",
       "  </thead>\n",
       "  <tbody>\n",
       "    <tr>\n",
       "      <th>0</th>\n",
       "      <td> 2013-01-01</td>\n",
       "      <td> MPT</td>\n",
       "      <td> 624d8c3ac0b3a7ca03e3c167e0f48327</td>\n",
       "      <td> DE</td>\n",
       "      <td> TXL</td>\n",
       "      <td> AUH</td>\n",
       "      <td> 1</td>\n",
       "    </tr>\n",
       "    <tr>\n",
       "      <th>1</th>\n",
       "      <td> 2013-01-01</td>\n",
       "      <td> MPT</td>\n",
       "      <td> b0af35b31588dc4ab06d5cf2986e8e02</td>\n",
       "      <td> MD</td>\n",
       "      <td> ATH</td>\n",
       "      <td> MIL</td>\n",
       "      <td> 0</td>\n",
       "    </tr>\n",
       "    <tr>\n",
       "      <th>2</th>\n",
       "      <td> 2013-01-01</td>\n",
       "      <td> MPT</td>\n",
       "      <td> 3561a60621de06ab1badc8ca55699ef3</td>\n",
       "      <td> US</td>\n",
       "      <td> ICT</td>\n",
       "      <td> SFO</td>\n",
       "      <td> 1</td>\n",
       "    </tr>\n",
       "    <tr>\n",
       "      <th>3</th>\n",
       "      <td> 2013-01-01</td>\n",
       "      <td> FXP</td>\n",
       "      <td> 1864e5e8013d9414150e91d26b6a558b</td>\n",
       "      <td> SE</td>\n",
       "      <td> RNB</td>\n",
       "      <td> ARN</td>\n",
       "      <td> 0</td>\n",
       "    </tr>\n",
       "    <tr>\n",
       "      <th>4</th>\n",
       "      <td> 2013-01-01</td>\n",
       "      <td> MPT</td>\n",
       "      <td> 1ec336348f44207d2e0027dc3a68c118</td>\n",
       "      <td> NO</td>\n",
       "      <td> OSL</td>\n",
       "      <td> MAD</td>\n",
       "      <td> 1</td>\n",
       "    </tr>\n",
       "    <tr>\n",
       "      <th>5</th>\n",
       "      <td> 2013-01-01</td>\n",
       "      <td> MPT</td>\n",
       "      <td> 3561a60621de06ab1badc8ca55699ef3</td>\n",
       "      <td> US</td>\n",
       "      <td> IAH</td>\n",
       "      <td> BLR</td>\n",
       "      <td> 1</td>\n",
       "    </tr>\n",
       "    <tr>\n",
       "      <th>6</th>\n",
       "      <td> 2013-01-01</td>\n",
       "      <td> MPT</td>\n",
       "      <td> d327ca6e35cc6732d4709828327ac7c1</td>\n",
       "      <td> DK</td>\n",
       "      <td> CPH</td>\n",
       "      <td> PAR</td>\n",
       "      <td> 1</td>\n",
       "    </tr>\n",
       "    <tr>\n",
       "      <th>7</th>\n",
       "      <td> 2013-01-01</td>\n",
       "      <td> MPT</td>\n",
       "      <td> 38a3abb0a28e3f00fa79a11f552a5052</td>\n",
       "      <td> FR</td>\n",
       "      <td> PAR</td>\n",
       "      <td> DUB</td>\n",
       "      <td> 1</td>\n",
       "    </tr>\n",
       "    <tr>\n",
       "      <th>8</th>\n",
       "      <td> 2013-01-01</td>\n",
       "      <td> MPT</td>\n",
       "      <td> c8daef4f8bf73a61aa2c928705f7b82d</td>\n",
       "      <td> ES</td>\n",
       "      <td> DUS</td>\n",
       "      <td> ACE</td>\n",
       "      <td> 1</td>\n",
       "    </tr>\n",
       "    <tr>\n",
       "      <th>9</th>\n",
       "      <td> 2013-01-01</td>\n",
       "      <td> MPT</td>\n",
       "      <td> 28d7a8c95e4db88589d3d35b66920e78</td>\n",
       "      <td> DE</td>\n",
       "      <td> FRA</td>\n",
       "      <td> BGW</td>\n",
       "      <td> 1</td>\n",
       "    </tr>\n",
       "  </tbody>\n",
       "</table>\n",
       "<p>10 rows × 7 columns</p>\n",
       "</div>"
      ],
      "text/plain": [
       "         Date TxnCode                          OfficeID Country Origin  \\\n",
       "0  2013-01-01     MPT  624d8c3ac0b3a7ca03e3c167e0f48327      DE    TXL   \n",
       "1  2013-01-01     MPT  b0af35b31588dc4ab06d5cf2986e8e02      MD    ATH   \n",
       "2  2013-01-01     MPT  3561a60621de06ab1badc8ca55699ef3      US    ICT   \n",
       "3  2013-01-01     FXP  1864e5e8013d9414150e91d26b6a558b      SE    RNB   \n",
       "4  2013-01-01     MPT  1ec336348f44207d2e0027dc3a68c118      NO    OSL   \n",
       "5  2013-01-01     MPT  3561a60621de06ab1badc8ca55699ef3      US    IAH   \n",
       "6  2013-01-01     MPT  d327ca6e35cc6732d4709828327ac7c1      DK    CPH   \n",
       "7  2013-01-01     MPT  38a3abb0a28e3f00fa79a11f552a5052      FR    PAR   \n",
       "8  2013-01-01     MPT  c8daef4f8bf73a61aa2c928705f7b82d      ES    DUS   \n",
       "9  2013-01-01     MPT  28d7a8c95e4db88589d3d35b66920e78      DE    FRA   \n",
       "\n",
       "  Destination  RoundTrip  \n",
       "0         AUH          1  \n",
       "1         MIL          0  \n",
       "2         SFO          1  \n",
       "3         ARN          0  \n",
       "4         MAD          1  \n",
       "5         BLR          1  \n",
       "6         PAR          1  \n",
       "7         DUB          1  \n",
       "8         ACE          1  \n",
       "9         BGW          1  \n",
       "\n",
       "[10 rows x 7 columns]"
      ]
     },
     "execution_count": 8,
     "metadata": {},
     "output_type": "execute_result"
    }
   ],
   "source": [
    "searchesStore.select('searches', start=0, stop=10)"
   ]
  },
  {
   "cell_type": "code",
   "execution_count": 9,
   "metadata": {
    "collapsed": false
   },
   "outputs": [
    {
     "data": {
      "text/html": [
       "<div style=\"max-height:1000px;max-width:1500px;overflow:auto;\">\n",
       "<table border=\"1\" class=\"dataframe\">\n",
       "  <thead>\n",
       "    <tr style=\"text-align: right;\">\n",
       "      <th></th>\n",
       "      <th>act_date</th>\n",
       "      <th>dep_port</th>\n",
       "      <th>dep_city</th>\n",
       "      <th>arr_port</th>\n",
       "      <th>arr_city</th>\n",
       "      <th>pax</th>\n",
       "    </tr>\n",
       "  </thead>\n",
       "  <tbody>\n",
       "    <tr>\n",
       "      <th>0</th>\n",
       "      <td>2013-03-05</td>\n",
       "      <td> ZRH</td>\n",
       "      <td> ZRH</td>\n",
       "      <td> LHR</td>\n",
       "      <td> LON</td>\n",
       "      <td>-1</td>\n",
       "    </tr>\n",
       "    <tr>\n",
       "      <th>1</th>\n",
       "      <td>2013-03-26</td>\n",
       "      <td> SAL</td>\n",
       "      <td> SAL</td>\n",
       "      <td> CLT</td>\n",
       "      <td> CLT</td>\n",
       "      <td> 1</td>\n",
       "    </tr>\n",
       "    <tr>\n",
       "      <th>2</th>\n",
       "      <td>2013-03-26</td>\n",
       "      <td> SAL</td>\n",
       "      <td> SAL</td>\n",
       "      <td> CLT</td>\n",
       "      <td> CLT</td>\n",
       "      <td> 1</td>\n",
       "    </tr>\n",
       "    <tr>\n",
       "      <th>3</th>\n",
       "      <td>2013-03-26</td>\n",
       "      <td> AKL</td>\n",
       "      <td> AKL</td>\n",
       "      <td> SVO</td>\n",
       "      <td> MOW</td>\n",
       "      <td> 1</td>\n",
       "    </tr>\n",
       "    <tr>\n",
       "      <th>4</th>\n",
       "      <td>2013-03-26</td>\n",
       "      <td> AKL</td>\n",
       "      <td> AKL</td>\n",
       "      <td> SVO</td>\n",
       "      <td> MOW</td>\n",
       "      <td> 1</td>\n",
       "    </tr>\n",
       "    <tr>\n",
       "      <th>5</th>\n",
       "      <td>2013-03-20</td>\n",
       "      <td> DEN</td>\n",
       "      <td> DEN</td>\n",
       "      <td> LGA</td>\n",
       "      <td> NYC</td>\n",
       "      <td> 1</td>\n",
       "    </tr>\n",
       "    <tr>\n",
       "      <th>6</th>\n",
       "      <td>2013-03-20</td>\n",
       "      <td> DEN</td>\n",
       "      <td> DEN</td>\n",
       "      <td> LGA</td>\n",
       "      <td> NYC</td>\n",
       "      <td> 1</td>\n",
       "    </tr>\n",
       "    <tr>\n",
       "      <th>7</th>\n",
       "      <td>2013-03-25</td>\n",
       "      <td> NRT</td>\n",
       "      <td> TYO</td>\n",
       "      <td> SIN</td>\n",
       "      <td> SIN</td>\n",
       "      <td> 2</td>\n",
       "    </tr>\n",
       "    <tr>\n",
       "      <th>8</th>\n",
       "      <td>2013-03-25</td>\n",
       "      <td> NRT</td>\n",
       "      <td> TYO</td>\n",
       "      <td> SIN</td>\n",
       "      <td> SIN</td>\n",
       "      <td> 2</td>\n",
       "    </tr>\n",
       "    <tr>\n",
       "      <th>9</th>\n",
       "      <td>2013-03-25</td>\n",
       "      <td> NRT</td>\n",
       "      <td> TYO</td>\n",
       "      <td> SIN</td>\n",
       "      <td> SIN</td>\n",
       "      <td> 2</td>\n",
       "    </tr>\n",
       "  </tbody>\n",
       "</table>\n",
       "<p>10 rows × 6 columns</p>\n",
       "</div>"
      ],
      "text/plain": [
       "    act_date dep_port dep_city arr_port arr_city  pax\n",
       "0 2013-03-05      ZRH      ZRH      LHR      LON   -1\n",
       "1 2013-03-26      SAL      SAL      CLT      CLT    1\n",
       "2 2013-03-26      SAL      SAL      CLT      CLT    1\n",
       "3 2013-03-26      AKL      AKL      SVO      MOW    1\n",
       "4 2013-03-26      AKL      AKL      SVO      MOW    1\n",
       "5 2013-03-20      DEN      DEN      LGA      NYC    1\n",
       "6 2013-03-20      DEN      DEN      LGA      NYC    1\n",
       "7 2013-03-25      NRT      TYO      SIN      SIN    2\n",
       "8 2013-03-25      NRT      TYO      SIN      SIN    2\n",
       "9 2013-03-25      NRT      TYO      SIN      SIN    2\n",
       "\n",
       "[10 rows x 6 columns]"
      ]
     },
     "execution_count": 9,
     "metadata": {},
     "output_type": "execute_result"
    }
   ],
   "source": [
    "bookingsStore.select('bookings',start=0,stop=10)"
   ]
  },
  {
   "cell_type": "code",
   "execution_count": null,
   "metadata": {
    "collapsed": true
   },
   "outputs": [],
   "source": []
  }
 ],
 "metadata": {
  "kernelspec": {
   "display_name": "Python 2",
   "language": "python",
   "name": "python2"
  },
  "language_info": {
   "codemirror_mode": {
    "name": "ipython",
    "version": 2
   },
   "file_extension": ".py",
   "mimetype": "text/x-python",
   "name": "python",
   "nbconvert_exporter": "python",
   "pygments_lexer": "ipython2",
   "version": "2.7.6"
  }
 },
 "nbformat": 4,
 "nbformat_minor": 0
}
