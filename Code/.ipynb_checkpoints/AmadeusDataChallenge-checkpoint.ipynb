{
 "cells": [
  {
   "cell_type": "markdown",
   "metadata": {},
   "source": [
    "# Amadeus Data Challenge"
   ]
  },
  {
   "cell_type": "markdown",
   "metadata": {},
   "source": [
    "## Lorenzo von Ritter"
   ]
  },
  {
   "cell_type": "code",
   "execution_count": 1,
   "metadata": {
    "collapsed": true
   },
   "outputs": [],
   "source": [
    "import pandas as pd\n",
    "import numpy as np\n",
    "import matplotlib.pyplot as plt"
   ]
  },
  {
   "cell_type": "code",
   "execution_count": 2,
   "metadata": {
    "collapsed": true
   },
   "outputs": [],
   "source": [
    "%matplotlib inline"
   ]
  },
  {
   "cell_type": "code",
   "execution_count": 4,
   "metadata": {
    "collapsed": false
   },
   "outputs": [
    {
     "name": "stdout",
     "output_type": "stream",
     "text": [
      "CPU times: user 2min 56s, sys: 6.62 s, total: 3min 3s\n",
      "Wall time: 3min 32s\n"
     ]
    }
   ],
   "source": [
    "time searches = pd.read_csv(\"../Files/searches.csv\", sep=\"^\", nrows=8000000, usecols=['Date','Time','TxnCode','OfficeID','Country','Origin','Destination','RoundTrip'], parse_dates=[['Date','Time']], dtype={'TxnCode': object, 'OfficeID': object, 'Country': object, 'Origin': object,'Destination': object, 'RoundTrip': np.float64, })"
   ]
  },
  {
   "cell_type": "markdown",
   "metadata": {},
   "source": [
    "##### before importing bookings, remove whitespaces before the delimiter from the original file with $sed 's/\\s*^/^/g' bookings.csv > bookingsClean.csv"
   ]
  },
  {
   "cell_type": "code",
   "execution_count": 5,
   "metadata": {
    "collapsed": false
   },
   "outputs": [
    {
     "name": "stdout",
     "output_type": "stream",
     "text": [
      "CPU times: user 8min 47s, sys: 18.6 s, total: 9min 5s\n",
      "Wall time: 11min 10s\n"
     ]
    }
   ],
   "source": [
    "time bookings = pd.read_csv(\"../Files/bookingsClean.csv\", sep=\"^\", usecols=['act_date','source','dep_port','arr_port','arr_city','pax', 'off_time'], parse_dates=['act_date','off_time'], dtype={'dep_port': object, 'arr_port': object, 'arr_city': object, 'pax': np.float64})"
   ]
  },
  {
   "cell_type": "markdown",
   "metadata": {},
   "source": [
    "###Exercise 1: Count the number of lines"
   ]
  },
  {
   "cell_type": "markdown",
   "metadata": {},
   "source": [
    "##### compare shape and count()"
   ]
  },
  {
   "cell_type": "code",
   "execution_count": 6,
   "metadata": {
    "collapsed": false
   },
   "outputs": [
    {
     "name": "stdout",
     "output_type": "stream",
     "text": [
      "CPU times: user 840 µs, sys: 31 µs, total: 871 µs\n",
      "Wall time: 31.5 ms\n"
     ]
    },
    {
     "data": {
      "text/plain": [
       "8000000"
      ]
     },
     "execution_count": 6,
     "metadata": {},
     "output_type": "execute_result"
    }
   ],
   "source": [
    "time searches.shape[0]"
   ]
  },
  {
   "cell_type": "code",
   "execution_count": 7,
   "metadata": {
    "collapsed": false,
    "scrolled": true
   },
   "outputs": [
    {
     "name": "stdout",
     "output_type": "stream",
     "text": [
      "CPU times: user 6.95 s, sys: 1.82 s, total: 8.77 s\n",
      "Wall time: 50.9 s\n"
     ]
    },
    {
     "data": {
      "text/plain": [
       "Date_Time      8000000\n",
       "TxnCode        7999988\n",
       "OfficeID       7999988\n",
       "Country        7999027\n",
       "Origin         7999988\n",
       "Destination    7999988\n",
       "RoundTrip      7999988\n",
       "dtype: int64"
      ]
     },
     "execution_count": 7,
     "metadata": {},
     "output_type": "execute_result"
    }
   ],
   "source": [
    "time searches.count()"
   ]
  },
  {
   "cell_type": "markdown",
   "metadata": {},
   "source": [
    "##### shape is quicker than count(), but count will exclude NaN values. However, we only want to know the number of rows"
   ]
  },
  {
   "cell_type": "code",
   "execution_count": 8,
   "metadata": {
    "collapsed": false
   },
   "outputs": [
    {
     "data": {
      "text/plain": [
       "8000000"
      ]
     },
     "execution_count": 8,
     "metadata": {},
     "output_type": "execute_result"
    }
   ],
   "source": [
    "searchesSize = searches.shape[0]\n",
    "searchesSize"
   ]
  },
  {
   "cell_type": "code",
   "execution_count": 9,
   "metadata": {
    "collapsed": false
   },
   "outputs": [
    {
     "data": {
      "text/plain": [
       "10000010"
      ]
     },
     "execution_count": 9,
     "metadata": {},
     "output_type": "execute_result"
    }
   ],
   "source": [
    "bookingsSize = bookings.shape[0]\n",
    "bookingsSize"
   ]
  },
  {
   "cell_type": "markdown",
   "metadata": {},
   "source": [
    "### Execise 2: Top 10 airports"
   ]
  },
  {
   "cell_type": "code",
   "execution_count": 10,
   "metadata": {
    "collapsed": false
   },
   "outputs": [],
   "source": [
    "airports = bookings.groupby('arr_port').pax.count()\n",
    "airports.sort(ascending=0)"
   ]
  },
  {
   "cell_type": "code",
   "execution_count": 11,
   "metadata": {
    "collapsed": false
   },
   "outputs": [
    {
     "data": {
      "text/plain": [
       "arr_port\n",
       "LHR         215551\n",
       "JFK         158930\n",
       "CDG         149390\n",
       "LAX         143220\n",
       "DXB         135640\n",
       "BKK         130420\n",
       "MIA         117820\n",
       "SFO         110970\n",
       "MNL         109530\n",
       "ORD          99750\n",
       "dtype: int64"
      ]
     },
     "execution_count": 11,
     "metadata": {},
     "output_type": "execute_result"
    }
   ],
   "source": [
    "airports[0:10]"
   ]
  },
  {
   "cell_type": "markdown",
   "metadata": {},
   "source": [
    "### Exercise 3: Monthly arrivals in Málaga, Madrid and Barcelona"
   ]
  },
  {
   "cell_type": "code",
   "execution_count": 12,
   "metadata": {
    "collapsed": false
   },
   "outputs": [
    {
     "data": {
      "text/plain": [
       "Date_Time       object\n",
       "TxnCode         object\n",
       "OfficeID        object\n",
       "Country         object\n",
       "Origin          object\n",
       "Destination     object\n",
       "RoundTrip      float64\n",
       "dtype: object"
      ]
     },
     "execution_count": 12,
     "metadata": {},
     "output_type": "execute_result"
    }
   ],
   "source": [
    "searches.dtypes"
   ]
  },
  {
   "cell_type": "markdown",
   "metadata": {},
   "source": [
    "##### make date column of type datetime"
   ]
  },
  {
   "cell_type": "code",
   "execution_count": 14,
   "metadata": {
    "collapsed": false
   },
   "outputs": [],
   "source": [
    "searches.Date_Time = pd.to_datetime(searches.Date_Time)"
   ]
  },
  {
   "cell_type": "code",
   "execution_count": 15,
   "metadata": {
    "collapsed": false
   },
   "outputs": [
    {
     "data": {
      "text/plain": [
       "Date_Time       object\n",
       "TxnCode         object\n",
       "OfficeID        object\n",
       "Country         object\n",
       "Origin          object\n",
       "Destination     object\n",
       "RoundTrip      float64\n",
       "dtype: object"
      ]
     },
     "execution_count": 15,
     "metadata": {},
     "output_type": "execute_result"
    }
   ],
   "source": [
    "searches.dtypes"
   ]
  },
  {
   "cell_type": "markdown",
   "metadata": {},
   "source": [
    "##### did not work"
   ]
  },
  {
   "cell_type": "code",
   "execution_count": 16,
   "metadata": {
    "collapsed": true
   },
   "outputs": [],
   "source": [
    "special_searches = searches[(searches[\"Destination\"] == \"AGP\") | (searches[\"Destination\"] == \"BCN\") | (searches[\"Destination\"] == \"MAD\") | (searches[\"Destination\"] == \"TOJ\")]"
   ]
  },
  {
   "cell_type": "code",
   "execution_count": 18,
   "metadata": {
    "collapsed": false
   },
   "outputs": [
    {
     "data": {
      "text/plain": [
       "dtype('O')"
      ]
     },
     "execution_count": 18,
     "metadata": {},
     "output_type": "execute_result"
    }
   ],
   "source": [
    "datecount = special_searches.groupby(['Date_Time','Destination']).Date_Time.count()\n",
    "datecount = datecount.unstack('Destination')\n",
    "datecount.index.dtype"
   ]
  },
  {
   "cell_type": "code",
   "execution_count": 19,
   "metadata": {
    "collapsed": false
   },
   "outputs": [
    {
     "data": {
      "text/plain": [
       "dtype('<M8[ns]')"
      ]
     },
     "execution_count": 19,
     "metadata": {},
     "output_type": "execute_result"
    }
   ],
   "source": [
    "datecount.index = pd.to_datetime(datecount.index)\n",
    "datecount.index.dtype"
   ]
  },
  {
   "cell_type": "markdown",
   "metadata": {},
   "source": [
    "##### now it worked"
   ]
  },
  {
   "cell_type": "code",
   "execution_count": 20,
   "metadata": {
    "collapsed": false
   },
   "outputs": [
    {
     "data": {
      "text/html": [
       "<div style=\"max-height:1000px;max-width:1500px;overflow:auto;\">\n",
       "<table border=\"1\" class=\"dataframe\">\n",
       "  <thead>\n",
       "    <tr style=\"text-align: right;\">\n",
       "      <th>Destination</th>\n",
       "      <th>AGP</th>\n",
       "      <th>BCN</th>\n",
       "      <th>MAD</th>\n",
       "      <th>TOJ</th>\n",
       "    </tr>\n",
       "  </thead>\n",
       "  <tbody>\n",
       "    <tr>\n",
       "      <th>2013-01-31</th>\n",
       "      <td> 3887</td>\n",
       "      <td> 11891</td>\n",
       "      <td>  9787</td>\n",
       "      <td>NaN</td>\n",
       "    </tr>\n",
       "    <tr>\n",
       "      <th>2013-02-28</th>\n",
       "      <td> 3381</td>\n",
       "      <td> 11431</td>\n",
       "      <td>  9200</td>\n",
       "      <td>NaN</td>\n",
       "    </tr>\n",
       "    <tr>\n",
       "      <th>2013-03-31</th>\n",
       "      <td> 4301</td>\n",
       "      <td> 12328</td>\n",
       "      <td>  9959</td>\n",
       "      <td>NaN</td>\n",
       "    </tr>\n",
       "    <tr>\n",
       "      <th>2013-04-30</th>\n",
       "      <td> 3235</td>\n",
       "      <td> 12264</td>\n",
       "      <td>  9924</td>\n",
       "      <td>NaN</td>\n",
       "    </tr>\n",
       "    <tr>\n",
       "      <th>2013-05-31</th>\n",
       "      <td> 4180</td>\n",
       "      <td> 11088</td>\n",
       "      <td> 10164</td>\n",
       "      <td>NaN</td>\n",
       "    </tr>\n",
       "    <tr>\n",
       "      <th>2013-06-30</th>\n",
       "      <td> 3058</td>\n",
       "      <td> 10230</td>\n",
       "      <td>  8800</td>\n",
       "      <td>NaN</td>\n",
       "    </tr>\n",
       "    <tr>\n",
       "      <th>2013-07-31</th>\n",
       "      <td> 3432</td>\n",
       "      <td> 11286</td>\n",
       "      <td>  8866</td>\n",
       "      <td>NaN</td>\n",
       "    </tr>\n",
       "    <tr>\n",
       "      <th>2013-08-31</th>\n",
       "      <td> 3036</td>\n",
       "      <td> 10450</td>\n",
       "      <td>  8426</td>\n",
       "      <td> 22</td>\n",
       "    </tr>\n",
       "    <tr>\n",
       "      <th>2013-09-30</th>\n",
       "      <td> 3146</td>\n",
       "      <td>  9042</td>\n",
       "      <td>  8162</td>\n",
       "      <td> 22</td>\n",
       "    </tr>\n",
       "    <tr>\n",
       "      <th>2013-10-31</th>\n",
       "      <td> 2530</td>\n",
       "      <td>  7898</td>\n",
       "      <td>  8690</td>\n",
       "      <td>NaN</td>\n",
       "    </tr>\n",
       "    <tr>\n",
       "      <th>2013-11-30</th>\n",
       "      <td> 2508</td>\n",
       "      <td>  7788</td>\n",
       "      <td>  7964</td>\n",
       "      <td>NaN</td>\n",
       "    </tr>\n",
       "    <tr>\n",
       "      <th>2013-12-31</th>\n",
       "      <td> 1452</td>\n",
       "      <td>  6050</td>\n",
       "      <td>  5698</td>\n",
       "      <td>NaN</td>\n",
       "    </tr>\n",
       "  </tbody>\n",
       "</table>\n",
       "<p>12 rows × 4 columns</p>\n",
       "</div>"
      ],
      "text/plain": [
       "Destination   AGP    BCN    MAD  TOJ\n",
       "2013-01-31   3887  11891   9787  NaN\n",
       "2013-02-28   3381  11431   9200  NaN\n",
       "2013-03-31   4301  12328   9959  NaN\n",
       "2013-04-30   3235  12264   9924  NaN\n",
       "2013-05-31   4180  11088  10164  NaN\n",
       "2013-06-30   3058  10230   8800  NaN\n",
       "2013-07-31   3432  11286   8866  NaN\n",
       "2013-08-31   3036  10450   8426   22\n",
       "2013-09-30   3146   9042   8162   22\n",
       "2013-10-31   2530   7898   8690  NaN\n",
       "2013-11-30   2508   7788   7964  NaN\n",
       "2013-12-31   1452   6050   5698  NaN\n",
       "\n",
       "[12 rows x 4 columns]"
      ]
     },
     "execution_count": 20,
     "metadata": {},
     "output_type": "execute_result"
    }
   ],
   "source": [
    "monthcount = datecount.resample('M', how=sum)\n",
    "monthcount"
   ]
  },
  {
   "cell_type": "code",
   "execution_count": 21,
   "metadata": {
    "collapsed": false
   },
   "outputs": [
    {
     "data": {
      "text/plain": [
       "<matplotlib.axes.AxesSubplot at 0x7f01c9e197d0>"
      ]
     },
     "execution_count": 21,
     "metadata": {},
     "output_type": "execute_result"
    },
    {
     "data": {
      "image/png": "[encoded data removed]",
      "text/plain": [
       "<matplotlib.figure.Figure at 0x7f01d2a4ed10>"
      ]
     },
     "metadata": {},
     "output_type": "display_data"
    }
   ],
   "source": [
    "monthcount.plot()"
   ]
  },
  {
   "cell_type": "markdown",
   "metadata": {},
   "source": [
    "### Exercise 4: Join DataFrames"
   ]
  },
  {
   "cell_type": "markdown",
   "metadata": {},
   "source": [
    "##### only take bookings, no cancellations"
   ]
  },
  {
   "cell_type": "code",
   "execution_count": 23,
   "metadata": {
    "collapsed": false
   },
   "outputs": [],
   "source": [
    "positiveBookings = bookings[bookings['pax']>0]"
   ]
  },
  {
   "cell_type": "code",
   "execution_count": 24,
   "metadata": {
    "collapsed": false
   },
   "outputs": [
    {
     "ename": "MemoryError",
     "evalue": "",
     "output_type": "error",
     "traceback": [
      "\u001b[1;31m---------------------------------------------------------------------------\u001b[0m",
      "\u001b[1;31mMemoryError\u001b[0m                               Traceback (most recent call last)",
      "\u001b[1;32m<ipython-input-24-2dc0b3fe5386>\u001b[0m in \u001b[0;36m<module>\u001b[1;34m()\u001b[0m\n\u001b[1;32m----> 1\u001b[1;33m \u001b[0mbookedSearches\u001b[0m \u001b[1;33m=\u001b[0m \u001b[0mpd\u001b[0m\u001b[1;33m.\u001b[0m\u001b[0mmerge\u001b[0m\u001b[1;33m(\u001b[0m\u001b[0msearches\u001b[0m\u001b[1;33m,\u001b[0m \u001b[0mpositiveBookings\u001b[0m\u001b[1;33m,\u001b[0m \u001b[0mleft_on\u001b[0m\u001b[1;33m=\u001b[0m\u001b[1;33m[\u001b[0m\u001b[1;34m'Origin'\u001b[0m\u001b[1;33m,\u001b[0m\u001b[1;34m'Destination'\u001b[0m\u001b[1;33m]\u001b[0m\u001b[1;33m,\u001b[0m \u001b[0mright_on\u001b[0m\u001b[1;33m=\u001b[0m\u001b[1;33m[\u001b[0m\u001b[1;34m'dep_port'\u001b[0m\u001b[1;33m,\u001b[0m\u001b[1;34m'arr_port'\u001b[0m\u001b[1;33m]\u001b[0m\u001b[1;33m)\u001b[0m\u001b[1;33m\u001b[0m\u001b[0m\n\u001b[0m",
      "\u001b[1;32m/usr/lib/python2.7/dist-packages/pandas/tools/merge.pyc\u001b[0m in \u001b[0;36mmerge\u001b[1;34m(left, right, how, on, left_on, right_on, left_index, right_index, sort, suffixes, copy)\u001b[0m\n\u001b[0;32m     38\u001b[0m                          \u001b[0mright_index\u001b[0m\u001b[1;33m=\u001b[0m\u001b[0mright_index\u001b[0m\u001b[1;33m,\u001b[0m \u001b[0msort\u001b[0m\u001b[1;33m=\u001b[0m\u001b[0msort\u001b[0m\u001b[1;33m,\u001b[0m \u001b[0msuffixes\u001b[0m\u001b[1;33m=\u001b[0m\u001b[0msuffixes\u001b[0m\u001b[1;33m,\u001b[0m\u001b[1;33m\u001b[0m\u001b[0m\n\u001b[0;32m     39\u001b[0m                          copy=copy)\n\u001b[1;32m---> 40\u001b[1;33m     \u001b[1;32mreturn\u001b[0m \u001b[0mop\u001b[0m\u001b[1;33m.\u001b[0m\u001b[0mget_result\u001b[0m\u001b[1;33m(\u001b[0m\u001b[1;33m)\u001b[0m\u001b[1;33m\u001b[0m\u001b[0m\n\u001b[0m\u001b[0;32m     41\u001b[0m \u001b[1;32mif\u001b[0m \u001b[0m__debug__\u001b[0m\u001b[1;33m:\u001b[0m\u001b[1;33m\u001b[0m\u001b[0m\n\u001b[0;32m     42\u001b[0m     \u001b[0mmerge\u001b[0m\u001b[1;33m.\u001b[0m\u001b[0m__doc__\u001b[0m \u001b[1;33m=\u001b[0m \u001b[0m_merge_doc\u001b[0m \u001b[1;33m%\u001b[0m \u001b[1;34m'\\nleft : DataFrame'\u001b[0m\u001b[1;33m\u001b[0m\u001b[0m\n",
      "\u001b[1;32m/usr/lib/python2.7/dist-packages/pandas/tools/merge.pyc\u001b[0m in \u001b[0;36mget_result\u001b[1;34m(self)\u001b[0m\n\u001b[0;32m    184\u001b[0m \u001b[1;33m\u001b[0m\u001b[0m\n\u001b[0;32m    185\u001b[0m     \u001b[1;32mdef\u001b[0m \u001b[0mget_result\u001b[0m\u001b[1;33m(\u001b[0m\u001b[0mself\u001b[0m\u001b[1;33m)\u001b[0m\u001b[1;33m:\u001b[0m\u001b[1;33m\u001b[0m\u001b[0m\n\u001b[1;32m--> 186\u001b[1;33m         \u001b[0mjoin_index\u001b[0m\u001b[1;33m,\u001b[0m \u001b[0mleft_indexer\u001b[0m\u001b[1;33m,\u001b[0m \u001b[0mright_indexer\u001b[0m \u001b[1;33m=\u001b[0m \u001b[0mself\u001b[0m\u001b[1;33m.\u001b[0m\u001b[0m_get_join_info\u001b[0m\u001b[1;33m(\u001b[0m\u001b[1;33m)\u001b[0m\u001b[1;33m\u001b[0m\u001b[0m\n\u001b[0m\u001b[0;32m    187\u001b[0m \u001b[1;33m\u001b[0m\u001b[0m\n\u001b[0;32m    188\u001b[0m         \u001b[1;31m# this is a bit kludgy\u001b[0m\u001b[1;33m\u001b[0m\u001b[1;33m\u001b[0m\u001b[0m\n",
      "\u001b[1;32m/usr/lib/python2.7/dist-packages/pandas/tools/merge.pyc\u001b[0m in \u001b[0;36m_get_join_info\u001b[1;34m(self)\u001b[0m\n\u001b[0;32m    264\u001b[0m              \u001b[0mright_indexer\u001b[0m\u001b[1;33m)\u001b[0m \u001b[1;33m=\u001b[0m \u001b[0m_get_join_indexers\u001b[0m\u001b[1;33m(\u001b[0m\u001b[0mself\u001b[0m\u001b[1;33m.\u001b[0m\u001b[0mleft_join_keys\u001b[0m\u001b[1;33m,\u001b[0m\u001b[1;33m\u001b[0m\u001b[0m\n\u001b[0;32m    265\u001b[0m                                                  \u001b[0mself\u001b[0m\u001b[1;33m.\u001b[0m\u001b[0mright_join_keys\u001b[0m\u001b[1;33m,\u001b[0m\u001b[1;33m\u001b[0m\u001b[0m\n\u001b[1;32m--> 266\u001b[1;33m                                                  sort=self.sort, how=self.how)\n\u001b[0m\u001b[0;32m    267\u001b[0m \u001b[1;33m\u001b[0m\u001b[0m\n\u001b[0;32m    268\u001b[0m             \u001b[1;32mif\u001b[0m \u001b[0mself\u001b[0m\u001b[1;33m.\u001b[0m\u001b[0mright_index\u001b[0m\u001b[1;33m:\u001b[0m\u001b[1;33m\u001b[0m\u001b[0m\n",
      "\u001b[1;32m/usr/lib/python2.7/dist-packages/pandas/tools/merge.pyc\u001b[0m in \u001b[0;36m_get_join_indexers\u001b[1;34m(left_keys, right_keys, sort, how)\u001b[0m\n\u001b[0;32m    463\u001b[0m \u001b[1;33m\u001b[0m\u001b[0m\n\u001b[0;32m    464\u001b[0m     \u001b[0mjoin_func\u001b[0m \u001b[1;33m=\u001b[0m \u001b[0m_join_functions\u001b[0m\u001b[1;33m[\u001b[0m\u001b[0mhow\u001b[0m\u001b[1;33m]\u001b[0m\u001b[1;33m\u001b[0m\u001b[0m\n\u001b[1;32m--> 465\u001b[1;33m     \u001b[1;32mreturn\u001b[0m \u001b[0mjoin_func\u001b[0m\u001b[1;33m(\u001b[0m\u001b[0mleft_group_key\u001b[0m\u001b[1;33m,\u001b[0m \u001b[0mright_group_key\u001b[0m\u001b[1;33m,\u001b[0m \u001b[0mmax_groups\u001b[0m\u001b[1;33m)\u001b[0m\u001b[1;33m\u001b[0m\u001b[0m\n\u001b[0m\u001b[0;32m    466\u001b[0m \u001b[1;33m\u001b[0m\u001b[0m\n\u001b[0;32m    467\u001b[0m \u001b[1;33m\u001b[0m\u001b[0m\n",
      "\u001b[1;32mjoin.pyx\u001b[0m in \u001b[0;36mpandas.algos.inner_join (pandas/algos.c:33510)\u001b[1;34m()\u001b[0m\n",
      "\u001b[1;31mMemoryError\u001b[0m: "
     ]
    }
   ],
   "source": [
    "bookedSearches = pd.merge(searches, positiveBookings, left_on=['Origin','Destination'], right_on=['dep_port','arr_port'])"
   ]
  },
  {
   "cell_type": "markdown",
   "metadata": {},
   "source": [
    "##### only take bookings that took place after the search (else the search did not lead to the booking)"
   ]
  },
  {
   "cell_type": "code",
   "execution_count": 85,
   "metadata": {
    "collapsed": false
   },
   "outputs": [
    {
     "data": {
      "text/html": [
       "<div style=\"max-height:1000px;max-width:1500px;overflow:auto;\">\n",
       "<table border=\"1\" class=\"dataframe\">\n",
       "  <thead>\n",
       "    <tr style=\"text-align: right;\">\n",
       "      <th></th>\n",
       "      <th>Date_Time</th>\n",
       "      <th>Origin</th>\n",
       "      <th>Destination</th>\n",
       "      <th>act_date</th>\n",
       "      <th>source</th>\n",
       "      <th>dep_port</th>\n",
       "      <th>arr_port</th>\n",
       "      <th>arr_city</th>\n",
       "      <th>off_time</th>\n",
       "      <th>pax</th>\n",
       "    </tr>\n",
       "  </thead>\n",
       "  <tbody>\n",
       "    <tr>\n",
       "      <th>0 </th>\n",
       "      <td>2013-01-01 18:33:28</td>\n",
       "      <td> RUH</td>\n",
       "      <td> JED</td>\n",
       "      <td>2013-03-12</td>\n",
       "      <td> 1A</td>\n",
       "      <td> RUH</td>\n",
       "      <td> JED</td>\n",
       "      <td> JED</td>\n",
       "      <td>2013-03-13 05:48:05</td>\n",
       "      <td> 1</td>\n",
       "    </tr>\n",
       "    <tr>\n",
       "      <th>1 </th>\n",
       "      <td>2013-01-01 18:33:28</td>\n",
       "      <td> RUH</td>\n",
       "      <td> JED</td>\n",
       "      <td>2013-03-12</td>\n",
       "      <td> 1A</td>\n",
       "      <td> RUH</td>\n",
       "      <td> JED</td>\n",
       "      <td> JED</td>\n",
       "      <td>2013-03-14 02:48:05</td>\n",
       "      <td> 1</td>\n",
       "    </tr>\n",
       "    <tr>\n",
       "      <th>2 </th>\n",
       "      <td>2013-01-01 12:55:53</td>\n",
       "      <td> RUH</td>\n",
       "      <td> JED</td>\n",
       "      <td>2013-03-12</td>\n",
       "      <td> 1A</td>\n",
       "      <td> RUH</td>\n",
       "      <td> JED</td>\n",
       "      <td> JED</td>\n",
       "      <td>2013-03-13 05:48:05</td>\n",
       "      <td> 1</td>\n",
       "    </tr>\n",
       "    <tr>\n",
       "      <th>3 </th>\n",
       "      <td>2013-01-01 12:55:53</td>\n",
       "      <td> RUH</td>\n",
       "      <td> JED</td>\n",
       "      <td>2013-03-12</td>\n",
       "      <td> 1A</td>\n",
       "      <td> RUH</td>\n",
       "      <td> JED</td>\n",
       "      <td> JED</td>\n",
       "      <td>2013-03-14 02:48:05</td>\n",
       "      <td> 1</td>\n",
       "    </tr>\n",
       "    <tr>\n",
       "      <th>4 </th>\n",
       "      <td>2013-01-01 01:44:37</td>\n",
       "      <td> CPH</td>\n",
       "      <td> BKK</td>\n",
       "      <td>2013-03-22</td>\n",
       "      <td> 1P</td>\n",
       "      <td> CPH</td>\n",
       "      <td> BKK</td>\n",
       "      <td> BKK</td>\n",
       "      <td>2013-04-10 06:22:14</td>\n",
       "      <td> 1</td>\n",
       "    </tr>\n",
       "    <tr>\n",
       "      <th>5 </th>\n",
       "      <td>2013-01-01 01:44:37</td>\n",
       "      <td> CPH</td>\n",
       "      <td> BKK</td>\n",
       "      <td>2013-03-22</td>\n",
       "      <td> 1P</td>\n",
       "      <td> CPH</td>\n",
       "      <td> BKK</td>\n",
       "      <td> BKK</td>\n",
       "      <td>2013-04-17 07:17:14</td>\n",
       "      <td> 1</td>\n",
       "    </tr>\n",
       "    <tr>\n",
       "      <th>6 </th>\n",
       "      <td>2013-01-01 16:37:44</td>\n",
       "      <td> CPH</td>\n",
       "      <td> BKK</td>\n",
       "      <td>2013-03-22</td>\n",
       "      <td> 1P</td>\n",
       "      <td> CPH</td>\n",
       "      <td> BKK</td>\n",
       "      <td> BKK</td>\n",
       "      <td>2013-04-10 06:22:14</td>\n",
       "      <td> 1</td>\n",
       "    </tr>\n",
       "    <tr>\n",
       "      <th>7 </th>\n",
       "      <td>2013-01-01 16:37:44</td>\n",
       "      <td> CPH</td>\n",
       "      <td> BKK</td>\n",
       "      <td>2013-03-22</td>\n",
       "      <td> 1P</td>\n",
       "      <td> CPH</td>\n",
       "      <td> BKK</td>\n",
       "      <td> BKK</td>\n",
       "      <td>2013-04-17 07:17:14</td>\n",
       "      <td> 1</td>\n",
       "    </tr>\n",
       "    <tr>\n",
       "      <th>8 </th>\n",
       "      <td>2013-01-01 15:06:24</td>\n",
       "      <td> CPH</td>\n",
       "      <td> BKK</td>\n",
       "      <td>2013-03-22</td>\n",
       "      <td> 1P</td>\n",
       "      <td> CPH</td>\n",
       "      <td> BKK</td>\n",
       "      <td> BKK</td>\n",
       "      <td>2013-04-10 06:22:14</td>\n",
       "      <td> 1</td>\n",
       "    </tr>\n",
       "    <tr>\n",
       "      <th>9 </th>\n",
       "      <td>2013-01-01 15:06:24</td>\n",
       "      <td> CPH</td>\n",
       "      <td> BKK</td>\n",
       "      <td>2013-03-22</td>\n",
       "      <td> 1P</td>\n",
       "      <td> CPH</td>\n",
       "      <td> BKK</td>\n",
       "      <td> BKK</td>\n",
       "      <td>2013-04-17 07:17:14</td>\n",
       "      <td> 1</td>\n",
       "    </tr>\n",
       "    <tr>\n",
       "      <th>10</th>\n",
       "      <td>2013-01-01 10:32:29</td>\n",
       "      <td> LHR</td>\n",
       "      <td> JFK</td>\n",
       "      <td>2013-03-18</td>\n",
       "      <td> 1G</td>\n",
       "      <td> LHR</td>\n",
       "      <td> JFK</td>\n",
       "      <td> NYC</td>\n",
       "      <td>2013-05-05 13:43:46</td>\n",
       "      <td> 1</td>\n",
       "    </tr>\n",
       "    <tr>\n",
       "      <th>11</th>\n",
       "      <td>2013-01-01 10:32:29</td>\n",
       "      <td> LHR</td>\n",
       "      <td> JFK</td>\n",
       "      <td>2013-03-18</td>\n",
       "      <td> 1G</td>\n",
       "      <td> LHR</td>\n",
       "      <td> JFK</td>\n",
       "      <td> NYC</td>\n",
       "      <td>2013-05-10 21:48:46</td>\n",
       "      <td> 1</td>\n",
       "    </tr>\n",
       "    <tr>\n",
       "      <th>12</th>\n",
       "      <td>2013-01-01 21:53:32</td>\n",
       "      <td> LHR</td>\n",
       "      <td> JFK</td>\n",
       "      <td>2013-03-18</td>\n",
       "      <td> 1G</td>\n",
       "      <td> LHR</td>\n",
       "      <td> JFK</td>\n",
       "      <td> NYC</td>\n",
       "      <td>2013-05-05 13:43:46</td>\n",
       "      <td> 1</td>\n",
       "    </tr>\n",
       "    <tr>\n",
       "      <th>13</th>\n",
       "      <td>2013-01-01 21:53:32</td>\n",
       "      <td> LHR</td>\n",
       "      <td> JFK</td>\n",
       "      <td>2013-03-18</td>\n",
       "      <td> 1G</td>\n",
       "      <td> LHR</td>\n",
       "      <td> JFK</td>\n",
       "      <td> NYC</td>\n",
       "      <td>2013-05-10 21:48:46</td>\n",
       "      <td> 1</td>\n",
       "    </tr>\n",
       "    <tr>\n",
       "      <th>14</th>\n",
       "      <td>2013-01-01 10:16:26</td>\n",
       "      <td> HEL</td>\n",
       "      <td> AYT</td>\n",
       "      <td>2013-03-27</td>\n",
       "      <td> 1A</td>\n",
       "      <td> HEL</td>\n",
       "      <td> AYT</td>\n",
       "      <td> AYT</td>\n",
       "      <td>2013-05-29 19:27:12</td>\n",
       "      <td> 2</td>\n",
       "    </tr>\n",
       "    <tr>\n",
       "      <th>15</th>\n",
       "      <td>2013-01-01 10:16:26</td>\n",
       "      <td> HEL</td>\n",
       "      <td> AYT</td>\n",
       "      <td>2013-03-27</td>\n",
       "      <td> 1A</td>\n",
       "      <td> HEL</td>\n",
       "      <td> AYT</td>\n",
       "      <td> AYT</td>\n",
       "      <td>2013-06-22 17:20:50</td>\n",
       "      <td> 2</td>\n",
       "    </tr>\n",
       "    <tr>\n",
       "      <th>16</th>\n",
       "      <td>2013-01-01 10:16:26</td>\n",
       "      <td> HEL</td>\n",
       "      <td> AYT</td>\n",
       "      <td>2013-03-28</td>\n",
       "      <td> 1A</td>\n",
       "      <td> HEL</td>\n",
       "      <td> AYT</td>\n",
       "      <td> AYT</td>\n",
       "      <td>2013-05-29 19:27:12</td>\n",
       "      <td> 2</td>\n",
       "    </tr>\n",
       "    <tr>\n",
       "      <th>17</th>\n",
       "      <td>2013-01-01 10:46:21</td>\n",
       "      <td> FRA</td>\n",
       "      <td> MAD</td>\n",
       "      <td>2013-03-27</td>\n",
       "      <td> 1A</td>\n",
       "      <td> FRA</td>\n",
       "      <td> MAD</td>\n",
       "      <td> MAD</td>\n",
       "      <td>2013-04-28 21:43:11</td>\n",
       "      <td> 1</td>\n",
       "    </tr>\n",
       "    <tr>\n",
       "      <th>18</th>\n",
       "      <td>2013-01-01 10:46:21</td>\n",
       "      <td> FRA</td>\n",
       "      <td> MAD</td>\n",
       "      <td>2013-03-27</td>\n",
       "      <td> 1A</td>\n",
       "      <td> FRA</td>\n",
       "      <td> MAD</td>\n",
       "      <td> MAD</td>\n",
       "      <td>2013-06-03 11:23:11</td>\n",
       "      <td> 1</td>\n",
       "    </tr>\n",
       "    <tr>\n",
       "      <th>19</th>\n",
       "      <td>2013-01-01 22:32:58</td>\n",
       "      <td> FRA</td>\n",
       "      <td> MAD</td>\n",
       "      <td>2013-03-27</td>\n",
       "      <td> 1A</td>\n",
       "      <td> FRA</td>\n",
       "      <td> MAD</td>\n",
       "      <td> MAD</td>\n",
       "      <td>2013-04-28 21:43:11</td>\n",
       "      <td> 1</td>\n",
       "    </tr>\n",
       "    <tr>\n",
       "      <th>20</th>\n",
       "      <td>2013-01-01 22:32:58</td>\n",
       "      <td> FRA</td>\n",
       "      <td> MAD</td>\n",
       "      <td>2013-03-27</td>\n",
       "      <td> 1A</td>\n",
       "      <td> FRA</td>\n",
       "      <td> MAD</td>\n",
       "      <td> MAD</td>\n",
       "      <td>2013-06-03 11:23:11</td>\n",
       "      <td> 1</td>\n",
       "    </tr>\n",
       "    <tr>\n",
       "      <th>21</th>\n",
       "      <td>2013-01-02 21:53:08</td>\n",
       "      <td> FRA</td>\n",
       "      <td> MAD</td>\n",
       "      <td>2013-03-27</td>\n",
       "      <td> 1A</td>\n",
       "      <td> FRA</td>\n",
       "      <td> MAD</td>\n",
       "      <td> MAD</td>\n",
       "      <td>2013-04-28 21:43:11</td>\n",
       "      <td> 1</td>\n",
       "    </tr>\n",
       "    <tr>\n",
       "      <th>22</th>\n",
       "      <td>2013-01-02 21:53:08</td>\n",
       "      <td> FRA</td>\n",
       "      <td> MAD</td>\n",
       "      <td>2013-03-27</td>\n",
       "      <td> 1A</td>\n",
       "      <td> FRA</td>\n",
       "      <td> MAD</td>\n",
       "      <td> MAD</td>\n",
       "      <td>2013-06-03 11:23:11</td>\n",
       "      <td> 1</td>\n",
       "    </tr>\n",
       "    <tr>\n",
       "      <th>23</th>\n",
       "      <td>2013-01-01 20:18:28</td>\n",
       "      <td> VLC</td>\n",
       "      <td> FUE</td>\n",
       "      <td>2013-03-04</td>\n",
       "      <td> 1A</td>\n",
       "      <td> VLC</td>\n",
       "      <td> FUE</td>\n",
       "      <td> FUE</td>\n",
       "      <td>2013-03-31 16:43:22</td>\n",
       "      <td> 2</td>\n",
       "    </tr>\n",
       "    <tr>\n",
       "      <th>24</th>\n",
       "      <td>2013-01-01 20:18:28</td>\n",
       "      <td> VLC</td>\n",
       "      <td> FUE</td>\n",
       "      <td>2013-03-06</td>\n",
       "      <td> 1A</td>\n",
       "      <td> VLC</td>\n",
       "      <td> FUE</td>\n",
       "      <td> FUE</td>\n",
       "      <td>2013-03-31 16:43:22</td>\n",
       "      <td> 2</td>\n",
       "    </tr>\n",
       "    <tr>\n",
       "      <th>25</th>\n",
       "      <td>2013-01-01 12:26:40</td>\n",
       "      <td> YYC</td>\n",
       "      <td> YYZ</td>\n",
       "      <td>2013-03-18</td>\n",
       "      <td> 1V</td>\n",
       "      <td> YYC</td>\n",
       "      <td> YYZ</td>\n",
       "      <td> YTO</td>\n",
       "      <td>2013-03-22 15:57:42</td>\n",
       "      <td> 1</td>\n",
       "    </tr>\n",
       "    <tr>\n",
       "      <th>26</th>\n",
       "      <td>2013-01-01 12:26:40</td>\n",
       "      <td> YYC</td>\n",
       "      <td> YYZ</td>\n",
       "      <td>2013-03-18</td>\n",
       "      <td> 1V</td>\n",
       "      <td> YYC</td>\n",
       "      <td> YYZ</td>\n",
       "      <td> YTO</td>\n",
       "      <td>2013-03-24 23:42:42</td>\n",
       "      <td> 1</td>\n",
       "    </tr>\n",
       "    <tr>\n",
       "      <th>27</th>\n",
       "      <td>2013-01-02 07:39:14</td>\n",
       "      <td> YYC</td>\n",
       "      <td> YYZ</td>\n",
       "      <td>2013-03-18</td>\n",
       "      <td> 1V</td>\n",
       "      <td> YYC</td>\n",
       "      <td> YYZ</td>\n",
       "      <td> YTO</td>\n",
       "      <td>2013-03-22 15:57:42</td>\n",
       "      <td> 1</td>\n",
       "    </tr>\n",
       "    <tr>\n",
       "      <th>28</th>\n",
       "      <td>2013-01-02 07:39:14</td>\n",
       "      <td> YYC</td>\n",
       "      <td> YYZ</td>\n",
       "      <td>2013-03-18</td>\n",
       "      <td> 1V</td>\n",
       "      <td> YYC</td>\n",
       "      <td> YYZ</td>\n",
       "      <td> YTO</td>\n",
       "      <td>2013-03-24 23:42:42</td>\n",
       "      <td> 1</td>\n",
       "    </tr>\n",
       "    <tr>\n",
       "      <th>29</th>\n",
       "      <td>2013-01-01 13:04:30</td>\n",
       "      <td> FRA</td>\n",
       "      <td> IST</td>\n",
       "      <td>2013-03-27</td>\n",
       "      <td> 1A</td>\n",
       "      <td> FRA</td>\n",
       "      <td> IST</td>\n",
       "      <td> IST</td>\n",
       "      <td>2013-04-23 11:24:28</td>\n",
       "      <td> 1</td>\n",
       "    </tr>\n",
       "    <tr>\n",
       "      <th>30</th>\n",
       "      <td>2013-01-01 13:04:30</td>\n",
       "      <td> FRA</td>\n",
       "      <td> IST</td>\n",
       "      <td>2013-03-27</td>\n",
       "      <td> 1A</td>\n",
       "      <td> FRA</td>\n",
       "      <td> IST</td>\n",
       "      <td> IST</td>\n",
       "      <td>2013-04-26 17:04:28</td>\n",
       "      <td> 1</td>\n",
       "    </tr>\n",
       "    <tr>\n",
       "      <th>31</th>\n",
       "      <td>2013-01-01 09:59:31</td>\n",
       "      <td> DMM</td>\n",
       "      <td> JED</td>\n",
       "      <td>2013-03-06</td>\n",
       "      <td> 1P</td>\n",
       "      <td> DMM</td>\n",
       "      <td> JED</td>\n",
       "      <td> JED</td>\n",
       "      <td>2013-03-17 22:12:55</td>\n",
       "      <td> 1</td>\n",
       "    </tr>\n",
       "    <tr>\n",
       "      <th>32</th>\n",
       "      <td>2013-01-01 09:59:31</td>\n",
       "      <td> DMM</td>\n",
       "      <td> JED</td>\n",
       "      <td>2013-03-06</td>\n",
       "      <td> 1P</td>\n",
       "      <td> DMM</td>\n",
       "      <td> JED</td>\n",
       "      <td> JED</td>\n",
       "      <td>2013-03-18 21:12:55</td>\n",
       "      <td> 1</td>\n",
       "    </tr>\n",
       "    <tr>\n",
       "      <th>33</th>\n",
       "      <td>2013-01-01 04:21:00</td>\n",
       "      <td> DMM</td>\n",
       "      <td> JED</td>\n",
       "      <td>2013-03-06</td>\n",
       "      <td> 1P</td>\n",
       "      <td> DMM</td>\n",
       "      <td> JED</td>\n",
       "      <td> JED</td>\n",
       "      <td>2013-03-17 22:12:55</td>\n",
       "      <td> 1</td>\n",
       "    </tr>\n",
       "    <tr>\n",
       "      <th>34</th>\n",
       "      <td>2013-01-01 04:21:00</td>\n",
       "      <td> DMM</td>\n",
       "      <td> JED</td>\n",
       "      <td>2013-03-06</td>\n",
       "      <td> 1P</td>\n",
       "      <td> DMM</td>\n",
       "      <td> JED</td>\n",
       "      <td> JED</td>\n",
       "      <td>2013-03-18 21:12:55</td>\n",
       "      <td> 1</td>\n",
       "    </tr>\n",
       "    <tr>\n",
       "      <th>35</th>\n",
       "      <td>2013-01-01 03:29:41</td>\n",
       "      <td> DMM</td>\n",
       "      <td> JED</td>\n",
       "      <td>2013-03-06</td>\n",
       "      <td> 1P</td>\n",
       "      <td> DMM</td>\n",
       "      <td> JED</td>\n",
       "      <td> JED</td>\n",
       "      <td>2013-03-17 22:12:55</td>\n",
       "      <td> 1</td>\n",
       "    </tr>\n",
       "    <tr>\n",
       "      <th>36</th>\n",
       "      <td>2013-01-01 03:29:41</td>\n",
       "      <td> DMM</td>\n",
       "      <td> JED</td>\n",
       "      <td>2013-03-06</td>\n",
       "      <td> 1P</td>\n",
       "      <td> DMM</td>\n",
       "      <td> JED</td>\n",
       "      <td> JED</td>\n",
       "      <td>2013-03-18 21:12:55</td>\n",
       "      <td> 1</td>\n",
       "    </tr>\n",
       "    <tr>\n",
       "      <th>37</th>\n",
       "      <td>2013-01-02 05:59:17</td>\n",
       "      <td> DMM</td>\n",
       "      <td> JED</td>\n",
       "      <td>2013-03-06</td>\n",
       "      <td> 1P</td>\n",
       "      <td> DMM</td>\n",
       "      <td> JED</td>\n",
       "      <td> JED</td>\n",
       "      <td>2013-03-17 22:12:55</td>\n",
       "      <td> 1</td>\n",
       "    </tr>\n",
       "    <tr>\n",
       "      <th>38</th>\n",
       "      <td>2013-01-02 05:59:17</td>\n",
       "      <td> DMM</td>\n",
       "      <td> JED</td>\n",
       "      <td>2013-03-06</td>\n",
       "      <td> 1P</td>\n",
       "      <td> DMM</td>\n",
       "      <td> JED</td>\n",
       "      <td> JED</td>\n",
       "      <td>2013-03-18 21:12:55</td>\n",
       "      <td> 1</td>\n",
       "    </tr>\n",
       "    <tr>\n",
       "      <th>39</th>\n",
       "      <td>2013-01-01 13:38:33</td>\n",
       "      <td> CPH</td>\n",
       "      <td> EWR</td>\n",
       "      <td>2013-03-12</td>\n",
       "      <td> 1A</td>\n",
       "      <td> CPH</td>\n",
       "      <td> EWR</td>\n",
       "      <td> NYC</td>\n",
       "      <td>2013-05-22 20:40:54</td>\n",
       "      <td> 1</td>\n",
       "    </tr>\n",
       "    <tr>\n",
       "      <th>40</th>\n",
       "      <td>2013-01-01 13:38:33</td>\n",
       "      <td> CPH</td>\n",
       "      <td> EWR</td>\n",
       "      <td>2013-03-12</td>\n",
       "      <td> 1A</td>\n",
       "      <td> CPH</td>\n",
       "      <td> EWR</td>\n",
       "      <td> NYC</td>\n",
       "      <td>2013-06-01 07:45:54</td>\n",
       "      <td> 1</td>\n",
       "    </tr>\n",
       "    <tr>\n",
       "      <th>41</th>\n",
       "      <td>2013-01-01 13:38:33</td>\n",
       "      <td> CPH</td>\n",
       "      <td> EWR</td>\n",
       "      <td>2013-03-15</td>\n",
       "      <td> 1A</td>\n",
       "      <td> CPH</td>\n",
       "      <td> EWR</td>\n",
       "      <td> NYC</td>\n",
       "      <td>2013-06-01 10:08:31</td>\n",
       "      <td> 1</td>\n",
       "    </tr>\n",
       "    <tr>\n",
       "      <th>42</th>\n",
       "      <td>2013-01-01 13:38:33</td>\n",
       "      <td> CPH</td>\n",
       "      <td> EWR</td>\n",
       "      <td>2013-03-22</td>\n",
       "      <td> 1A</td>\n",
       "      <td> CPH</td>\n",
       "      <td> EWR</td>\n",
       "      <td> NYC</td>\n",
       "      <td>2013-06-01 18:22:47</td>\n",
       "      <td> 1</td>\n",
       "    </tr>\n",
       "    <tr>\n",
       "      <th>43</th>\n",
       "      <td>2013-01-01 13:52:55</td>\n",
       "      <td> TXL</td>\n",
       "      <td> DUS</td>\n",
       "      <td>2013-03-11</td>\n",
       "      <td> 1A</td>\n",
       "      <td> TXL</td>\n",
       "      <td> DUS</td>\n",
       "      <td> DUS</td>\n",
       "      <td>2013-03-18 09:51:04</td>\n",
       "      <td> 1</td>\n",
       "    </tr>\n",
       "    <tr>\n",
       "      <th>44</th>\n",
       "      <td>2013-01-01 22:04:52</td>\n",
       "      <td> FRA</td>\n",
       "      <td> HAM</td>\n",
       "      <td>2013-03-12</td>\n",
       "      <td> 1A</td>\n",
       "      <td> FRA</td>\n",
       "      <td> HAM</td>\n",
       "      <td> HAM</td>\n",
       "      <td>2013-03-18 10:17:00</td>\n",
       "      <td> 1</td>\n",
       "    </tr>\n",
       "    <tr>\n",
       "      <th>45</th>\n",
       "      <td>2013-01-01 18:33:20</td>\n",
       "      <td> BLR</td>\n",
       "      <td> SIN</td>\n",
       "      <td>2013-03-26</td>\n",
       "      <td> 1A</td>\n",
       "      <td> BLR</td>\n",
       "      <td> SIN</td>\n",
       "      <td> SIN</td>\n",
       "      <td>2013-06-27 22:07:18</td>\n",
       "      <td> 1</td>\n",
       "    </tr>\n",
       "    <tr>\n",
       "      <th>46</th>\n",
       "      <td>2013-01-01 03:38:05</td>\n",
       "      <td> LAX</td>\n",
       "      <td> JFK</td>\n",
       "      <td>2013-03-26</td>\n",
       "      <td> 1S</td>\n",
       "      <td> LAX</td>\n",
       "      <td> JFK</td>\n",
       "      <td> NYC</td>\n",
       "      <td>2013-04-01 23:28:21</td>\n",
       "      <td> 1</td>\n",
       "    </tr>\n",
       "    <tr>\n",
       "      <th>47</th>\n",
       "      <td>2013-01-01 03:38:05</td>\n",
       "      <td> LAX</td>\n",
       "      <td> JFK</td>\n",
       "      <td>2013-03-26</td>\n",
       "      <td> 1S</td>\n",
       "      <td> LAX</td>\n",
       "      <td> JFK</td>\n",
       "      <td> NYC</td>\n",
       "      <td>2013-04-02 21:38:21</td>\n",
       "      <td> 1</td>\n",
       "    </tr>\n",
       "    <tr>\n",
       "      <th>48</th>\n",
       "      <td>2013-01-01 03:38:05</td>\n",
       "      <td> LAX</td>\n",
       "      <td> JFK</td>\n",
       "      <td>2013-03-13</td>\n",
       "      <td> 1V</td>\n",
       "      <td> LAX</td>\n",
       "      <td> JFK</td>\n",
       "      <td> NYC</td>\n",
       "      <td>2013-04-23 19:53:21</td>\n",
       "      <td> 1</td>\n",
       "    </tr>\n",
       "    <tr>\n",
       "      <th>49</th>\n",
       "      <td>2013-01-01 03:38:05</td>\n",
       "      <td> LAX</td>\n",
       "      <td> JFK</td>\n",
       "      <td>2013-03-13</td>\n",
       "      <td> 1V</td>\n",
       "      <td> LAX</td>\n",
       "      <td> JFK</td>\n",
       "      <td> NYC</td>\n",
       "      <td>2013-04-26 09:38:21</td>\n",
       "      <td> 1</td>\n",
       "    </tr>\n",
       "    <tr>\n",
       "      <th>50</th>\n",
       "      <td>2013-01-01 03:38:05</td>\n",
       "      <td> LAX</td>\n",
       "      <td> JFK</td>\n",
       "      <td>2013-03-25</td>\n",
       "      <td> 1P</td>\n",
       "      <td> LAX</td>\n",
       "      <td> JFK</td>\n",
       "      <td> NYC</td>\n",
       "      <td>2013-08-20 16:03:21</td>\n",
       "      <td> 1</td>\n",
       "    </tr>\n",
       "    <tr>\n",
       "      <th>51</th>\n",
       "      <td>2013-01-01 03:38:05</td>\n",
       "      <td> LAX</td>\n",
       "      <td> JFK</td>\n",
       "      <td>2013-03-25</td>\n",
       "      <td> 1P</td>\n",
       "      <td> LAX</td>\n",
       "      <td> JFK</td>\n",
       "      <td> NYC</td>\n",
       "      <td>2013-09-03 15:28:21</td>\n",
       "      <td> 1</td>\n",
       "    </tr>\n",
       "    <tr>\n",
       "      <th>52</th>\n",
       "      <td>2013-01-01 17:14:21</td>\n",
       "      <td> OSL</td>\n",
       "      <td> SVG</td>\n",
       "      <td>2013-03-18</td>\n",
       "      <td> 1S</td>\n",
       "      <td> OSL</td>\n",
       "      <td> SVG</td>\n",
       "      <td> SVG</td>\n",
       "      <td>2013-04-05 17:37:02</td>\n",
       "      <td> 1</td>\n",
       "    </tr>\n",
       "    <tr>\n",
       "      <th>53</th>\n",
       "      <td>2013-01-01 17:14:21</td>\n",
       "      <td> OSL</td>\n",
       "      <td> SVG</td>\n",
       "      <td>2013-03-18</td>\n",
       "      <td> 1S</td>\n",
       "      <td> OSL</td>\n",
       "      <td> SVG</td>\n",
       "      <td> SVG</td>\n",
       "      <td>2013-04-07 21:57:02</td>\n",
       "      <td> 1</td>\n",
       "    </tr>\n",
       "    <tr>\n",
       "      <th>54</th>\n",
       "      <td>2013-01-01 11:41:46</td>\n",
       "      <td> OSL</td>\n",
       "      <td> SVG</td>\n",
       "      <td>2013-03-18</td>\n",
       "      <td> 1S</td>\n",
       "      <td> OSL</td>\n",
       "      <td> SVG</td>\n",
       "      <td> SVG</td>\n",
       "      <td>2013-04-05 17:37:02</td>\n",
       "      <td> 1</td>\n",
       "    </tr>\n",
       "    <tr>\n",
       "      <th>55</th>\n",
       "      <td>2013-01-01 11:41:46</td>\n",
       "      <td> OSL</td>\n",
       "      <td> SVG</td>\n",
       "      <td>2013-03-18</td>\n",
       "      <td> 1S</td>\n",
       "      <td> OSL</td>\n",
       "      <td> SVG</td>\n",
       "      <td> SVG</td>\n",
       "      <td>2013-04-07 21:57:02</td>\n",
       "      <td> 1</td>\n",
       "    </tr>\n",
       "    <tr>\n",
       "      <th>56</th>\n",
       "      <td>2013-01-01 19:42:47</td>\n",
       "      <td> CDG</td>\n",
       "      <td> BCN</td>\n",
       "      <td>2013-03-27</td>\n",
       "      <td> 1A</td>\n",
       "      <td> CDG</td>\n",
       "      <td> BCN</td>\n",
       "      <td> BCN</td>\n",
       "      <td>2013-04-04 14:23:34</td>\n",
       "      <td> 1</td>\n",
       "    </tr>\n",
       "    <tr>\n",
       "      <th>57</th>\n",
       "      <td>2013-01-01 19:42:47</td>\n",
       "      <td> CDG</td>\n",
       "      <td> BCN</td>\n",
       "      <td>2013-03-27</td>\n",
       "      <td> 1A</td>\n",
       "      <td> CDG</td>\n",
       "      <td> BCN</td>\n",
       "      <td> BCN</td>\n",
       "      <td>2013-04-07 11:43:34</td>\n",
       "      <td> 1</td>\n",
       "    </tr>\n",
       "    <tr>\n",
       "      <th>58</th>\n",
       "      <td>2013-01-01 05:22:20</td>\n",
       "      <td> DEL</td>\n",
       "      <td> AKL</td>\n",
       "      <td>2013-03-12</td>\n",
       "      <td> 1A</td>\n",
       "      <td> DEL</td>\n",
       "      <td> AKL</td>\n",
       "      <td> AKL</td>\n",
       "      <td>2013-04-09 23:46:58</td>\n",
       "      <td> 1</td>\n",
       "    </tr>\n",
       "    <tr>\n",
       "      <th>59</th>\n",
       "      <td>2013-01-01 05:22:20</td>\n",
       "      <td> DEL</td>\n",
       "      <td> AKL</td>\n",
       "      <td>2013-03-12</td>\n",
       "      <td> 1A</td>\n",
       "      <td> DEL</td>\n",
       "      <td> AKL</td>\n",
       "      <td> AKL</td>\n",
       "      <td>2013-05-08 07:16:58</td>\n",
       "      <td> 1</td>\n",
       "    </tr>\n",
       "    <tr>\n",
       "      <th></th>\n",
       "      <td>...</td>\n",
       "      <td>...</td>\n",
       "      <td>...</td>\n",
       "      <td>...</td>\n",
       "      <td>...</td>\n",
       "      <td>...</td>\n",
       "      <td>...</td>\n",
       "      <td>...</td>\n",
       "      <td>...</td>\n",
       "      <td>...</td>\n",
       "    </tr>\n",
       "  </tbody>\n",
       "</table>\n",
       "<p>128 rows × 10 columns</p>\n",
       "</div>"
      ],
      "text/plain": [
       "             Date_Time Origin Destination   act_date source dep_port arr_port  \\\n",
       "0  2013-01-01 18:33:28    RUH         JED 2013-03-12     1A      RUH      JED   \n",
       "1  2013-01-01 18:33:28    RUH         JED 2013-03-12     1A      RUH      JED   \n",
       "2  2013-01-01 12:55:53    RUH         JED 2013-03-12     1A      RUH      JED   \n",
       "3  2013-01-01 12:55:53    RUH         JED 2013-03-12     1A      RUH      JED   \n",
       "4  2013-01-01 01:44:37    CPH         BKK 2013-03-22     1P      CPH      BKK   \n",
       "5  2013-01-01 01:44:37    CPH         BKK 2013-03-22     1P      CPH      BKK   \n",
       "6  2013-01-01 16:37:44    CPH         BKK 2013-03-22     1P      CPH      BKK   \n",
       "7  2013-01-01 16:37:44    CPH         BKK 2013-03-22     1P      CPH      BKK   \n",
       "8  2013-01-01 15:06:24    CPH         BKK 2013-03-22     1P      CPH      BKK   \n",
       "9  2013-01-01 15:06:24    CPH         BKK 2013-03-22     1P      CPH      BKK   \n",
       "10 2013-01-01 10:32:29    LHR         JFK 2013-03-18     1G      LHR      JFK   \n",
       "11 2013-01-01 10:32:29    LHR         JFK 2013-03-18     1G      LHR      JFK   \n",
       "12 2013-01-01 21:53:32    LHR         JFK 2013-03-18     1G      LHR      JFK   \n",
       "13 2013-01-01 21:53:32    LHR         JFK 2013-03-18     1G      LHR      JFK   \n",
       "14 2013-01-01 10:16:26    HEL         AYT 2013-03-27     1A      HEL      AYT   \n",
       "15 2013-01-01 10:16:26    HEL         AYT 2013-03-27     1A      HEL      AYT   \n",
       "16 2013-01-01 10:16:26    HEL         AYT 2013-03-28     1A      HEL      AYT   \n",
       "17 2013-01-01 10:46:21    FRA         MAD 2013-03-27     1A      FRA      MAD   \n",
       "18 2013-01-01 10:46:21    FRA         MAD 2013-03-27     1A      FRA      MAD   \n",
       "19 2013-01-01 22:32:58    FRA         MAD 2013-03-27     1A      FRA      MAD   \n",
       "20 2013-01-01 22:32:58    FRA         MAD 2013-03-27     1A      FRA      MAD   \n",
       "21 2013-01-02 21:53:08    FRA         MAD 2013-03-27     1A      FRA      MAD   \n",
       "22 2013-01-02 21:53:08    FRA         MAD 2013-03-27     1A      FRA      MAD   \n",
       "23 2013-01-01 20:18:28    VLC         FUE 2013-03-04     1A      VLC      FUE   \n",
       "24 2013-01-01 20:18:28    VLC         FUE 2013-03-06     1A      VLC      FUE   \n",
       "25 2013-01-01 12:26:40    YYC         YYZ 2013-03-18     1V      YYC      YYZ   \n",
       "26 2013-01-01 12:26:40    YYC         YYZ 2013-03-18     1V      YYC      YYZ   \n",
       "27 2013-01-02 07:39:14    YYC         YYZ 2013-03-18     1V      YYC      YYZ   \n",
       "28 2013-01-02 07:39:14    YYC         YYZ 2013-03-18     1V      YYC      YYZ   \n",
       "29 2013-01-01 13:04:30    FRA         IST 2013-03-27     1A      FRA      IST   \n",
       "30 2013-01-01 13:04:30    FRA         IST 2013-03-27     1A      FRA      IST   \n",
       "31 2013-01-01 09:59:31    DMM         JED 2013-03-06     1P      DMM      JED   \n",
       "32 2013-01-01 09:59:31    DMM         JED 2013-03-06     1P      DMM      JED   \n",
       "33 2013-01-01 04:21:00    DMM         JED 2013-03-06     1P      DMM      JED   \n",
       "34 2013-01-01 04:21:00    DMM         JED 2013-03-06     1P      DMM      JED   \n",
       "35 2013-01-01 03:29:41    DMM         JED 2013-03-06     1P      DMM      JED   \n",
       "36 2013-01-01 03:29:41    DMM         JED 2013-03-06     1P      DMM      JED   \n",
       "37 2013-01-02 05:59:17    DMM         JED 2013-03-06     1P      DMM      JED   \n",
       "38 2013-01-02 05:59:17    DMM         JED 2013-03-06     1P      DMM      JED   \n",
       "39 2013-01-01 13:38:33    CPH         EWR 2013-03-12     1A      CPH      EWR   \n",
       "40 2013-01-01 13:38:33    CPH         EWR 2013-03-12     1A      CPH      EWR   \n",
       "41 2013-01-01 13:38:33    CPH         EWR 2013-03-15     1A      CPH      EWR   \n",
       "42 2013-01-01 13:38:33    CPH         EWR 2013-03-22     1A      CPH      EWR   \n",
       "43 2013-01-01 13:52:55    TXL         DUS 2013-03-11     1A      TXL      DUS   \n",
       "44 2013-01-01 22:04:52    FRA         HAM 2013-03-12     1A      FRA      HAM   \n",
       "45 2013-01-01 18:33:20    BLR         SIN 2013-03-26     1A      BLR      SIN   \n",
       "46 2013-01-01 03:38:05    LAX         JFK 2013-03-26     1S      LAX      JFK   \n",
       "47 2013-01-01 03:38:05    LAX         JFK 2013-03-26     1S      LAX      JFK   \n",
       "48 2013-01-01 03:38:05    LAX         JFK 2013-03-13     1V      LAX      JFK   \n",
       "49 2013-01-01 03:38:05    LAX         JFK 2013-03-13     1V      LAX      JFK   \n",
       "50 2013-01-01 03:38:05    LAX         JFK 2013-03-25     1P      LAX      JFK   \n",
       "51 2013-01-01 03:38:05    LAX         JFK 2013-03-25     1P      LAX      JFK   \n",
       "52 2013-01-01 17:14:21    OSL         SVG 2013-03-18     1S      OSL      SVG   \n",
       "53 2013-01-01 17:14:21    OSL         SVG 2013-03-18     1S      OSL      SVG   \n",
       "54 2013-01-01 11:41:46    OSL         SVG 2013-03-18     1S      OSL      SVG   \n",
       "55 2013-01-01 11:41:46    OSL         SVG 2013-03-18     1S      OSL      SVG   \n",
       "56 2013-01-01 19:42:47    CDG         BCN 2013-03-27     1A      CDG      BCN   \n",
       "57 2013-01-01 19:42:47    CDG         BCN 2013-03-27     1A      CDG      BCN   \n",
       "58 2013-01-01 05:22:20    DEL         AKL 2013-03-12     1A      DEL      AKL   \n",
       "59 2013-01-01 05:22:20    DEL         AKL 2013-03-12     1A      DEL      AKL   \n",
       "                   ...    ...         ...        ...    ...      ...      ...   \n",
       "\n",
       "   arr_city            off_time  pax  \n",
       "0       JED 2013-03-13 05:48:05    1  \n",
       "1       JED 2013-03-14 02:48:05    1  \n",
       "2       JED 2013-03-13 05:48:05    1  \n",
       "3       JED 2013-03-14 02:48:05    1  \n",
       "4       BKK 2013-04-10 06:22:14    1  \n",
       "5       BKK 2013-04-17 07:17:14    1  \n",
       "6       BKK 2013-04-10 06:22:14    1  \n",
       "7       BKK 2013-04-17 07:17:14    1  \n",
       "8       BKK 2013-04-10 06:22:14    1  \n",
       "9       BKK 2013-04-17 07:17:14    1  \n",
       "10      NYC 2013-05-05 13:43:46    1  \n",
       "11      NYC 2013-05-10 21:48:46    1  \n",
       "12      NYC 2013-05-05 13:43:46    1  \n",
       "13      NYC 2013-05-10 21:48:46    1  \n",
       "14      AYT 2013-05-29 19:27:12    2  \n",
       "15      AYT 2013-06-22 17:20:50    2  \n",
       "16      AYT 2013-05-29 19:27:12    2  \n",
       "17      MAD 2013-04-28 21:43:11    1  \n",
       "18      MAD 2013-06-03 11:23:11    1  \n",
       "19      MAD 2013-04-28 21:43:11    1  \n",
       "20      MAD 2013-06-03 11:23:11    1  \n",
       "21      MAD 2013-04-28 21:43:11    1  \n",
       "22      MAD 2013-06-03 11:23:11    1  \n",
       "23      FUE 2013-03-31 16:43:22    2  \n",
       "24      FUE 2013-03-31 16:43:22    2  \n",
       "25      YTO 2013-03-22 15:57:42    1  \n",
       "26      YTO 2013-03-24 23:42:42    1  \n",
       "27      YTO 2013-03-22 15:57:42    1  \n",
       "28      YTO 2013-03-24 23:42:42    1  \n",
       "29      IST 2013-04-23 11:24:28    1  \n",
       "30      IST 2013-04-26 17:04:28    1  \n",
       "31      JED 2013-03-17 22:12:55    1  \n",
       "32      JED 2013-03-18 21:12:55    1  \n",
       "33      JED 2013-03-17 22:12:55    1  \n",
       "34      JED 2013-03-18 21:12:55    1  \n",
       "35      JED 2013-03-17 22:12:55    1  \n",
       "36      JED 2013-03-18 21:12:55    1  \n",
       "37      JED 2013-03-17 22:12:55    1  \n",
       "38      JED 2013-03-18 21:12:55    1  \n",
       "39      NYC 2013-05-22 20:40:54    1  \n",
       "40      NYC 2013-06-01 07:45:54    1  \n",
       "41      NYC 2013-06-01 10:08:31    1  \n",
       "42      NYC 2013-06-01 18:22:47    1  \n",
       "43      DUS 2013-03-18 09:51:04    1  \n",
       "44      HAM 2013-03-18 10:17:00    1  \n",
       "45      SIN 2013-06-27 22:07:18    1  \n",
       "46      NYC 2013-04-01 23:28:21    1  \n",
       "47      NYC 2013-04-02 21:38:21    1  \n",
       "48      NYC 2013-04-23 19:53:21    1  \n",
       "49      NYC 2013-04-26 09:38:21    1  \n",
       "50      NYC 2013-08-20 16:03:21    1  \n",
       "51      NYC 2013-09-03 15:28:21    1  \n",
       "52      SVG 2013-04-05 17:37:02    1  \n",
       "53      SVG 2013-04-07 21:57:02    1  \n",
       "54      SVG 2013-04-05 17:37:02    1  \n",
       "55      SVG 2013-04-07 21:57:02    1  \n",
       "56      BCN 2013-04-04 14:23:34    1  \n",
       "57      BCN 2013-04-07 11:43:34    1  \n",
       "58      AKL 2013-04-09 23:46:58    1  \n",
       "59      AKL 2013-05-08 07:16:58    1  \n",
       "        ...                 ...  ...  \n",
       "\n",
       "[128 rows x 10 columns]"
      ]
     },
     "execution_count": 85,
     "metadata": {},
     "output_type": "execute_result"
    }
   ],
   "source": [
    "bookedSearches = bookedSearches[bookedSearches['act_date']>bookedSearches['Date_Time']]\n",
    "bookedSearches['Date_Time','TxnCode','OfficeID','Country','Origin','Country','Destination','pax']"
   ]
  },
  {
   "cell_type": "code",
   "execution_count": null,
   "metadata": {
    "collapsed": true
   },
   "outputs": [],
   "source": []
  }
 ],
 "metadata": {
  "kernelspec": {
   "display_name": "Python 2",
   "language": "python",
   "name": "python2"
  },
  "language_info": {
   "codemirror_mode": {
    "name": "ipython",
    "version": 2
   },
   "file_extension": ".py",
   "mimetype": "text/x-python",
   "name": "python",
   "nbconvert_exporter": "python",
   "pygments_lexer": "ipython2",
   "version": "2.7.6"
  }
 },
 "nbformat": 4,
 "nbformat_minor": 0
}
