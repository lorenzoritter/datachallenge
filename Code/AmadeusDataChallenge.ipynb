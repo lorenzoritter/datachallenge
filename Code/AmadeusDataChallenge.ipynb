{
 "cells": [
  {
   "cell_type": "markdown",
   "metadata": {},
   "source": [
    "# Amadeus Data Challenge"
   ]
  },
  {
   "cell_type": "markdown",
   "metadata": {},
   "source": [
    "## Lorenzo von Ritter"
   ]
  },
  {
   "cell_type": "code",
   "execution_count": 1,
   "metadata": {
    "collapsed": false
   },
   "outputs": [],
   "source": [
    "import pandas as pd\n",
    "import numpy as np\n",
    "import matplotlib.pyplot as plt"
   ]
  },
  {
   "cell_type": "code",
   "execution_count": 2,
   "metadata": {
    "collapsed": true
   },
   "outputs": [],
   "source": [
    "%matplotlib inline"
   ]
  },
  {
   "cell_type": "code",
   "execution_count": 3,
   "metadata": {
    "collapsed": false
   },
   "outputs": [
    {
     "name": "stdout",
     "output_type": "stream",
     "text": [
      "CPU times: user 2min 13s, sys: 8.06 s, total: 2min 21s\n",
      "Wall time: 3min 24s\n"
     ]
    }
   ],
   "source": [
    "time searches = pd.read_csv(\"../Files/searches.csv\", sep=\"^\", usecols=['Date','Time','TxnCode','OfficeID','Country','Origin','Destination','RoundTrip'], parse_dates=[['Date','Time']], dtype={'TxnCode': object, 'OfficeID': object, 'Country': object, 'Origin': object,'Destination': object, 'RoundTrip': np.float64})"
   ]
  },
  {
   "cell_type": "markdown",
   "metadata": {},
   "source": [
    "##### before importing bookings, remove whitespaces before the delimiter from the original file with $sed 's/\\s*^/^/g' bookings.csv > bookingsClean.csv"
   ]
  },
  {
   "cell_type": "code",
   "execution_count": 5,
   "metadata": {
    "collapsed": false
   },
   "outputs": [
    {
     "name": "stdout",
     "output_type": "stream",
     "text": [
      "CPU times: user 4min 38s, sys: 11.6 s, total: 4min 50s\n",
      "Wall time: 5min 38s\n"
     ]
    }
   ],
   "source": [
    "time bookings = pd.read_csv(\"../Files/bookingsClean.csv\", sep=\"^\", usecols=['act_date','source','dep_port','dep_city','arr_port','arr_city','pax', 'off_time'], parse_dates=['act_date','off_time'], dtype={'dep_port': object, 'arr_port': object, 'arr_city': object, 'pax': np.float64})"
   ]
  },
  {
   "cell_type": "markdown",
   "metadata": {},
   "source": [
    "###Exercise 1: Count the number of lines"
   ]
  },
  {
   "cell_type": "markdown",
   "metadata": {},
   "source": [
    "##### compare shape and count()"
   ]
  },
  {
   "cell_type": "code",
   "execution_count": 6,
   "metadata": {
    "collapsed": false
   },
   "outputs": [
    {
     "name": "stdout",
     "output_type": "stream",
     "text": [
      "CPU times: user 13 µs, sys: 0 ns, total: 13 µs\n",
      "Wall time: 14.1 µs\n"
     ]
    },
    {
     "data": {
      "text/plain": [
       "20390198"
      ]
     },
     "execution_count": 6,
     "metadata": {},
     "output_type": "execute_result"
    }
   ],
   "source": [
    "time searches.shape[0]"
   ]
  },
  {
   "cell_type": "code",
   "execution_count": 7,
   "metadata": {
    "collapsed": false,
    "scrolled": true
   },
   "outputs": [
    {
     "name": "stdout",
     "output_type": "stream",
     "text": [
      "CPU times: user 6.16 s, sys: 341 ms, total: 6.5 s\n",
      "Wall time: 8.42 s\n"
     ]
    },
    {
     "data": {
      "text/plain": [
       "Date_Time      20390198\n",
       "TxnCode        20390165\n",
       "OfficeID       20390165\n",
       "Country        20387721\n",
       "Origin         20390165\n",
       "Destination    20390165\n",
       "RoundTrip      20390164\n",
       "dtype: int64"
      ]
     },
     "execution_count": 7,
     "metadata": {},
     "output_type": "execute_result"
    }
   ],
   "source": [
    "time searches.count()"
   ]
  },
  {
   "cell_type": "markdown",
   "metadata": {},
   "source": [
    "##### shape is quicker than count(), but count will exclude NaN values. However, we only want to know the number of rows"
   ]
  },
  {
   "cell_type": "code",
   "execution_count": 8,
   "metadata": {
    "collapsed": false
   },
   "outputs": [
    {
     "data": {
      "text/plain": [
       "20390198"
      ]
     },
     "execution_count": 8,
     "metadata": {},
     "output_type": "execute_result"
    }
   ],
   "source": [
    "searchesSize = searches.shape[0]\n",
    "searchesSize"
   ]
  },
  {
   "cell_type": "code",
   "execution_count": 9,
   "metadata": {
    "collapsed": false
   },
   "outputs": [
    {
     "data": {
      "text/plain": [
       "10000010"
      ]
     },
     "execution_count": 9,
     "metadata": {},
     "output_type": "execute_result"
    }
   ],
   "source": [
    "bookingsSize = bookings.shape[0]\n",
    "bookingsSize"
   ]
  },
  {
   "cell_type": "markdown",
   "metadata": {},
   "source": [
    "### Execise 2: Top 10 airports"
   ]
  },
  {
   "cell_type": "code",
   "execution_count": 10,
   "metadata": {
    "collapsed": false
   },
   "outputs": [],
   "source": [
    "airports = bookings.groupby('arr_port').pax.count()\n",
    "airports.sort(ascending=0)"
   ]
  },
  {
   "cell_type": "code",
   "execution_count": 11,
   "metadata": {
    "collapsed": false
   },
   "outputs": [
    {
     "data": {
      "text/plain": [
       "arr_port\n",
       "LHR         215551\n",
       "JFK         158930\n",
       "CDG         149390\n",
       "LAX         143220\n",
       "DXB         135640\n",
       "BKK         130420\n",
       "MIA         117820\n",
       "SFO         110970\n",
       "MNL         109530\n",
       "ORD          99750\n",
       "dtype: int64"
      ]
     },
     "execution_count": 11,
     "metadata": {},
     "output_type": "execute_result"
    }
   ],
   "source": [
    "airports[0:10]"
   ]
  },
  {
   "cell_type": "markdown",
   "metadata": {},
   "source": [
    "### Exercise 3: Monthly arrivals in Málaga, Madrid and Barcelona"
   ]
  },
  {
   "cell_type": "code",
   "execution_count": 12,
   "metadata": {
    "collapsed": false
   },
   "outputs": [
    {
     "data": {
      "text/plain": [
       "Date_Time       object\n",
       "TxnCode         object\n",
       "OfficeID        object\n",
       "Country         object\n",
       "Origin          object\n",
       "Destination     object\n",
       "RoundTrip      float64\n",
       "dtype: object"
      ]
     },
     "execution_count": 12,
     "metadata": {},
     "output_type": "execute_result"
    }
   ],
   "source": [
    "searches.dtypes"
   ]
  },
  {
   "cell_type": "markdown",
   "metadata": {},
   "source": [
    "##### make date column of type datetime"
   ]
  },
  {
   "cell_type": "code",
   "execution_count": 13,
   "metadata": {
    "collapsed": false
   },
   "outputs": [],
   "source": [
    "searches.Date_Time = pd.to_datetime(searches.Date_Time)"
   ]
  },
  {
   "cell_type": "code",
   "execution_count": 14,
   "metadata": {
    "collapsed": false
   },
   "outputs": [
    {
     "data": {
      "text/plain": [
       "Date_Time       object\n",
       "TxnCode         object\n",
       "OfficeID        object\n",
       "Country         object\n",
       "Origin          object\n",
       "Destination     object\n",
       "RoundTrip      float64\n",
       "dtype: object"
      ]
     },
     "execution_count": 14,
     "metadata": {},
     "output_type": "execute_result"
    }
   ],
   "source": [
    "searches.dtypes"
   ]
  },
  {
   "cell_type": "markdown",
   "metadata": {},
   "source": [
    "##### did not work"
   ]
  },
  {
   "cell_type": "code",
   "execution_count": 15,
   "metadata": {
    "collapsed": true
   },
   "outputs": [],
   "source": [
    "special_searches = searches[(searches[\"Destination\"] == \"AGP\") | (searches[\"Destination\"] == \"BCN\") | (searches[\"Destination\"] == \"MAD\")]"
   ]
  },
  {
   "cell_type": "code",
   "execution_count": 16,
   "metadata": {
    "collapsed": false
   },
   "outputs": [
    {
     "data": {
      "text/plain": [
       "dtype('O')"
      ]
     },
     "execution_count": 16,
     "metadata": {},
     "output_type": "execute_result"
    }
   ],
   "source": [
    "datecount = special_searches.groupby(['Date_Time','Destination']).Date_Time.count()\n",
    "datecount = datecount.unstack('Destination')\n",
    "datecount.index.dtype"
   ]
  },
  {
   "cell_type": "code",
   "execution_count": 17,
   "metadata": {
    "collapsed": false
   },
   "outputs": [
    {
     "data": {
      "text/plain": [
       "dtype('<M8[ns]')"
      ]
     },
     "execution_count": 17,
     "metadata": {},
     "output_type": "execute_result"
    }
   ],
   "source": [
    "datecount.index = pd.to_datetime(datecount.index)\n",
    "datecount.index.dtype"
   ]
  },
  {
   "cell_type": "markdown",
   "metadata": {},
   "source": [
    "##### now it worked"
   ]
  },
  {
   "cell_type": "code",
   "execution_count": 18,
   "metadata": {
    "collapsed": false
   },
   "outputs": [
    {
     "data": {
      "text/html": [
       "<div style=\"max-height:1000px;max-width:1500px;overflow:auto;\">\n",
       "<table border=\"1\" class=\"dataframe\">\n",
       "  <thead>\n",
       "    <tr style=\"text-align: right;\">\n",
       "      <th>Destination</th>\n",
       "      <th>AGP</th>\n",
       "      <th>BCN</th>\n",
       "      <th>MAD</th>\n",
       "    </tr>\n",
       "  </thead>\n",
       "  <tbody>\n",
       "    <tr>\n",
       "      <th>2013-01-31</th>\n",
       "      <td>  9633</td>\n",
       "      <td> 29469</td>\n",
       "      <td> 24258</td>\n",
       "    </tr>\n",
       "    <tr>\n",
       "      <th>2013-02-28</th>\n",
       "      <td>  8379</td>\n",
       "      <td> 28329</td>\n",
       "      <td> 22800</td>\n",
       "    </tr>\n",
       "    <tr>\n",
       "      <th>2013-03-31</th>\n",
       "      <td> 10659</td>\n",
       "      <td> 30552</td>\n",
       "      <td> 24681</td>\n",
       "    </tr>\n",
       "    <tr>\n",
       "      <th>2013-04-30</th>\n",
       "      <td>  8265</td>\n",
       "      <td> 31236</td>\n",
       "      <td> 25251</td>\n",
       "    </tr>\n",
       "    <tr>\n",
       "      <th>2013-05-31</th>\n",
       "      <td> 10830</td>\n",
       "      <td> 28728</td>\n",
       "      <td> 26334</td>\n",
       "    </tr>\n",
       "    <tr>\n",
       "      <th>2013-06-30</th>\n",
       "      <td>  7923</td>\n",
       "      <td> 26505</td>\n",
       "      <td> 22800</td>\n",
       "    </tr>\n",
       "    <tr>\n",
       "      <th>2013-07-31</th>\n",
       "      <td>  8892</td>\n",
       "      <td> 29241</td>\n",
       "      <td> 22971</td>\n",
       "    </tr>\n",
       "    <tr>\n",
       "      <th>2013-08-31</th>\n",
       "      <td>  7866</td>\n",
       "      <td> 27075</td>\n",
       "      <td> 21831</td>\n",
       "    </tr>\n",
       "    <tr>\n",
       "      <th>2013-09-30</th>\n",
       "      <td>  8151</td>\n",
       "      <td> 23427</td>\n",
       "      <td> 21147</td>\n",
       "    </tr>\n",
       "    <tr>\n",
       "      <th>2013-10-31</th>\n",
       "      <td>  6499</td>\n",
       "      <td> 20276</td>\n",
       "      <td> 22294</td>\n",
       "    </tr>\n",
       "    <tr>\n",
       "      <th>2013-11-30</th>\n",
       "      <td>  6384</td>\n",
       "      <td> 19824</td>\n",
       "      <td> 20272</td>\n",
       "    </tr>\n",
       "    <tr>\n",
       "      <th>2013-12-31</th>\n",
       "      <td>  3696</td>\n",
       "      <td> 15400</td>\n",
       "      <td> 14504</td>\n",
       "    </tr>\n",
       "  </tbody>\n",
       "</table>\n",
       "<p>12 rows × 3 columns</p>\n",
       "</div>"
      ],
      "text/plain": [
       "Destination    AGP    BCN    MAD\n",
       "2013-01-31    9633  29469  24258\n",
       "2013-02-28    8379  28329  22800\n",
       "2013-03-31   10659  30552  24681\n",
       "2013-04-30    8265  31236  25251\n",
       "2013-05-31   10830  28728  26334\n",
       "2013-06-30    7923  26505  22800\n",
       "2013-07-31    8892  29241  22971\n",
       "2013-08-31    7866  27075  21831\n",
       "2013-09-30    8151  23427  21147\n",
       "2013-10-31    6499  20276  22294\n",
       "2013-11-30    6384  19824  20272\n",
       "2013-12-31    3696  15400  14504\n",
       "\n",
       "[12 rows x 3 columns]"
      ]
     },
     "execution_count": 18,
     "metadata": {},
     "output_type": "execute_result"
    }
   ],
   "source": [
    "monthcount = datecount.resample('M', how=sum)\n",
    "monthcount"
   ]
  },
  {
   "cell_type": "code",
   "execution_count": 19,
   "metadata": {
    "collapsed": false
   },
   "outputs": [
    {
     "data": {
      "text/plain": [
       "<matplotlib.axes.AxesSubplot at 0x7f8ad0183cd0>"
      ]
     },
     "execution_count": 19,
     "metadata": {},
     "output_type": "execute_result"
    },
    {
     "data": {
      "image/png": "[encoded data removed]",
      "text/plain": [
       "<matplotlib.figure.Figure at 0x7f8adc5a9ad0>"
      ]
     },
     "metadata": {},
     "output_type": "display_data"
    }
   ],
   "source": [
    "monthcount.plot()"
   ]
  },
  {
   "cell_type": "markdown",
   "metadata": {},
   "source": [
    "### Exercise 4: Join DataFrames"
   ]
  },
  {
   "cell_type": "markdown",
   "metadata": {},
   "source": [
    "##### only take bookings, no cancellations"
   ]
  },
  {
   "cell_type": "code",
   "execution_count": 20,
   "metadata": {
    "collapsed": false
   },
   "outputs": [],
   "source": [
    "positiveBookings = bookings[bookings['pax']>0]"
   ]
  },
  {
   "cell_type": "code",
   "execution_count": 49,
   "metadata": {
    "collapsed": false
   },
   "outputs": [],
   "source": [
    "bookedSearches = pd.merge(searches.head(100000), positiveBookings.head(100000), left_on=['Origin','Destination'], right_on=['dep_port','arr_port'], left_index=True)"
   ]
  },
  {
   "cell_type": "code",
   "execution_count": 55,
   "metadata": {
    "collapsed": false
   },
   "outputs": [],
   "source": [
    "bookedSearches['index'] = bookedSearches.index\n",
    "bookedSearches.drop_duplicates(cols='index',inplace=True)"
   ]
  },
  {
   "cell_type": "code",
   "execution_count": 56,
   "metadata": {
    "collapsed": false,
    "scrolled": false
   },
   "outputs": [
    {
     "data": {
      "text/html": [
       "<div style=\"max-height:1000px;max-width:1500px;overflow:auto;\">\n",
       "<table border=\"1\" class=\"dataframe\">\n",
       "  <thead>\n",
       "    <tr style=\"text-align: right;\">\n",
       "      <th></th>\n",
       "      <th>Date_Time</th>\n",
       "      <th>TxnCode</th>\n",
       "      <th>OfficeID</th>\n",
       "      <th>Country</th>\n",
       "      <th>Origin</th>\n",
       "      <th>Destination</th>\n",
       "      <th>RoundTrip</th>\n",
       "      <th>pax</th>\n",
       "    </tr>\n",
       "  </thead>\n",
       "  <tbody>\n",
       "    <tr>\n",
       "      <th>5  </th>\n",
       "      <td> 2013-02-02 19:43:12</td>\n",
       "      <td> FQD</td>\n",
       "      <td> e8741eaf2fa2f71f931475d18fa72096</td>\n",
       "      <td> US</td>\n",
       "      <td> DEN</td>\n",
       "      <td> LGA</td>\n",
       "      <td> 0</td>\n",
       "      <td> 1</td>\n",
       "    </tr>\n",
       "    <tr>\n",
       "      <th>6  </th>\n",
       "      <td> 2013-02-02 19:43:12</td>\n",
       "      <td> FQD</td>\n",
       "      <td> e8741eaf2fa2f71f931475d18fa72096</td>\n",
       "      <td> US</td>\n",
       "      <td> DEN</td>\n",
       "      <td> LGA</td>\n",
       "      <td> 0</td>\n",
       "      <td> 1</td>\n",
       "    </tr>\n",
       "    <tr>\n",
       "      <th>7  </th>\n",
       "      <td> 2013-02-04 22:36:52</td>\n",
       "      <td> FFP</td>\n",
       "      <td> 7d668b5f750866f7a8f10f1505c9423f</td>\n",
       "      <td> JP</td>\n",
       "      <td> NRT</td>\n",
       "      <td> SIN</td>\n",
       "      <td> 0</td>\n",
       "      <td> 2</td>\n",
       "    </tr>\n",
       "    <tr>\n",
       "      <th>8  </th>\n",
       "      <td> 2013-02-04 22:36:52</td>\n",
       "      <td> FFP</td>\n",
       "      <td> 7d668b5f750866f7a8f10f1505c9423f</td>\n",
       "      <td> JP</td>\n",
       "      <td> NRT</td>\n",
       "      <td> SIN</td>\n",
       "      <td> 0</td>\n",
       "      <td> 2</td>\n",
       "    </tr>\n",
       "    <tr>\n",
       "      <th>9  </th>\n",
       "      <td> 2013-02-04 22:36:52</td>\n",
       "      <td> FFP</td>\n",
       "      <td> 7d668b5f750866f7a8f10f1505c9423f</td>\n",
       "      <td> JP</td>\n",
       "      <td> NRT</td>\n",
       "      <td> SIN</td>\n",
       "      <td> 0</td>\n",
       "      <td> 2</td>\n",
       "    </tr>\n",
       "    <tr>\n",
       "      <th>10 </th>\n",
       "      <td> 2013-02-04 22:36:52</td>\n",
       "      <td> FFP</td>\n",
       "      <td> 7d668b5f750866f7a8f10f1505c9423f</td>\n",
       "      <td> JP</td>\n",
       "      <td> NRT</td>\n",
       "      <td> SIN</td>\n",
       "      <td> 0</td>\n",
       "      <td> 2</td>\n",
       "    </tr>\n",
       "    <tr>\n",
       "      <th>15 </th>\n",
       "      <td> 2013-02-04 22:36:52</td>\n",
       "      <td> FFP</td>\n",
       "      <td> 7d668b5f750866f7a8f10f1505c9423f</td>\n",
       "      <td> JP</td>\n",
       "      <td> NRT</td>\n",
       "      <td> SIN</td>\n",
       "      <td> 0</td>\n",
       "      <td> 1</td>\n",
       "    </tr>\n",
       "    <tr>\n",
       "      <th>16 </th>\n",
       "      <td> 2013-02-04 22:36:52</td>\n",
       "      <td> FFP</td>\n",
       "      <td> 7d668b5f750866f7a8f10f1505c9423f</td>\n",
       "      <td> JP</td>\n",
       "      <td> NRT</td>\n",
       "      <td> SIN</td>\n",
       "      <td> 0</td>\n",
       "      <td> 1</td>\n",
       "    </tr>\n",
       "    <tr>\n",
       "      <th>17 </th>\n",
       "      <td> 2013-02-04 22:36:52</td>\n",
       "      <td> FFP</td>\n",
       "      <td> 7d668b5f750866f7a8f10f1505c9423f</td>\n",
       "      <td> JP</td>\n",
       "      <td> NRT</td>\n",
       "      <td> SIN</td>\n",
       "      <td> 0</td>\n",
       "      <td> 1</td>\n",
       "    </tr>\n",
       "    <tr>\n",
       "      <th>18 </th>\n",
       "      <td> 2013-02-04 22:36:52</td>\n",
       "      <td> FFP</td>\n",
       "      <td> 7d668b5f750866f7a8f10f1505c9423f</td>\n",
       "      <td> JP</td>\n",
       "      <td> NRT</td>\n",
       "      <td> SIN</td>\n",
       "      <td> 0</td>\n",
       "      <td> 1</td>\n",
       "    </tr>\n",
       "    <tr>\n",
       "      <th>21 </th>\n",
       "      <td> 2013-02-28 10:45:37</td>\n",
       "      <td> MPT</td>\n",
       "      <td> 35faa8a5f0d159e215a6e63364e0c877</td>\n",
       "      <td> IT</td>\n",
       "      <td> FCO</td>\n",
       "      <td> CTA</td>\n",
       "      <td> 1</td>\n",
       "      <td> 2</td>\n",
       "    </tr>\n",
       "    <tr>\n",
       "      <th>30 </th>\n",
       "      <td> 2013-01-05 19:21:24</td>\n",
       "      <td> FFP</td>\n",
       "      <td> aa5560258a8882f264d157e15c9997cc</td>\n",
       "      <td> FR</td>\n",
       "      <td> CDG</td>\n",
       "      <td> PVG</td>\n",
       "      <td> 1</td>\n",
       "      <td> 2</td>\n",
       "    </tr>\n",
       "    <tr>\n",
       "      <th>31 </th>\n",
       "      <td> 2013-01-05 19:21:24</td>\n",
       "      <td> FFP</td>\n",
       "      <td> aa5560258a8882f264d157e15c9997cc</td>\n",
       "      <td> FR</td>\n",
       "      <td> CDG</td>\n",
       "      <td> PVG</td>\n",
       "      <td> 1</td>\n",
       "      <td> 2</td>\n",
       "    </tr>\n",
       "    <tr>\n",
       "      <th>32 </th>\n",
       "      <td> 2013-01-05 19:21:24</td>\n",
       "      <td> FFP</td>\n",
       "      <td> aa5560258a8882f264d157e15c9997cc</td>\n",
       "      <td> FR</td>\n",
       "      <td> CDG</td>\n",
       "      <td> PVG</td>\n",
       "      <td> 1</td>\n",
       "      <td> 2</td>\n",
       "    </tr>\n",
       "    <tr>\n",
       "      <th>38 </th>\n",
       "      <td> 2013-02-16 09:46:33</td>\n",
       "      <td> FXP</td>\n",
       "      <td> 67a51c676f1c0cda664f5a855af7b040</td>\n",
       "      <td> IN</td>\n",
       "      <td> DEL</td>\n",
       "      <td> DMM</td>\n",
       "      <td> 1</td>\n",
       "      <td> 2</td>\n",
       "    </tr>\n",
       "    <tr>\n",
       "      <th>39 </th>\n",
       "      <td> 2013-02-16 09:46:33</td>\n",
       "      <td> FXP</td>\n",
       "      <td> 67a51c676f1c0cda664f5a855af7b040</td>\n",
       "      <td> IN</td>\n",
       "      <td> DEL</td>\n",
       "      <td> DMM</td>\n",
       "      <td> 1</td>\n",
       "      <td> 2</td>\n",
       "    </tr>\n",
       "    <tr>\n",
       "      <th>42 </th>\n",
       "      <td> 2013-02-16 09:46:33</td>\n",
       "      <td> FXP</td>\n",
       "      <td> 67a51c676f1c0cda664f5a855af7b040</td>\n",
       "      <td> IN</td>\n",
       "      <td> DEL</td>\n",
       "      <td> DMM</td>\n",
       "      <td> 1</td>\n",
       "      <td> 1</td>\n",
       "    </tr>\n",
       "    <tr>\n",
       "      <th>43 </th>\n",
       "      <td> 2013-02-16 09:46:33</td>\n",
       "      <td> FXP</td>\n",
       "      <td> 67a51c676f1c0cda664f5a855af7b040</td>\n",
       "      <td> IN</td>\n",
       "      <td> DEL</td>\n",
       "      <td> DMM</td>\n",
       "      <td> 1</td>\n",
       "      <td> 1</td>\n",
       "    </tr>\n",
       "    <tr>\n",
       "      <th>45 </th>\n",
       "      <td> 2013-01-05 17:48:06</td>\n",
       "      <td> FQD</td>\n",
       "      <td> d548d9da427441458ba614dc0be9fc6e</td>\n",
       "      <td> FR</td>\n",
       "      <td> ORY</td>\n",
       "      <td> LIS</td>\n",
       "      <td> 1</td>\n",
       "      <td> 2</td>\n",
       "    </tr>\n",
       "    <tr>\n",
       "      <th>46 </th>\n",
       "      <td> 2013-01-05 17:48:06</td>\n",
       "      <td> FQD</td>\n",
       "      <td> d548d9da427441458ba614dc0be9fc6e</td>\n",
       "      <td> FR</td>\n",
       "      <td> ORY</td>\n",
       "      <td> LIS</td>\n",
       "      <td> 1</td>\n",
       "      <td> 2</td>\n",
       "    </tr>\n",
       "    <tr>\n",
       "      <th>48 </th>\n",
       "      <td> 2013-01-05 17:48:06</td>\n",
       "      <td> FQD</td>\n",
       "      <td> d548d9da427441458ba614dc0be9fc6e</td>\n",
       "      <td> FR</td>\n",
       "      <td> ORY</td>\n",
       "      <td> LIS</td>\n",
       "      <td> 1</td>\n",
       "      <td> 2</td>\n",
       "    </tr>\n",
       "    <tr>\n",
       "      <th>52 </th>\n",
       "      <td> 2013-02-14 11:19:40</td>\n",
       "      <td> MPT</td>\n",
       "      <td> 8b4fa4e121637f583bfa86ef0fa26c9e</td>\n",
       "      <td> US</td>\n",
       "      <td> BOS</td>\n",
       "      <td> BWI</td>\n",
       "      <td> 0</td>\n",
       "      <td> 3</td>\n",
       "    </tr>\n",
       "    <tr>\n",
       "      <th>53 </th>\n",
       "      <td> 2013-02-14 11:19:40</td>\n",
       "      <td> MPT</td>\n",
       "      <td> 8b4fa4e121637f583bfa86ef0fa26c9e</td>\n",
       "      <td> US</td>\n",
       "      <td> BOS</td>\n",
       "      <td> BWI</td>\n",
       "      <td> 0</td>\n",
       "      <td> 3</td>\n",
       "    </tr>\n",
       "    <tr>\n",
       "      <th>54 </th>\n",
       "      <td> 2013-03-17 05:04:18</td>\n",
       "      <td> FXR</td>\n",
       "      <td> 5e1316b99bd110aaa94b51b8e7b650a7</td>\n",
       "      <td> CA</td>\n",
       "      <td> YYC</td>\n",
       "      <td> DEL</td>\n",
       "      <td> 1</td>\n",
       "      <td> 1</td>\n",
       "    </tr>\n",
       "    <tr>\n",
       "      <th>55 </th>\n",
       "      <td> 2013-03-17 05:04:18</td>\n",
       "      <td> FXR</td>\n",
       "      <td> 5e1316b99bd110aaa94b51b8e7b650a7</td>\n",
       "      <td> CA</td>\n",
       "      <td> YYC</td>\n",
       "      <td> DEL</td>\n",
       "      <td> 1</td>\n",
       "      <td> 1</td>\n",
       "    </tr>\n",
       "    <tr>\n",
       "      <th>58 </th>\n",
       "      <td> 2013-01-04 23:02:17</td>\n",
       "      <td> MPT</td>\n",
       "      <td> 8b4fa4e121637f583bfa86ef0fa26c9e</td>\n",
       "      <td> US</td>\n",
       "      <td> BUF</td>\n",
       "      <td> TPA</td>\n",
       "      <td> 1</td>\n",
       "      <td> 2</td>\n",
       "    </tr>\n",
       "    <tr>\n",
       "      <th>61 </th>\n",
       "      <td> 2013-01-15 18:56:14</td>\n",
       "      <td> CAL</td>\n",
       "      <td> 4633a6bb4618f15888555d3f64acecef</td>\n",
       "      <td> ES</td>\n",
       "      <td> BCN</td>\n",
       "      <td> MNL</td>\n",
       "      <td> 1</td>\n",
       "      <td> 2</td>\n",
       "    </tr>\n",
       "    <tr>\n",
       "      <th>62 </th>\n",
       "      <td> 2013-01-15 18:56:14</td>\n",
       "      <td> CAL</td>\n",
       "      <td> 4633a6bb4618f15888555d3f64acecef</td>\n",
       "      <td> ES</td>\n",
       "      <td> BCN</td>\n",
       "      <td> MNL</td>\n",
       "      <td> 1</td>\n",
       "      <td> 2</td>\n",
       "    </tr>\n",
       "    <tr>\n",
       "      <th>64 </th>\n",
       "      <td> 2013-01-15 18:56:14</td>\n",
       "      <td> CAL</td>\n",
       "      <td> 4633a6bb4618f15888555d3f64acecef</td>\n",
       "      <td> ES</td>\n",
       "      <td> BCN</td>\n",
       "      <td> MNL</td>\n",
       "      <td> 1</td>\n",
       "      <td> 2</td>\n",
       "    </tr>\n",
       "    <tr>\n",
       "      <th>68 </th>\n",
       "      <td> 2013-03-02 22:27:41</td>\n",
       "      <td> MPT</td>\n",
       "      <td> 0bda63f1f542daa78264df28c95fbb6d</td>\n",
       "      <td> NL</td>\n",
       "      <td> SJJ</td>\n",
       "      <td> ZRH</td>\n",
       "      <td> 0</td>\n",
       "      <td> 1</td>\n",
       "    </tr>\n",
       "    <tr>\n",
       "      <th>69 </th>\n",
       "      <td> 2013-03-02 22:27:41</td>\n",
       "      <td> MPT</td>\n",
       "      <td> 0bda63f1f542daa78264df28c95fbb6d</td>\n",
       "      <td> NL</td>\n",
       "      <td> SJJ</td>\n",
       "      <td> ZRH</td>\n",
       "      <td> 0</td>\n",
       "      <td> 1</td>\n",
       "    </tr>\n",
       "    <tr>\n",
       "      <th>74 </th>\n",
       "      <td> 2013-03-02 22:27:41</td>\n",
       "      <td> MPT</td>\n",
       "      <td> 0bda63f1f542daa78264df28c95fbb6d</td>\n",
       "      <td> NL</td>\n",
       "      <td> SJJ</td>\n",
       "      <td> ZRH</td>\n",
       "      <td> 0</td>\n",
       "      <td> 1</td>\n",
       "    </tr>\n",
       "    <tr>\n",
       "      <th>75 </th>\n",
       "      <td> 2013-03-02 22:27:41</td>\n",
       "      <td> MPT</td>\n",
       "      <td> 0bda63f1f542daa78264df28c95fbb6d</td>\n",
       "      <td> NL</td>\n",
       "      <td> SJJ</td>\n",
       "      <td> ZRH</td>\n",
       "      <td> 0</td>\n",
       "      <td> 1</td>\n",
       "    </tr>\n",
       "    <tr>\n",
       "      <th>78 </th>\n",
       "      <td> 2013-01-07 01:18:26</td>\n",
       "      <td> FFP</td>\n",
       "      <td> 6ec95b5d47a8864fb45dd8c2265b4462</td>\n",
       "      <td> AU</td>\n",
       "      <td> SYD</td>\n",
       "      <td> FCO</td>\n",
       "      <td> 1</td>\n",
       "      <td> 1</td>\n",
       "    </tr>\n",
       "    <tr>\n",
       "      <th>79 </th>\n",
       "      <td> 2013-01-07 01:18:26</td>\n",
       "      <td> FFP</td>\n",
       "      <td> 6ec95b5d47a8864fb45dd8c2265b4462</td>\n",
       "      <td> AU</td>\n",
       "      <td> SYD</td>\n",
       "      <td> FCO</td>\n",
       "      <td> 1</td>\n",
       "      <td> 1</td>\n",
       "    </tr>\n",
       "    <tr>\n",
       "      <th>80 </th>\n",
       "      <td> 2013-01-07 01:18:26</td>\n",
       "      <td> FFP</td>\n",
       "      <td> 6ec95b5d47a8864fb45dd8c2265b4462</td>\n",
       "      <td> AU</td>\n",
       "      <td> SYD</td>\n",
       "      <td> FCO</td>\n",
       "      <td> 1</td>\n",
       "      <td> 1</td>\n",
       "    </tr>\n",
       "    <tr>\n",
       "      <th>84 </th>\n",
       "      <td> 2013-01-10 06:07:04</td>\n",
       "      <td> MPT</td>\n",
       "      <td> 8df3ca2bf9c54635de9cef8ae65d3da5</td>\n",
       "      <td> US</td>\n",
       "      <td> MIA</td>\n",
       "      <td> MVD</td>\n",
       "      <td> 1</td>\n",
       "      <td> 2</td>\n",
       "    </tr>\n",
       "    <tr>\n",
       "      <th>91 </th>\n",
       "      <td> 2013-01-31 12:17:53</td>\n",
       "      <td> FXA</td>\n",
       "      <td> 3294e3267d6dfbf5eb49e34651d37fd4</td>\n",
       "      <td> RO</td>\n",
       "      <td> FRA</td>\n",
       "      <td> OTP</td>\n",
       "      <td> 1</td>\n",
       "      <td> 1</td>\n",
       "    </tr>\n",
       "    <tr>\n",
       "      <th>92 </th>\n",
       "      <td> 2013-01-31 12:17:53</td>\n",
       "      <td> FXA</td>\n",
       "      <td> 3294e3267d6dfbf5eb49e34651d37fd4</td>\n",
       "      <td> RO</td>\n",
       "      <td> FRA</td>\n",
       "      <td> OTP</td>\n",
       "      <td> 1</td>\n",
       "      <td> 1</td>\n",
       "    </tr>\n",
       "    <tr>\n",
       "      <th>93 </th>\n",
       "      <td> 2013-01-30 10:44:29</td>\n",
       "      <td> MPT</td>\n",
       "      <td> e4096b6fb1988857964605a5905c6969</td>\n",
       "      <td> FR</td>\n",
       "      <td> TLV</td>\n",
       "      <td> CDG</td>\n",
       "      <td> 0</td>\n",
       "      <td> 1</td>\n",
       "    </tr>\n",
       "    <tr>\n",
       "      <th>94 </th>\n",
       "      <td> 2013-01-30 10:44:29</td>\n",
       "      <td> MPT</td>\n",
       "      <td> e4096b6fb1988857964605a5905c6969</td>\n",
       "      <td> FR</td>\n",
       "      <td> TLV</td>\n",
       "      <td> CDG</td>\n",
       "      <td> 0</td>\n",
       "      <td> 1</td>\n",
       "    </tr>\n",
       "    <tr>\n",
       "      <th>99 </th>\n",
       "      <td> 2013-01-06 23:54:16</td>\n",
       "      <td> FXP</td>\n",
       "      <td> bd58c7dd6105930317025f2f85d6ad31</td>\n",
       "      <td> KR</td>\n",
       "      <td> ICN</td>\n",
       "      <td> NRT</td>\n",
       "      <td> 1</td>\n",
       "      <td> 6</td>\n",
       "    </tr>\n",
       "    <tr>\n",
       "      <th>100</th>\n",
       "      <td> 2013-01-01 01:44:37</td>\n",
       "      <td> MPT</td>\n",
       "      <td> f60e2ae7a4338f72f4b7c36b30a527ec</td>\n",
       "      <td> SE</td>\n",
       "      <td> CPH</td>\n",
       "      <td> BKK</td>\n",
       "      <td> 1</td>\n",
       "      <td> 1</td>\n",
       "    </tr>\n",
       "    <tr>\n",
       "      <th>101</th>\n",
       "      <td> 2013-01-01 01:44:37</td>\n",
       "      <td> MPT</td>\n",
       "      <td> f60e2ae7a4338f72f4b7c36b30a527ec</td>\n",
       "      <td> SE</td>\n",
       "      <td> CPH</td>\n",
       "      <td> BKK</td>\n",
       "      <td> 1</td>\n",
       "      <td> 1</td>\n",
       "    </tr>\n",
       "    <tr>\n",
       "      <th>104</th>\n",
       "      <td> 2013-02-24 17:23:18</td>\n",
       "      <td> MPT</td>\n",
       "      <td> d60d0c8fe25ecff3af275b5ca028fcc6</td>\n",
       "      <td> US</td>\n",
       "      <td> TPA</td>\n",
       "      <td> MEX</td>\n",
       "      <td> 1</td>\n",
       "      <td> 1</td>\n",
       "    </tr>\n",
       "    <tr>\n",
       "      <th>106</th>\n",
       "      <td> 2013-01-22 11:03:58</td>\n",
       "      <td> FQD</td>\n",
       "      <td> e8741eaf2fa2f71f931475d18fa72096</td>\n",
       "      <td> US</td>\n",
       "      <td> BOS</td>\n",
       "      <td> EWR</td>\n",
       "      <td> 0</td>\n",
       "      <td> 1</td>\n",
       "    </tr>\n",
       "    <tr>\n",
       "      <th>107</th>\n",
       "      <td> 2013-01-22 11:03:58</td>\n",
       "      <td> FQD</td>\n",
       "      <td> e8741eaf2fa2f71f931475d18fa72096</td>\n",
       "      <td> US</td>\n",
       "      <td> BOS</td>\n",
       "      <td> EWR</td>\n",
       "      <td> 0</td>\n",
       "      <td> 1</td>\n",
       "    </tr>\n",
       "    <tr>\n",
       "      <th>116</th>\n",
       "      <td> 2013-01-25 14:04:52</td>\n",
       "      <td> MPT</td>\n",
       "      <td> b478dbed931f3c13ed659ae69b1b7dfb</td>\n",
       "      <td> US</td>\n",
       "      <td> LAX</td>\n",
       "      <td> YVR</td>\n",
       "      <td> 1</td>\n",
       "      <td> 1</td>\n",
       "    </tr>\n",
       "    <tr>\n",
       "      <th>117</th>\n",
       "      <td> 2013-01-25 14:04:52</td>\n",
       "      <td> MPT</td>\n",
       "      <td> b478dbed931f3c13ed659ae69b1b7dfb</td>\n",
       "      <td> US</td>\n",
       "      <td> LAX</td>\n",
       "      <td> YVR</td>\n",
       "      <td> 1</td>\n",
       "      <td> 1</td>\n",
       "    </tr>\n",
       "    <tr>\n",
       "      <th>118</th>\n",
       "      <td> 2013-01-25 02:39:13</td>\n",
       "      <td> CAL</td>\n",
       "      <td> 3edc2308dafdf35f062b45e149be63f8</td>\n",
       "      <td> CA</td>\n",
       "      <td> YYZ</td>\n",
       "      <td> ACC</td>\n",
       "      <td> 1</td>\n",
       "      <td> 3</td>\n",
       "    </tr>\n",
       "    <tr>\n",
       "      <th>119</th>\n",
       "      <td> 2013-01-25 02:39:13</td>\n",
       "      <td> CAL</td>\n",
       "      <td> 3edc2308dafdf35f062b45e149be63f8</td>\n",
       "      <td> CA</td>\n",
       "      <td> YYZ</td>\n",
       "      <td> ACC</td>\n",
       "      <td> 1</td>\n",
       "      <td> 3</td>\n",
       "    </tr>\n",
       "    <tr>\n",
       "      <th>122</th>\n",
       "      <td> 2013-03-08 19:46:48</td>\n",
       "      <td> FXA</td>\n",
       "      <td> b6a09ae5a7991d4d4db91f3eb09b6d44</td>\n",
       "      <td> US</td>\n",
       "      <td> ORD</td>\n",
       "      <td> LGA</td>\n",
       "      <td> 1</td>\n",
       "      <td> 1</td>\n",
       "    </tr>\n",
       "    <tr>\n",
       "      <th>123</th>\n",
       "      <td> 2013-03-08 19:46:48</td>\n",
       "      <td> FXA</td>\n",
       "      <td> b6a09ae5a7991d4d4db91f3eb09b6d44</td>\n",
       "      <td> US</td>\n",
       "      <td> ORD</td>\n",
       "      <td> LGA</td>\n",
       "      <td> 1</td>\n",
       "      <td> 1</td>\n",
       "    </tr>\n",
       "    <tr>\n",
       "      <th>124</th>\n",
       "      <td> 2013-01-08 15:14:45</td>\n",
       "      <td> FQD</td>\n",
       "      <td> 28bd43d2b0751180dbb5aecedcf37bba</td>\n",
       "      <td> JP</td>\n",
       "      <td> NRT</td>\n",
       "      <td> CDG</td>\n",
       "      <td> 1</td>\n",
       "      <td> 1</td>\n",
       "    </tr>\n",
       "    <tr>\n",
       "      <th>125</th>\n",
       "      <td> 2013-01-08 15:14:45</td>\n",
       "      <td> FQD</td>\n",
       "      <td> 28bd43d2b0751180dbb5aecedcf37bba</td>\n",
       "      <td> JP</td>\n",
       "      <td> NRT</td>\n",
       "      <td> CDG</td>\n",
       "      <td> 1</td>\n",
       "      <td> 1</td>\n",
       "    </tr>\n",
       "    <tr>\n",
       "      <th>126</th>\n",
       "      <td> 2013-01-04 14:39:48</td>\n",
       "      <td> CAL</td>\n",
       "      <td> 3565e31495ecfd46fa018339d20382b1</td>\n",
       "      <td> SA</td>\n",
       "      <td> DMM</td>\n",
       "      <td> CAI</td>\n",
       "      <td> 1</td>\n",
       "      <td> 1</td>\n",
       "    </tr>\n",
       "    <tr>\n",
       "      <th>127</th>\n",
       "      <td> 2013-01-04 14:39:48</td>\n",
       "      <td> CAL</td>\n",
       "      <td> 3565e31495ecfd46fa018339d20382b1</td>\n",
       "      <td> SA</td>\n",
       "      <td> DMM</td>\n",
       "      <td> CAI</td>\n",
       "      <td> 1</td>\n",
       "      <td> 1</td>\n",
       "    </tr>\n",
       "    <tr>\n",
       "      <th>128</th>\n",
       "      <td> 2013-01-03 14:29:42</td>\n",
       "      <td> MPT</td>\n",
       "      <td> 440642a9bdaeb6287f826cefd73255e8</td>\n",
       "      <td> US</td>\n",
       "      <td> YYZ</td>\n",
       "      <td> TLV</td>\n",
       "      <td> 1</td>\n",
       "      <td> 1</td>\n",
       "    </tr>\n",
       "    <tr>\n",
       "      <th>129</th>\n",
       "      <td> 2013-01-03 14:29:42</td>\n",
       "      <td> MPT</td>\n",
       "      <td> 440642a9bdaeb6287f826cefd73255e8</td>\n",
       "      <td> US</td>\n",
       "      <td> YYZ</td>\n",
       "      <td> TLV</td>\n",
       "      <td> 1</td>\n",
       "      <td> 1</td>\n",
       "    </tr>\n",
       "    <tr>\n",
       "      <th>141</th>\n",
       "      <td> 2013-01-08 01:45:41</td>\n",
       "      <td> MPT</td>\n",
       "      <td> 3561a60621de06ab1badc8ca55699ef3</td>\n",
       "      <td> US</td>\n",
       "      <td> OAK</td>\n",
       "      <td> LAS</td>\n",
       "      <td> 1</td>\n",
       "      <td> 4</td>\n",
       "    </tr>\n",
       "    <tr>\n",
       "      <th></th>\n",
       "      <td>...</td>\n",
       "      <td>...</td>\n",
       "      <td>...</td>\n",
       "      <td>...</td>\n",
       "      <td>...</td>\n",
       "      <td>...</td>\n",
       "      <td>...</td>\n",
       "      <td>...</td>\n",
       "    </tr>\n",
       "  </tbody>\n",
       "</table>\n",
       "<p>60999 rows × 8 columns</p>\n",
       "</div>"
      ],
      "text/plain": [
       "               Date_Time TxnCode                          OfficeID Country  \\\n",
       "5    2013-02-02 19:43:12     FQD  e8741eaf2fa2f71f931475d18fa72096      US   \n",
       "6    2013-02-02 19:43:12     FQD  e8741eaf2fa2f71f931475d18fa72096      US   \n",
       "7    2013-02-04 22:36:52     FFP  7d668b5f750866f7a8f10f1505c9423f      JP   \n",
       "8    2013-02-04 22:36:52     FFP  7d668b5f750866f7a8f10f1505c9423f      JP   \n",
       "9    2013-02-04 22:36:52     FFP  7d668b5f750866f7a8f10f1505c9423f      JP   \n",
       "10   2013-02-04 22:36:52     FFP  7d668b5f750866f7a8f10f1505c9423f      JP   \n",
       "15   2013-02-04 22:36:52     FFP  7d668b5f750866f7a8f10f1505c9423f      JP   \n",
       "16   2013-02-04 22:36:52     FFP  7d668b5f750866f7a8f10f1505c9423f      JP   \n",
       "17   2013-02-04 22:36:52     FFP  7d668b5f750866f7a8f10f1505c9423f      JP   \n",
       "18   2013-02-04 22:36:52     FFP  7d668b5f750866f7a8f10f1505c9423f      JP   \n",
       "21   2013-02-28 10:45:37     MPT  35faa8a5f0d159e215a6e63364e0c877      IT   \n",
       "30   2013-01-05 19:21:24     FFP  aa5560258a8882f264d157e15c9997cc      FR   \n",
       "31   2013-01-05 19:21:24     FFP  aa5560258a8882f264d157e15c9997cc      FR   \n",
       "32   2013-01-05 19:21:24     FFP  aa5560258a8882f264d157e15c9997cc      FR   \n",
       "38   2013-02-16 09:46:33     FXP  67a51c676f1c0cda664f5a855af7b040      IN   \n",
       "39   2013-02-16 09:46:33     FXP  67a51c676f1c0cda664f5a855af7b040      IN   \n",
       "42   2013-02-16 09:46:33     FXP  67a51c676f1c0cda664f5a855af7b040      IN   \n",
       "43   2013-02-16 09:46:33     FXP  67a51c676f1c0cda664f5a855af7b040      IN   \n",
       "45   2013-01-05 17:48:06     FQD  d548d9da427441458ba614dc0be9fc6e      FR   \n",
       "46   2013-01-05 17:48:06     FQD  d548d9da427441458ba614dc0be9fc6e      FR   \n",
       "48   2013-01-05 17:48:06     FQD  d548d9da427441458ba614dc0be9fc6e      FR   \n",
       "52   2013-02-14 11:19:40     MPT  8b4fa4e121637f583bfa86ef0fa26c9e      US   \n",
       "53   2013-02-14 11:19:40     MPT  8b4fa4e121637f583bfa86ef0fa26c9e      US   \n",
       "54   2013-03-17 05:04:18     FXR  5e1316b99bd110aaa94b51b8e7b650a7      CA   \n",
       "55   2013-03-17 05:04:18     FXR  5e1316b99bd110aaa94b51b8e7b650a7      CA   \n",
       "58   2013-01-04 23:02:17     MPT  8b4fa4e121637f583bfa86ef0fa26c9e      US   \n",
       "61   2013-01-15 18:56:14     CAL  4633a6bb4618f15888555d3f64acecef      ES   \n",
       "62   2013-01-15 18:56:14     CAL  4633a6bb4618f15888555d3f64acecef      ES   \n",
       "64   2013-01-15 18:56:14     CAL  4633a6bb4618f15888555d3f64acecef      ES   \n",
       "68   2013-03-02 22:27:41     MPT  0bda63f1f542daa78264df28c95fbb6d      NL   \n",
       "69   2013-03-02 22:27:41     MPT  0bda63f1f542daa78264df28c95fbb6d      NL   \n",
       "74   2013-03-02 22:27:41     MPT  0bda63f1f542daa78264df28c95fbb6d      NL   \n",
       "75   2013-03-02 22:27:41     MPT  0bda63f1f542daa78264df28c95fbb6d      NL   \n",
       "78   2013-01-07 01:18:26     FFP  6ec95b5d47a8864fb45dd8c2265b4462      AU   \n",
       "79   2013-01-07 01:18:26     FFP  6ec95b5d47a8864fb45dd8c2265b4462      AU   \n",
       "80   2013-01-07 01:18:26     FFP  6ec95b5d47a8864fb45dd8c2265b4462      AU   \n",
       "84   2013-01-10 06:07:04     MPT  8df3ca2bf9c54635de9cef8ae65d3da5      US   \n",
       "91   2013-01-31 12:17:53     FXA  3294e3267d6dfbf5eb49e34651d37fd4      RO   \n",
       "92   2013-01-31 12:17:53     FXA  3294e3267d6dfbf5eb49e34651d37fd4      RO   \n",
       "93   2013-01-30 10:44:29     MPT  e4096b6fb1988857964605a5905c6969      FR   \n",
       "94   2013-01-30 10:44:29     MPT  e4096b6fb1988857964605a5905c6969      FR   \n",
       "99   2013-01-06 23:54:16     FXP  bd58c7dd6105930317025f2f85d6ad31      KR   \n",
       "100  2013-01-01 01:44:37     MPT  f60e2ae7a4338f72f4b7c36b30a527ec      SE   \n",
       "101  2013-01-01 01:44:37     MPT  f60e2ae7a4338f72f4b7c36b30a527ec      SE   \n",
       "104  2013-02-24 17:23:18     MPT  d60d0c8fe25ecff3af275b5ca028fcc6      US   \n",
       "106  2013-01-22 11:03:58     FQD  e8741eaf2fa2f71f931475d18fa72096      US   \n",
       "107  2013-01-22 11:03:58     FQD  e8741eaf2fa2f71f931475d18fa72096      US   \n",
       "116  2013-01-25 14:04:52     MPT  b478dbed931f3c13ed659ae69b1b7dfb      US   \n",
       "117  2013-01-25 14:04:52     MPT  b478dbed931f3c13ed659ae69b1b7dfb      US   \n",
       "118  2013-01-25 02:39:13     CAL  3edc2308dafdf35f062b45e149be63f8      CA   \n",
       "119  2013-01-25 02:39:13     CAL  3edc2308dafdf35f062b45e149be63f8      CA   \n",
       "122  2013-03-08 19:46:48     FXA  b6a09ae5a7991d4d4db91f3eb09b6d44      US   \n",
       "123  2013-03-08 19:46:48     FXA  b6a09ae5a7991d4d4db91f3eb09b6d44      US   \n",
       "124  2013-01-08 15:14:45     FQD  28bd43d2b0751180dbb5aecedcf37bba      JP   \n",
       "125  2013-01-08 15:14:45     FQD  28bd43d2b0751180dbb5aecedcf37bba      JP   \n",
       "126  2013-01-04 14:39:48     CAL  3565e31495ecfd46fa018339d20382b1      SA   \n",
       "127  2013-01-04 14:39:48     CAL  3565e31495ecfd46fa018339d20382b1      SA   \n",
       "128  2013-01-03 14:29:42     MPT  440642a9bdaeb6287f826cefd73255e8      US   \n",
       "129  2013-01-03 14:29:42     MPT  440642a9bdaeb6287f826cefd73255e8      US   \n",
       "141  2013-01-08 01:45:41     MPT  3561a60621de06ab1badc8ca55699ef3      US   \n",
       "                     ...     ...                               ...     ...   \n",
       "\n",
       "    Origin Destination  RoundTrip  pax  \n",
       "5      DEN         LGA          0    1  \n",
       "6      DEN         LGA          0    1  \n",
       "7      NRT         SIN          0    2  \n",
       "8      NRT         SIN          0    2  \n",
       "9      NRT         SIN          0    2  \n",
       "10     NRT         SIN          0    2  \n",
       "15     NRT         SIN          0    1  \n",
       "16     NRT         SIN          0    1  \n",
       "17     NRT         SIN          0    1  \n",
       "18     NRT         SIN          0    1  \n",
       "21     FCO         CTA          1    2  \n",
       "30     CDG         PVG          1    2  \n",
       "31     CDG         PVG          1    2  \n",
       "32     CDG         PVG          1    2  \n",
       "38     DEL         DMM          1    2  \n",
       "39     DEL         DMM          1    2  \n",
       "42     DEL         DMM          1    1  \n",
       "43     DEL         DMM          1    1  \n",
       "45     ORY         LIS          1    2  \n",
       "46     ORY         LIS          1    2  \n",
       "48     ORY         LIS          1    2  \n",
       "52     BOS         BWI          0    3  \n",
       "53     BOS         BWI          0    3  \n",
       "54     YYC         DEL          1    1  \n",
       "55     YYC         DEL          1    1  \n",
       "58     BUF         TPA          1    2  \n",
       "61     BCN         MNL          1    2  \n",
       "62     BCN         MNL          1    2  \n",
       "64     BCN         MNL          1    2  \n",
       "68     SJJ         ZRH          0    1  \n",
       "69     SJJ         ZRH          0    1  \n",
       "74     SJJ         ZRH          0    1  \n",
       "75     SJJ         ZRH          0    1  \n",
       "78     SYD         FCO          1    1  \n",
       "79     SYD         FCO          1    1  \n",
       "80     SYD         FCO          1    1  \n",
       "84     MIA         MVD          1    2  \n",
       "91     FRA         OTP          1    1  \n",
       "92     FRA         OTP          1    1  \n",
       "93     TLV         CDG          0    1  \n",
       "94     TLV         CDG          0    1  \n",
       "99     ICN         NRT          1    6  \n",
       "100    CPH         BKK          1    1  \n",
       "101    CPH         BKK          1    1  \n",
       "104    TPA         MEX          1    1  \n",
       "106    BOS         EWR          0    1  \n",
       "107    BOS         EWR          0    1  \n",
       "116    LAX         YVR          1    1  \n",
       "117    LAX         YVR          1    1  \n",
       "118    YYZ         ACC          1    3  \n",
       "119    YYZ         ACC          1    3  \n",
       "122    ORD         LGA          1    1  \n",
       "123    ORD         LGA          1    1  \n",
       "124    NRT         CDG          1    1  \n",
       "125    NRT         CDG          1    1  \n",
       "126    DMM         CAI          1    1  \n",
       "127    DMM         CAI          1    1  \n",
       "128    YYZ         TLV          1    1  \n",
       "129    YYZ         TLV          1    1  \n",
       "141    OAK         LAS          1    4  \n",
       "       ...         ...        ...  ...  \n",
       "\n",
       "[60999 rows x 8 columns]"
      ]
     },
     "execution_count": 56,
     "metadata": {},
     "output_type": "execute_result"
    }
   ],
   "source": [
    "bookedSearches[['Date_Time','TxnCode','OfficeID','Country','Origin','Destination','RoundTrip','pax']].sort()"
   ]
  },
  {
   "cell_type": "code",
   "execution_count": null,
   "metadata": {
    "collapsed": true
   },
   "outputs": [],
   "source": [
    "#searches['booked'] = pd.Series(np.zeros((searchesSize,), dtype=numpy.int), index=searches.index)"
   ]
  },
  {
   "cell_type": "code",
   "execution_count": null,
   "metadata": {
    "collapsed": true
   },
   "outputs": [],
   "source": [
    "searches['booked'] = pd.Series(searches['TxnCode'] == bookedSearches['TxnCode'].any), index=searches.index)"
   ]
  },
  {
   "cell_type": "code",
   "execution_count": null,
   "metadata": {
    "collapsed": true
   },
   "outputs": [],
   "source": [
    "searches.to_csv('searcheswithbookings.csv', sep='^')"
   ]
  }
 ],
 "metadata": {
  "kernelspec": {
   "display_name": "Python 2",
   "language": "python",
   "name": "python2"
  },
  "language_info": {
   "codemirror_mode": {
    "name": "ipython",
    "version": 2
   },
   "file_extension": ".py",
   "mimetype": "text/x-python",
   "name": "python",
   "nbconvert_exporter": "python",
   "pygments_lexer": "ipython2",
   "version": "2.7.6"
  }
 },
 "nbformat": 4,
 "nbformat_minor": 0
}
