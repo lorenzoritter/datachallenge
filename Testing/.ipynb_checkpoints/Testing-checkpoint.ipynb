{
 "cells": [
  {
   "cell_type": "markdown",
   "metadata": {},
   "source": [
    "# Amadeus Data Challenge"
   ]
  },
  {
   "cell_type": "markdown",
   "metadata": {},
   "source": [
    "## Lorenzo von Ritter"
   ]
  },
  {
   "cell_type": "markdown",
   "metadata": {},
   "source": [
    "### Exercise 3"
   ]
  },
  {
   "cell_type": "code",
   "execution_count": 273,
   "metadata": {
    "collapsed": true
   },
   "outputs": [],
   "source": [
    "import pandas as pd\n",
    "import numpy as np\n",
    "import matplotlib.pyplot as plt"
   ]
  },
  {
   "cell_type": "code",
   "execution_count": 274,
   "metadata": {
    "collapsed": true
   },
   "outputs": [],
   "source": [
    "%matplotlib inline"
   ]
  },
  {
   "cell_type": "markdown",
   "metadata": {},
   "source": [
    "#### Import data"
   ]
  },
  {
   "cell_type": "code",
   "execution_count": 223,
   "metadata": {
    "collapsed": false,
    "scrolled": true
   },
   "outputs": [
    {
     "name": "stdout",
     "output_type": "stream",
     "text": [
      "CPU times: user 7.79 s, sys: 945 ms, total: 8.73 s\n",
      "Wall time: 14.8 s\n"
     ]
    }
   ],
   "source": [
    "time searches = pd.read_csv(\"../searches.csv\", sep=\"^\", nrows=1000000)"
   ]
  },
  {
   "cell_type": "markdown",
   "metadata": {},
   "source": [
    "#### Search with one airport"
   ]
  },
  {
   "cell_type": "code",
   "execution_count": 275,
   "metadata": {
    "collapsed": false
   },
   "outputs": [],
   "source": [
    "special_searches = searches[(searches[\"Destination\"] == \"AGP\")]"
   ]
  },
  {
   "cell_type": "code",
   "execution_count": 276,
   "metadata": {
    "collapsed": false
   },
   "outputs": [
    {
     "data": {
      "text/plain": [
       "2013-01-31    507\n",
       "2013-02-28    441\n",
       "2013-03-31    561\n",
       "2013-04-30    435\n",
       "2013-05-31    570\n",
       "2013-06-30    417\n",
       "2013-07-31    468\n",
       "2013-08-31    414\n",
       "2013-09-30    429\n",
       "2013-10-31    271\n",
       "2013-11-30    228\n",
       "2013-12-31    132\n",
       "Freq: M, dtype: int64"
      ]
     },
     "execution_count": 276,
     "metadata": {},
     "output_type": "execute_result"
    }
   ],
   "source": [
    "datecount = special_searches.groupby(['Date']).Date.count()\n",
    "datecount.index = pd.to_datetime(datecount.index)\n",
    "monthcount = datecount.resample('M', how=sum)\n",
    "monthcount"
   ]
  },
  {
   "cell_type": "markdown",
   "metadata": {},
   "source": [
    "#### Now with all three airports"
   ]
  },
  {
   "cell_type": "code",
   "execution_count": 277,
   "metadata": {
    "collapsed": true
   },
   "outputs": [],
   "source": [
    "special_searches = searches[(searches[\"Destination\"] == \"AGP\") | (searches[\"Destination\"] == \"BCN\") | (searches[\"Destination\"] == \"MAD\")]"
   ]
  },
  {
   "cell_type": "code",
   "execution_count": 278,
   "metadata": {
    "collapsed": false
   },
   "outputs": [
    {
     "data": {
      "text/html": [
       "<div style=\"max-height:1000px;max-width:1500px;overflow:auto;\">\n",
       "<table border=\"1\" class=\"dataframe\">\n",
       "  <thead>\n",
       "    <tr style=\"text-align: right;\">\n",
       "      <th>Destination</th>\n",
       "      <th>AGP</th>\n",
       "      <th>BCN</th>\n",
       "      <th>MAD</th>\n",
       "    </tr>\n",
       "  </thead>\n",
       "  <tbody>\n",
       "    <tr>\n",
       "      <th>2013-01-31</th>\n",
       "      <td> 507</td>\n",
       "      <td> 1551</td>\n",
       "      <td> 1275</td>\n",
       "    </tr>\n",
       "    <tr>\n",
       "      <th>2013-02-28</th>\n",
       "      <td> 441</td>\n",
       "      <td> 1491</td>\n",
       "      <td> 1200</td>\n",
       "    </tr>\n",
       "    <tr>\n",
       "      <th>2013-03-31</th>\n",
       "      <td> 561</td>\n",
       "      <td> 1608</td>\n",
       "      <td> 1299</td>\n",
       "    </tr>\n",
       "    <tr>\n",
       "      <th>2013-04-30</th>\n",
       "      <td> 435</td>\n",
       "      <td> 1644</td>\n",
       "      <td> 1329</td>\n",
       "    </tr>\n",
       "    <tr>\n",
       "      <th>2013-05-31</th>\n",
       "      <td> 570</td>\n",
       "      <td> 1512</td>\n",
       "      <td> 1386</td>\n",
       "    </tr>\n",
       "    <tr>\n",
       "      <th>2013-06-30</th>\n",
       "      <td> 417</td>\n",
       "      <td> 1395</td>\n",
       "      <td> 1200</td>\n",
       "    </tr>\n",
       "    <tr>\n",
       "      <th>2013-07-31</th>\n",
       "      <td> 468</td>\n",
       "      <td> 1539</td>\n",
       "      <td> 1209</td>\n",
       "    </tr>\n",
       "    <tr>\n",
       "      <th>2013-08-31</th>\n",
       "      <td> 414</td>\n",
       "      <td> 1425</td>\n",
       "      <td> 1149</td>\n",
       "    </tr>\n",
       "    <tr>\n",
       "      <th>2013-09-30</th>\n",
       "      <td> 429</td>\n",
       "      <td> 1233</td>\n",
       "      <td> 1113</td>\n",
       "    </tr>\n",
       "    <tr>\n",
       "      <th>2013-10-31</th>\n",
       "      <td> 271</td>\n",
       "      <td>  839</td>\n",
       "      <td>  915</td>\n",
       "    </tr>\n",
       "    <tr>\n",
       "      <th>2013-11-30</th>\n",
       "      <td> 228</td>\n",
       "      <td>  708</td>\n",
       "      <td>  724</td>\n",
       "    </tr>\n",
       "    <tr>\n",
       "      <th>2013-12-31</th>\n",
       "      <td> 132</td>\n",
       "      <td>  550</td>\n",
       "      <td>  518</td>\n",
       "    </tr>\n",
       "  </tbody>\n",
       "</table>\n",
       "<p>12 rows × 3 columns</p>\n",
       "</div>"
      ],
      "text/plain": [
       "Destination  AGP   BCN   MAD\n",
       "2013-01-31   507  1551  1275\n",
       "2013-02-28   441  1491  1200\n",
       "2013-03-31   561  1608  1299\n",
       "2013-04-30   435  1644  1329\n",
       "2013-05-31   570  1512  1386\n",
       "2013-06-30   417  1395  1200\n",
       "2013-07-31   468  1539  1209\n",
       "2013-08-31   414  1425  1149\n",
       "2013-09-30   429  1233  1113\n",
       "2013-10-31   271   839   915\n",
       "2013-11-30   228   708   724\n",
       "2013-12-31   132   550   518\n",
       "\n",
       "[12 rows x 3 columns]"
      ]
     },
     "execution_count": 278,
     "metadata": {},
     "output_type": "execute_result"
    }
   ],
   "source": [
    "datecount = special_searches.groupby(['Date','Destination']).Date.count()\n",
    "datecount = datecount.unstack('Destination')\n",
    "datecount.index = pd.to_datetime(datecount.index)\n",
    "monthcount = datecount.resample('M', how=sum)\n",
    "monthcount\n"
   ]
  },
  {
   "cell_type": "code",
   "execution_count": 280,
   "metadata": {
    "collapsed": false
   },
   "outputs": [
    {
     "data": {
      "text/plain": [
       "<matplotlib.axes.AxesSubplot at 0x7f2afb88c590>"
      ]
     },
     "execution_count": 280,
     "metadata": {},
     "output_type": "execute_result"
    },
    {
     "data": {
      "image/png": "[encoded data removed]",
      "text/plain": [
       "<matplotlib.figure.Figure at 0x7f2afacb8a90>"
      ]
     },
     "metadata": {},
     "output_type": "display_data"
    }
   ],
   "source": [
    "monthcount.plot()"
   ]
  },
  {
   "cell_type": "code",
   "execution_count": null,
   "metadata": {
    "collapsed": true
   },
   "outputs": [],
   "source": []
  }
 ],
 "metadata": {
  "kernelspec": {
   "display_name": "Python 2",
   "language": "python",
   "name": "python2"
  },
  "language_info": {
   "codemirror_mode": {
    "name": "ipython",
    "version": 2
   },
   "file_extension": ".py",
   "mimetype": "text/x-python",
   "name": "python",
   "nbconvert_exporter": "python",
   "pygments_lexer": "ipython2",
   "version": "2.7.6"
  }
 },
 "nbformat": 4,
 "nbformat_minor": 0
}
