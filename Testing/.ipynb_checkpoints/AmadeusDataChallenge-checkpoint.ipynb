{
 "cells": [
  {
   "cell_type": "markdown",
   "metadata": {},
   "source": [
    "# Amadeus Data Challenge"
   ]
  },
  {
   "cell_type": "markdown",
   "metadata": {},
   "source": [
    "## Lorenzo von Ritter"
   ]
  },
  {
   "cell_type": "markdown",
   "metadata": {},
   "source": [
    "### Exercise 3"
   ]
  },
  {
   "cell_type": "code",
   "execution_count": 1,
   "metadata": {
    "collapsed": true
   },
   "outputs": [],
   "source": [
    "import pandas as pd\n",
    "import numpy as np\n",
    "import matplotlib.pyplot as plt"
   ]
  },
  {
   "cell_type": "code",
   "execution_count": 2,
   "metadata": {
    "collapsed": true
   },
   "outputs": [],
   "source": [
    "%matplotlib inline"
   ]
  },
  {
   "cell_type": "code",
   "execution_count": 39,
   "metadata": {
    "collapsed": false
   },
   "outputs": [
    {
     "name": "stdout",
     "output_type": "stream",
     "text": [
      "CPU times: user 2min 18s, sys: 7.52 s, total: 2min 26s\n",
      "Wall time: 2min 53s\n"
     ]
    }
   ],
   "source": [
    "time searches = pd.read_csv(\"../searches.csv\", sep=\"^\", usecols=['Date','Origin','Destination'], parse_dates=[0], dtype={'Origin': object,'Destination': object})"
   ]
  },
  {
   "cell_type": "code",
   "execution_count": 43,
   "metadata": {
    "collapsed": false
   },
   "outputs": [
    {
     "data": {
      "text/plain": [
       "Date           object\n",
       "Origin         object\n",
       "Destination    object\n",
       "dtype: object"
      ]
     },
     "execution_count": 43,
     "metadata": {},
     "output_type": "execute_result"
    }
   ],
   "source": [
    "searches.dtypes"
   ]
  },
  {
   "cell_type": "code",
   "execution_count": 44,
   "metadata": {
    "collapsed": true
   },
   "outputs": [],
   "source": [
    "searches.Date = pd.to_datetime(searches.Date)"
   ]
  },
  {
   "cell_type": "code",
   "execution_count": 48,
   "metadata": {
    "collapsed": false
   },
   "outputs": [
    {
     "data": {
      "text/plain": [
       "Date           object\n",
       "Origin         object\n",
       "Destination    object\n",
       "dtype: object"
      ]
     },
     "execution_count": 48,
     "metadata": {},
     "output_type": "execute_result"
    }
   ],
   "source": [
    "searches.dtypes"
   ]
  },
  {
   "cell_type": "code",
   "execution_count": 50,
   "metadata": {
    "collapsed": true
   },
   "outputs": [],
   "source": [
    "special_searches = searches[(searches[\"Destination\"] == \"AGP\") | (searches[\"Destination\"] == \"BCN\") | (searches[\"Destination\"] == \"MAD\")]"
   ]
  },
  {
   "cell_type": "code",
   "execution_count": 52,
   "metadata": {
    "collapsed": false
   },
   "outputs": [],
   "source": [
    "datecount = special_searches.groupby(['Date','Destination']).Date.count()\n",
    "datecount = datecount.unstack('Destination')\n",
    "datecount.index = pd.to_datetime(datecount.index)"
   ]
  },
  {
   "cell_type": "code",
   "execution_count": 53,
   "metadata": {
    "collapsed": false
   },
   "outputs": [
    {
     "data": {
      "text/html": [
       "<div style=\"max-height:1000px;max-width:1500px;overflow:auto;\">\n",
       "<table border=\"1\" class=\"dataframe\">\n",
       "  <thead>\n",
       "    <tr style=\"text-align: right;\">\n",
       "      <th>Destination</th>\n",
       "      <th>AGP</th>\n",
       "      <th>BCN</th>\n",
       "      <th>MAD</th>\n",
       "    </tr>\n",
       "  </thead>\n",
       "  <tbody>\n",
       "    <tr>\n",
       "      <th>2013-01-31</th>\n",
       "      <td>  9633</td>\n",
       "      <td> 29469</td>\n",
       "      <td> 24258</td>\n",
       "    </tr>\n",
       "    <tr>\n",
       "      <th>2013-02-28</th>\n",
       "      <td>  8379</td>\n",
       "      <td> 28329</td>\n",
       "      <td> 22800</td>\n",
       "    </tr>\n",
       "    <tr>\n",
       "      <th>2013-03-31</th>\n",
       "      <td> 10659</td>\n",
       "      <td> 30552</td>\n",
       "      <td> 24681</td>\n",
       "    </tr>\n",
       "    <tr>\n",
       "      <th>2013-04-30</th>\n",
       "      <td>  8265</td>\n",
       "      <td> 31236</td>\n",
       "      <td> 25251</td>\n",
       "    </tr>\n",
       "    <tr>\n",
       "      <th>2013-05-31</th>\n",
       "      <td> 10830</td>\n",
       "      <td> 28728</td>\n",
       "      <td> 26334</td>\n",
       "    </tr>\n",
       "    <tr>\n",
       "      <th>2013-06-30</th>\n",
       "      <td>  7923</td>\n",
       "      <td> 26505</td>\n",
       "      <td> 22800</td>\n",
       "    </tr>\n",
       "    <tr>\n",
       "      <th>2013-07-31</th>\n",
       "      <td>  8892</td>\n",
       "      <td> 29241</td>\n",
       "      <td> 22971</td>\n",
       "    </tr>\n",
       "    <tr>\n",
       "      <th>2013-08-31</th>\n",
       "      <td>  7866</td>\n",
       "      <td> 27075</td>\n",
       "      <td> 21831</td>\n",
       "    </tr>\n",
       "    <tr>\n",
       "      <th>2013-09-30</th>\n",
       "      <td>  8151</td>\n",
       "      <td> 23427</td>\n",
       "      <td> 21147</td>\n",
       "    </tr>\n",
       "    <tr>\n",
       "      <th>2013-10-31</th>\n",
       "      <td>  6499</td>\n",
       "      <td> 20276</td>\n",
       "      <td> 22294</td>\n",
       "    </tr>\n",
       "    <tr>\n",
       "      <th>2013-11-30</th>\n",
       "      <td>  6384</td>\n",
       "      <td> 19824</td>\n",
       "      <td> 20272</td>\n",
       "    </tr>\n",
       "    <tr>\n",
       "      <th>2013-12-31</th>\n",
       "      <td>  3696</td>\n",
       "      <td> 15400</td>\n",
       "      <td> 14504</td>\n",
       "    </tr>\n",
       "  </tbody>\n",
       "</table>\n",
       "<p>12 rows × 3 columns</p>\n",
       "</div>"
      ],
      "text/plain": [
       "Destination    AGP    BCN    MAD\n",
       "2013-01-31    9633  29469  24258\n",
       "2013-02-28    8379  28329  22800\n",
       "2013-03-31   10659  30552  24681\n",
       "2013-04-30    8265  31236  25251\n",
       "2013-05-31   10830  28728  26334\n",
       "2013-06-30    7923  26505  22800\n",
       "2013-07-31    8892  29241  22971\n",
       "2013-08-31    7866  27075  21831\n",
       "2013-09-30    8151  23427  21147\n",
       "2013-10-31    6499  20276  22294\n",
       "2013-11-30    6384  19824  20272\n",
       "2013-12-31    3696  15400  14504\n",
       "\n",
       "[12 rows x 3 columns]"
      ]
     },
     "execution_count": 53,
     "metadata": {},
     "output_type": "execute_result"
    }
   ],
   "source": [
    "monthcount = datecount.resample('M', how=sum)\n",
    "monthcount"
   ]
  },
  {
   "cell_type": "code",
   "execution_count": 54,
   "metadata": {
    "collapsed": false
   },
   "outputs": [
    {
     "data": {
      "text/plain": [
       "<matplotlib.axes.AxesSubplot at 0x7f8917001dd0>"
      ]
     },
     "execution_count": 54,
     "metadata": {},
     "output_type": "execute_result"
    },
    {
     "data": {
      "image/png": "[encoded data removed]",
      "text/plain": [
       "<matplotlib.figure.Figure at 0x7f8917001390>"
      ]
     },
     "metadata": {},
     "output_type": "display_data"
    }
   ],
   "source": [
    "monthcount.plot()"
   ]
  }
 ],
 "metadata": {
  "kernelspec": {
   "display_name": "Python 2",
   "language": "python",
   "name": "python2"
  },
  "language_info": {
   "codemirror_mode": {
    "name": "ipython",
    "version": 2
   },
   "file_extension": ".py",
   "mimetype": "text/x-python",
   "name": "python",
   "nbconvert_exporter": "python",
   "pygments_lexer": "ipython2",
   "version": "2.7.6"
  }
 },
 "nbformat": 4,
 "nbformat_minor": 0
}
