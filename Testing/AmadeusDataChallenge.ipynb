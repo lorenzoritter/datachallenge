{
 "cells": [
  {
   "cell_type": "markdown",
   "metadata": {},
   "source": [
    "# Amadeus Data Challenge"
   ]
  },
  {
   "cell_type": "markdown",
   "metadata": {},
   "source": [
    "## Lorenzo von Ritter"
   ]
  },
  {
   "cell_type": "code",
   "execution_count": 2,
   "metadata": {
    "collapsed": true
   },
   "outputs": [],
   "source": [
    "import pandas as pd\n",
    "import numpy as np\n",
    "import matplotlib.pyplot as plt"
   ]
  },
  {
   "cell_type": "code",
   "execution_count": 3,
   "metadata": {
    "collapsed": true
   },
   "outputs": [],
   "source": [
    "%matplotlib inline"
   ]
  },
  {
   "cell_type": "code",
   "execution_count": 4,
   "metadata": {
    "collapsed": false
   },
   "outputs": [
    {
     "name": "stdout",
     "output_type": "stream",
     "text": [
      "CPU times: user 2min 35s, sys: 10.6 s, total: 2min 45s\n",
      "Wall time: 4min 51s\n"
     ]
    }
   ],
   "source": [
    "time searches = pd.read_csv(\"../searches.csv\", sep=\"^\", usecols=['Date','Origin','Destination'], parse_dates=[0], dtype={'Origin': object,'Destination': object})"
   ]
  },
  {
   "cell_type": "code",
   "execution_count": 148,
   "metadata": {
    "collapsed": false
   },
   "outputs": [
    {
     "name": "stdout",
     "output_type": "stream",
     "text": [
      "CPU times: user 58.8 s, sys: 8.38 s, total: 1min 7s\n",
      "Wall time: 4min 7s\n"
     ]
    }
   ],
   "source": [
    "time bookings = pd.read_csv(\"../bookings.csv\", sep=\"^\", usecols=['dep_port','arr_port','arr_city','pax'], dtype={'dep_port': object, 'arr_port': object, 'arr_city': object, 'pax': np.float64})"
   ]
  },
  {
   "cell_type": "markdown",
   "metadata": {},
   "source": [
    "###Exercise 1: Count the number of lines"
   ]
  },
  {
   "cell_type": "markdown",
   "metadata": {},
   "source": [
    "##### compare shape and count()"
   ]
  },
  {
   "cell_type": "code",
   "execution_count": 13,
   "metadata": {
    "collapsed": false
   },
   "outputs": [
    {
     "name": "stdout",
     "output_type": "stream",
     "text": [
      "CPU times: user 55 µs, sys: 4 µs, total: 59 µs\n",
      "Wall time: 68.9 µs\n"
     ]
    },
    {
     "data": {
      "text/plain": [
       "20390198"
      ]
     },
     "execution_count": 13,
     "metadata": {},
     "output_type": "execute_result"
    }
   ],
   "source": [
    "time searches.shape[0]"
   ]
  },
  {
   "cell_type": "code",
   "execution_count": 14,
   "metadata": {
    "collapsed": false,
    "scrolled": true
   },
   "outputs": [
    {
     "name": "stdout",
     "output_type": "stream",
     "text": [
      "CPU times: user 792 ms, sys: 31.6 ms, total: 824 ms\n",
      "Wall time: 891 ms\n"
     ]
    },
    {
     "data": {
      "text/plain": [
       "20390198"
      ]
     },
     "execution_count": 14,
     "metadata": {},
     "output_type": "execute_result"
    }
   ],
   "source": [
    "time searches.Date.count()"
   ]
  },
  {
   "cell_type": "markdown",
   "metadata": {},
   "source": [
    "##### shape is quicker than count()"
   ]
  },
  {
   "cell_type": "code",
   "execution_count": 15,
   "metadata": {
    "collapsed": false
   },
   "outputs": [
    {
     "data": {
      "text/plain": [
       "20390198"
      ]
     },
     "execution_count": 15,
     "metadata": {},
     "output_type": "execute_result"
    }
   ],
   "source": [
    "searchesSize = searches.shape[0]\n",
    "searchesSize"
   ]
  },
  {
   "cell_type": "code",
   "execution_count": 16,
   "metadata": {
    "collapsed": false
   },
   "outputs": [
    {
     "data": {
      "text/plain": [
       "10000010"
      ]
     },
     "execution_count": 16,
     "metadata": {},
     "output_type": "execute_result"
    }
   ],
   "source": [
    "bookingsSize = bookings.shape[0]\n",
    "bookingsSize"
   ]
  },
  {
   "cell_type": "markdown",
   "metadata": {},
   "source": [
    "### Execise 2: Top 10 airports"
   ]
  },
  {
   "cell_type": "code",
   "execution_count": 34,
   "metadata": {
    "collapsed": false
   },
   "outputs": [],
   "source": [
    "airports = bookings.groupby('arr_port').pax.count()\n",
    "airports.sort(ascending=0)"
   ]
  },
  {
   "cell_type": "code",
   "execution_count": 37,
   "metadata": {
    "collapsed": false
   },
   "outputs": [
    {
     "data": {
      "text/plain": [
       "arr_port\n",
       "LHR         215551\n",
       "JFK         158930\n",
       "CDG         149390\n",
       "LAX         143220\n",
       "DXB         135640\n",
       "BKK         130420\n",
       "MIA         117820\n",
       "SFO         110970\n",
       "MNL         109530\n",
       "ORD          99750\n",
       "dtype: int64"
      ]
     },
     "execution_count": 37,
     "metadata": {},
     "output_type": "execute_result"
    }
   ],
   "source": [
    "airports[0:10]"
   ]
  },
  {
   "cell_type": "markdown",
   "metadata": {},
   "source": [
    "### Exercise 3: Monthly arrivals in Málaga, Madrid and Barcelona"
   ]
  },
  {
   "cell_type": "code",
   "execution_count": 19,
   "metadata": {
    "collapsed": false
   },
   "outputs": [
    {
     "data": {
      "text/plain": [
       "Date           object\n",
       "Origin         object\n",
       "Destination    object\n",
       "dtype: object"
      ]
     },
     "execution_count": 19,
     "metadata": {},
     "output_type": "execute_result"
    }
   ],
   "source": [
    "searches.dtypes"
   ]
  },
  {
   "cell_type": "markdown",
   "metadata": {},
   "source": [
    "##### make date column of type datetime"
   ]
  },
  {
   "cell_type": "code",
   "execution_count": 20,
   "metadata": {
    "collapsed": true
   },
   "outputs": [],
   "source": [
    "searches.Date = pd.to_datetime(searches.Date)"
   ]
  },
  {
   "cell_type": "code",
   "execution_count": 22,
   "metadata": {
    "collapsed": false
   },
   "outputs": [
    {
     "data": {
      "text/plain": [
       "Date           object\n",
       "Origin         object\n",
       "Destination    object\n",
       "dtype: object"
      ]
     },
     "execution_count": 22,
     "metadata": {},
     "output_type": "execute_result"
    }
   ],
   "source": [
    "searches.dtypes"
   ]
  },
  {
   "cell_type": "markdown",
   "metadata": {},
   "source": [
    "##### did not work"
   ]
  },
  {
   "cell_type": "code",
   "execution_count": 38,
   "metadata": {
    "collapsed": true
   },
   "outputs": [],
   "source": [
    "special_searches = searches[(searches[\"Destination\"] == \"AGP\") | (searches[\"Destination\"] == \"BCN\") | (searches[\"Destination\"] == \"MAD\") | (searches[\"Destination\"] == \"TOJ\")]"
   ]
  },
  {
   "cell_type": "code",
   "execution_count": 39,
   "metadata": {
    "collapsed": false
   },
   "outputs": [
    {
     "data": {
      "text/plain": [
       "dtype('O')"
      ]
     },
     "execution_count": 39,
     "metadata": {},
     "output_type": "execute_result"
    }
   ],
   "source": [
    "datecount = special_searches.groupby(['Date','Destination']).Date.count()\n",
    "datecount = datecount.unstack('Destination')\n",
    "datecount.index.dtype"
   ]
  },
  {
   "cell_type": "markdown",
   "metadata": {},
   "source": [
    "##### still did not work"
   ]
  },
  {
   "cell_type": "code",
   "execution_count": 40,
   "metadata": {
    "collapsed": false
   },
   "outputs": [
    {
     "data": {
      "text/plain": [
       "dtype('<M8[ns]')"
      ]
     },
     "execution_count": 40,
     "metadata": {},
     "output_type": "execute_result"
    }
   ],
   "source": [
    "datecount.index = pd.to_datetime(datecount.index)\n",
    "datecount.index.dtype"
   ]
  },
  {
   "cell_type": "markdown",
   "metadata": {},
   "source": [
    "##### now it worked"
   ]
  },
  {
   "cell_type": "code",
   "execution_count": 41,
   "metadata": {
    "collapsed": false
   },
   "outputs": [
    {
     "data": {
      "text/html": [
       "<div style=\"max-height:1000px;max-width:1500px;overflow:auto;\">\n",
       "<table border=\"1\" class=\"dataframe\">\n",
       "  <thead>\n",
       "    <tr style=\"text-align: right;\">\n",
       "      <th>Destination</th>\n",
       "      <th>AGP</th>\n",
       "      <th>BCN</th>\n",
       "      <th>MAD</th>\n",
       "      <th>TOJ</th>\n",
       "    </tr>\n",
       "  </thead>\n",
       "  <tbody>\n",
       "    <tr>\n",
       "      <th>2013-01-31</th>\n",
       "      <td>  9633</td>\n",
       "      <td> 29469</td>\n",
       "      <td> 24258</td>\n",
       "      <td>NaN</td>\n",
       "    </tr>\n",
       "    <tr>\n",
       "      <th>2013-02-28</th>\n",
       "      <td>  8379</td>\n",
       "      <td> 28329</td>\n",
       "      <td> 22800</td>\n",
       "      <td>NaN</td>\n",
       "    </tr>\n",
       "    <tr>\n",
       "      <th>2013-03-31</th>\n",
       "      <td> 10659</td>\n",
       "      <td> 30552</td>\n",
       "      <td> 24681</td>\n",
       "      <td>NaN</td>\n",
       "    </tr>\n",
       "    <tr>\n",
       "      <th>2013-04-30</th>\n",
       "      <td>  8265</td>\n",
       "      <td> 31236</td>\n",
       "      <td> 25251</td>\n",
       "      <td>NaN</td>\n",
       "    </tr>\n",
       "    <tr>\n",
       "      <th>2013-05-31</th>\n",
       "      <td> 10830</td>\n",
       "      <td> 28728</td>\n",
       "      <td> 26334</td>\n",
       "      <td>NaN</td>\n",
       "    </tr>\n",
       "    <tr>\n",
       "      <th>2013-06-30</th>\n",
       "      <td>  7923</td>\n",
       "      <td> 26505</td>\n",
       "      <td> 22800</td>\n",
       "      <td>NaN</td>\n",
       "    </tr>\n",
       "    <tr>\n",
       "      <th>2013-07-31</th>\n",
       "      <td>  8892</td>\n",
       "      <td> 29241</td>\n",
       "      <td> 22971</td>\n",
       "      <td>NaN</td>\n",
       "    </tr>\n",
       "    <tr>\n",
       "      <th>2013-08-31</th>\n",
       "      <td>  7866</td>\n",
       "      <td> 27075</td>\n",
       "      <td> 21831</td>\n",
       "      <td> 57</td>\n",
       "    </tr>\n",
       "    <tr>\n",
       "      <th>2013-09-30</th>\n",
       "      <td>  8151</td>\n",
       "      <td> 23427</td>\n",
       "      <td> 21147</td>\n",
       "      <td> 57</td>\n",
       "    </tr>\n",
       "    <tr>\n",
       "      <th>2013-10-31</th>\n",
       "      <td>  6499</td>\n",
       "      <td> 20276</td>\n",
       "      <td> 22294</td>\n",
       "      <td>NaN</td>\n",
       "    </tr>\n",
       "    <tr>\n",
       "      <th>2013-11-30</th>\n",
       "      <td>  6384</td>\n",
       "      <td> 19824</td>\n",
       "      <td> 20272</td>\n",
       "      <td>NaN</td>\n",
       "    </tr>\n",
       "    <tr>\n",
       "      <th>2013-12-31</th>\n",
       "      <td>  3696</td>\n",
       "      <td> 15400</td>\n",
       "      <td> 14504</td>\n",
       "      <td>NaN</td>\n",
       "    </tr>\n",
       "  </tbody>\n",
       "</table>\n",
       "<p>12 rows × 4 columns</p>\n",
       "</div>"
      ],
      "text/plain": [
       "Destination    AGP    BCN    MAD  TOJ\n",
       "2013-01-31    9633  29469  24258  NaN\n",
       "2013-02-28    8379  28329  22800  NaN\n",
       "2013-03-31   10659  30552  24681  NaN\n",
       "2013-04-30    8265  31236  25251  NaN\n",
       "2013-05-31   10830  28728  26334  NaN\n",
       "2013-06-30    7923  26505  22800  NaN\n",
       "2013-07-31    8892  29241  22971  NaN\n",
       "2013-08-31    7866  27075  21831   57\n",
       "2013-09-30    8151  23427  21147   57\n",
       "2013-10-31    6499  20276  22294  NaN\n",
       "2013-11-30    6384  19824  20272  NaN\n",
       "2013-12-31    3696  15400  14504  NaN\n",
       "\n",
       "[12 rows x 4 columns]"
      ]
     },
     "execution_count": 41,
     "metadata": {},
     "output_type": "execute_result"
    }
   ],
   "source": [
    "monthcount = datecount.resample('M', how=sum)\n",
    "monthcount"
   ]
  },
  {
   "cell_type": "code",
   "execution_count": 44,
   "metadata": {
    "collapsed": false
   },
   "outputs": [
    {
     "data": {
      "text/plain": [
       "<matplotlib.axes.AxesSubplot at 0x7ffb2d8d1ad0>"
      ]
     },
     "execution_count": 44,
     "metadata": {},
     "output_type": "execute_result"
    },
    {
     "data": {
      "image/png": "[encoded data removed]",
      "text/plain": [
       "<matplotlib.figure.Figure at 0x7ffb35b2ce10>"
      ]
     },
     "metadata": {},
     "output_type": "display_data"
    }
   ],
   "source": [
    "monthcount.plot()"
   ]
  },
  {
   "cell_type": "markdown",
   "metadata": {},
   "source": [
    "### Exercise 4: Join DataFrames"
   ]
  },
  {
   "cell_type": "code",
   "execution_count": 215,
   "metadata": {
    "collapsed": true
   },
   "outputs": [],
   "source": [
    "shortSearches = searches.head(100)\n",
    "shortBookings = bookings.head(100)"
   ]
  },
  {
   "cell_type": "code",
   "execution_count": 182,
   "metadata": {
    "collapsed": false
   },
   "outputs": [],
   "source": [
    "shortSearches['Origin'] = shortSearches['Origin'].str.upper()\n",
    "shortSearches['Destination'] = shortSearches['Destination'].str.upper()"
   ]
  },
  {
   "cell_type": "code",
   "execution_count": 183,
   "metadata": {
    "collapsed": false
   },
   "outputs": [],
   "source": [
    "shortBookings['dep_port'] = shortBookings['dep_port'].str.upper()\n",
    "shortBookings['arr_port'] = shortBookings['arr_port'].str.upper()"
   ]
  },
  {
   "cell_type": "code",
   "execution_count": 216,
   "metadata": {
    "collapsed": false
   },
   "outputs": [],
   "source": [
    "shortBookings.columns = ['Origin','Destination','DestinationCity', 'Pax']"
   ]
  },
  {
   "cell_type": "code",
   "execution_count": 185,
   "metadata": {
    "collapsed": true
   },
   "outputs": [],
   "source": [
    "bookedSearches = pd.merge(shortSearches, shortBookings, on=['Destination'], how='left')"
   ]
  },
  {
   "cell_type": "code",
   "execution_count": 158,
   "metadata": {
    "collapsed": false
   },
   "outputs": [],
   "source": [
    "bookedSearches = pd.merge(shortSearches, shortBookings, left_on='Destination', right_on='arr_port')"
   ]
  },
  {
   "cell_type": "code",
   "execution_count": 186,
   "metadata": {
    "collapsed": false
   },
   "outputs": [
    {
     "data": {
      "text/html": [
       "<div style=\"max-height:1000px;max-width:1500px;overflow:auto;\">\n",
       "<table border=\"1\" class=\"dataframe\">\n",
       "  <thead>\n",
       "    <tr style=\"text-align: right;\">\n",
       "      <th></th>\n",
       "      <th>Date</th>\n",
       "      <th>Origin_x</th>\n",
       "      <th>Destination</th>\n",
       "      <th>Origin_y</th>\n",
       "      <th>DestinationCity</th>\n",
       "      <th>Pax</th>\n",
       "    </tr>\n",
       "  </thead>\n",
       "  <tbody>\n",
       "    <tr>\n",
       "      <th>0 </th>\n",
       "      <td> 2013-01-01</td>\n",
       "      <td> TXL</td>\n",
       "      <td> AUH</td>\n",
       "      <td> NaN</td>\n",
       "      <td> NaN</td>\n",
       "      <td>NaN</td>\n",
       "    </tr>\n",
       "    <tr>\n",
       "      <th>1 </th>\n",
       "      <td> 2013-01-01</td>\n",
       "      <td> ATH</td>\n",
       "      <td> MIL</td>\n",
       "      <td> NaN</td>\n",
       "      <td> NaN</td>\n",
       "      <td>NaN</td>\n",
       "    </tr>\n",
       "    <tr>\n",
       "      <th>2 </th>\n",
       "      <td> 2013-01-01</td>\n",
       "      <td> STR</td>\n",
       "      <td> MIL</td>\n",
       "      <td> NaN</td>\n",
       "      <td> NaN</td>\n",
       "      <td>NaN</td>\n",
       "    </tr>\n",
       "    <tr>\n",
       "      <th>3 </th>\n",
       "      <td> 2013-01-01</td>\n",
       "      <td> ICT</td>\n",
       "      <td> SFO</td>\n",
       "      <td> NaN</td>\n",
       "      <td> NaN</td>\n",
       "      <td>NaN</td>\n",
       "    </tr>\n",
       "    <tr>\n",
       "      <th>4 </th>\n",
       "      <td> 2013-01-01</td>\n",
       "      <td> QYG</td>\n",
       "      <td> SFO</td>\n",
       "      <td> NaN</td>\n",
       "      <td> NaN</td>\n",
       "      <td>NaN</td>\n",
       "    </tr>\n",
       "    <tr>\n",
       "      <th>5 </th>\n",
       "      <td> 2013-01-01</td>\n",
       "      <td> RNB</td>\n",
       "      <td> ARN</td>\n",
       "      <td> NaN</td>\n",
       "      <td> NaN</td>\n",
       "      <td>NaN</td>\n",
       "    </tr>\n",
       "    <tr>\n",
       "      <th>6 </th>\n",
       "      <td> 2013-01-01</td>\n",
       "      <td> OSL</td>\n",
       "      <td> MAD</td>\n",
       "      <td> NaN</td>\n",
       "      <td> NaN</td>\n",
       "      <td>NaN</td>\n",
       "    </tr>\n",
       "    <tr>\n",
       "      <th>7 </th>\n",
       "      <td> 2013-01-01</td>\n",
       "      <td> IAH</td>\n",
       "      <td> BLR</td>\n",
       "      <td> NaN</td>\n",
       "      <td> NaN</td>\n",
       "      <td>NaN</td>\n",
       "    </tr>\n",
       "    <tr>\n",
       "      <th>8 </th>\n",
       "      <td> 2013-01-01</td>\n",
       "      <td> CPH</td>\n",
       "      <td> PAR</td>\n",
       "      <td> NaN</td>\n",
       "      <td> NaN</td>\n",
       "      <td>NaN</td>\n",
       "    </tr>\n",
       "    <tr>\n",
       "      <th>9 </th>\n",
       "      <td> 2013-01-01</td>\n",
       "      <td> MAH</td>\n",
       "      <td> PAR</td>\n",
       "      <td> NaN</td>\n",
       "      <td> NaN</td>\n",
       "      <td>NaN</td>\n",
       "    </tr>\n",
       "    <tr>\n",
       "      <th>10</th>\n",
       "      <td> 2013-01-01</td>\n",
       "      <td> PAR</td>\n",
       "      <td> DUB</td>\n",
       "      <td> NaN</td>\n",
       "      <td> NaN</td>\n",
       "      <td>NaN</td>\n",
       "    </tr>\n",
       "    <tr>\n",
       "      <th>11</th>\n",
       "      <td> 2013-01-01</td>\n",
       "      <td> DUS</td>\n",
       "      <td> ACE</td>\n",
       "      <td> NaN</td>\n",
       "      <td> NaN</td>\n",
       "      <td>NaN</td>\n",
       "    </tr>\n",
       "    <tr>\n",
       "      <th>12</th>\n",
       "      <td> 2013-01-01</td>\n",
       "      <td> FRA</td>\n",
       "      <td> BGW</td>\n",
       "      <td> NaN</td>\n",
       "      <td> NaN</td>\n",
       "      <td>NaN</td>\n",
       "    </tr>\n",
       "    <tr>\n",
       "      <th>13</th>\n",
       "      <td> 2013-01-01</td>\n",
       "      <td> PAR</td>\n",
       "      <td> BUD</td>\n",
       "      <td> NaN</td>\n",
       "      <td> NaN</td>\n",
       "      <td>NaN</td>\n",
       "    </tr>\n",
       "    <tr>\n",
       "      <th>14</th>\n",
       "      <td> 2013-01-01</td>\n",
       "      <td> LED</td>\n",
       "      <td> BUD</td>\n",
       "      <td> NaN</td>\n",
       "      <td> NaN</td>\n",
       "      <td>NaN</td>\n",
       "    </tr>\n",
       "    <tr>\n",
       "      <th>15</th>\n",
       "      <td> 2013-01-01</td>\n",
       "      <td> RIO</td>\n",
       "      <td> POA</td>\n",
       "      <td> NaN</td>\n",
       "      <td> NaN</td>\n",
       "      <td>NaN</td>\n",
       "    </tr>\n",
       "    <tr>\n",
       "      <th>16</th>\n",
       "      <td> 2013-01-01</td>\n",
       "      <td> HKG</td>\n",
       "      <td> MXP</td>\n",
       "      <td> NaN</td>\n",
       "      <td> NaN</td>\n",
       "      <td>NaN</td>\n",
       "    </tr>\n",
       "    <tr>\n",
       "      <th>17</th>\n",
       "      <td> 2013-01-01</td>\n",
       "      <td> BCN</td>\n",
       "      <td> LON</td>\n",
       "      <td> NaN</td>\n",
       "      <td> NaN</td>\n",
       "      <td>NaN</td>\n",
       "    </tr>\n",
       "    <tr>\n",
       "      <th>18</th>\n",
       "      <td> 2013-01-01</td>\n",
       "      <td> PHL</td>\n",
       "      <td> LON</td>\n",
       "      <td> NaN</td>\n",
       "      <td> NaN</td>\n",
       "      <td>NaN</td>\n",
       "    </tr>\n",
       "    <tr>\n",
       "      <th>19</th>\n",
       "      <td> 2013-01-01</td>\n",
       "      <td> CLE</td>\n",
       "      <td> SNN</td>\n",
       "      <td> NaN</td>\n",
       "      <td> NaN</td>\n",
       "      <td>NaN</td>\n",
       "    </tr>\n",
       "    <tr>\n",
       "      <th>20</th>\n",
       "      <td> 2013-01-01</td>\n",
       "      <td> BSB</td>\n",
       "      <td> SLZ</td>\n",
       "      <td> NaN</td>\n",
       "      <td> NaN</td>\n",
       "      <td>NaN</td>\n",
       "    </tr>\n",
       "    <tr>\n",
       "      <th>21</th>\n",
       "      <td> 2013-01-01</td>\n",
       "      <td> PEK</td>\n",
       "      <td> PHL</td>\n",
       "      <td> NaN</td>\n",
       "      <td> NaN</td>\n",
       "      <td>NaN</td>\n",
       "    </tr>\n",
       "    <tr>\n",
       "      <th>22</th>\n",
       "      <td> 2013-01-01</td>\n",
       "      <td> BOS</td>\n",
       "      <td> GRU</td>\n",
       "      <td> NaN</td>\n",
       "      <td> NaN</td>\n",
       "      <td>NaN</td>\n",
       "    </tr>\n",
       "    <tr>\n",
       "      <th>23</th>\n",
       "      <td> 2013-01-01</td>\n",
       "      <td> TBS</td>\n",
       "      <td> IKT</td>\n",
       "      <td> NaN</td>\n",
       "      <td> NaN</td>\n",
       "      <td>NaN</td>\n",
       "    </tr>\n",
       "    <tr>\n",
       "      <th>24</th>\n",
       "      <td> 2013-01-01</td>\n",
       "      <td> LON</td>\n",
       "      <td> HKG</td>\n",
       "      <td> NaN</td>\n",
       "      <td> NaN</td>\n",
       "      <td>NaN</td>\n",
       "    </tr>\n",
       "    <tr>\n",
       "      <th>25</th>\n",
       "      <td> 2013-01-01</td>\n",
       "      <td> MAD</td>\n",
       "      <td> SEA</td>\n",
       "      <td> NaN</td>\n",
       "      <td> NaN</td>\n",
       "      <td>NaN</td>\n",
       "    </tr>\n",
       "    <tr>\n",
       "      <th>26</th>\n",
       "      <td> 2013-01-01</td>\n",
       "      <td> OPO</td>\n",
       "      <td> SEA</td>\n",
       "      <td> NaN</td>\n",
       "      <td> NaN</td>\n",
       "      <td>NaN</td>\n",
       "    </tr>\n",
       "    <tr>\n",
       "      <th>27</th>\n",
       "      <td> 2013-01-01</td>\n",
       "      <td> DUS</td>\n",
       "      <td> STN</td>\n",
       "      <td> NaN</td>\n",
       "      <td> NaN</td>\n",
       "      <td>NaN</td>\n",
       "    </tr>\n",
       "    <tr>\n",
       "      <th>28</th>\n",
       "      <td> 2013-01-01</td>\n",
       "      <td> PAD</td>\n",
       "      <td> FUE</td>\n",
       "      <td> NaN</td>\n",
       "      <td> NaN</td>\n",
       "      <td>NaN</td>\n",
       "    </tr>\n",
       "    <tr>\n",
       "      <th>29</th>\n",
       "      <td> 2013-01-01</td>\n",
       "      <td> DUS</td>\n",
       "      <td> IST</td>\n",
       "      <td> NaN</td>\n",
       "      <td> NaN</td>\n",
       "      <td>NaN</td>\n",
       "    </tr>\n",
       "    <tr>\n",
       "      <th>30</th>\n",
       "      <td> 2013-01-01</td>\n",
       "      <td> BHX</td>\n",
       "      <td> VIE</td>\n",
       "      <td> NaN</td>\n",
       "      <td> NaN</td>\n",
       "      <td>NaN</td>\n",
       "    </tr>\n",
       "    <tr>\n",
       "      <th>31</th>\n",
       "      <td> 2013-01-01</td>\n",
       "      <td> BCN</td>\n",
       "      <td> VIE</td>\n",
       "      <td> NaN</td>\n",
       "      <td> NaN</td>\n",
       "      <td>NaN</td>\n",
       "    </tr>\n",
       "    <tr>\n",
       "      <th>32</th>\n",
       "      <td> 2013-01-01</td>\n",
       "      <td> JFK</td>\n",
       "      <td> VIE</td>\n",
       "      <td> NaN</td>\n",
       "      <td> NaN</td>\n",
       "      <td>NaN</td>\n",
       "    </tr>\n",
       "    <tr>\n",
       "      <th>33</th>\n",
       "      <td> 2013-01-01</td>\n",
       "      <td> CGB</td>\n",
       "      <td> SAO</td>\n",
       "      <td> NaN</td>\n",
       "      <td> NaN</td>\n",
       "      <td>NaN</td>\n",
       "    </tr>\n",
       "    <tr>\n",
       "      <th>34</th>\n",
       "      <td> 2013-01-01</td>\n",
       "      <td> ZRH</td>\n",
       "      <td> BRI</td>\n",
       "      <td> NaN</td>\n",
       "      <td> NaN</td>\n",
       "      <td>NaN</td>\n",
       "    </tr>\n",
       "    <tr>\n",
       "      <th>35</th>\n",
       "      <td> 2013-01-01</td>\n",
       "      <td> RUH</td>\n",
       "      <td> JED</td>\n",
       "      <td> NaN</td>\n",
       "      <td> NaN</td>\n",
       "      <td>NaN</td>\n",
       "    </tr>\n",
       "    <tr>\n",
       "      <th>36</th>\n",
       "      <td> 2013-01-01</td>\n",
       "      <td> UME</td>\n",
       "      <td> CPH</td>\n",
       "      <td> NaN</td>\n",
       "      <td> NaN</td>\n",
       "      <td>NaN</td>\n",
       "    </tr>\n",
       "    <tr>\n",
       "      <th>37</th>\n",
       "      <td> 2013-01-01</td>\n",
       "      <td> OTP</td>\n",
       "      <td> CPH</td>\n",
       "      <td> NaN</td>\n",
       "      <td> NaN</td>\n",
       "      <td>NaN</td>\n",
       "    </tr>\n",
       "    <tr>\n",
       "      <th>38</th>\n",
       "      <td> 2013-01-01</td>\n",
       "      <td> KEF</td>\n",
       "      <td> CPH</td>\n",
       "      <td> NaN</td>\n",
       "      <td> NaN</td>\n",
       "      <td>NaN</td>\n",
       "    </tr>\n",
       "    <tr>\n",
       "      <th>39</th>\n",
       "      <td> 2013-01-01</td>\n",
       "      <td> FRA</td>\n",
       "      <td> DRS</td>\n",
       "      <td> NaN</td>\n",
       "      <td> NaN</td>\n",
       "      <td>NaN</td>\n",
       "    </tr>\n",
       "    <tr>\n",
       "      <th>40</th>\n",
       "      <td> 2013-01-01</td>\n",
       "      <td> BER</td>\n",
       "      <td> DUS</td>\n",
       "      <td> NaN</td>\n",
       "      <td> NaN</td>\n",
       "      <td>NaN</td>\n",
       "    </tr>\n",
       "    <tr>\n",
       "      <th>41</th>\n",
       "      <td> 2013-01-01</td>\n",
       "      <td> ACE</td>\n",
       "      <td> DUS</td>\n",
       "      <td> NaN</td>\n",
       "      <td> NaN</td>\n",
       "      <td>NaN</td>\n",
       "    </tr>\n",
       "    <tr>\n",
       "      <th>42</th>\n",
       "      <td> 2013-01-01</td>\n",
       "      <td> SKG</td>\n",
       "      <td> DUS</td>\n",
       "      <td> NaN</td>\n",
       "      <td> NaN</td>\n",
       "      <td>NaN</td>\n",
       "    </tr>\n",
       "    <tr>\n",
       "      <th>43</th>\n",
       "      <td> 2013-01-01</td>\n",
       "      <td> WAW</td>\n",
       "      <td> VCE</td>\n",
       "      <td> NaN</td>\n",
       "      <td> NaN</td>\n",
       "      <td>NaN</td>\n",
       "    </tr>\n",
       "    <tr>\n",
       "      <th>44</th>\n",
       "      <td> 2013-01-01</td>\n",
       "      <td> MOW</td>\n",
       "      <td> NBC</td>\n",
       "      <td> NaN</td>\n",
       "      <td> NaN</td>\n",
       "      <td>NaN</td>\n",
       "    </tr>\n",
       "    <tr>\n",
       "      <th>45</th>\n",
       "      <td> 2013-01-01</td>\n",
       "      <td> FRA</td>\n",
       "      <td> USM</td>\n",
       "      <td> NaN</td>\n",
       "      <td> NaN</td>\n",
       "      <td>NaN</td>\n",
       "    </tr>\n",
       "    <tr>\n",
       "      <th>46</th>\n",
       "      <td> 2013-01-01</td>\n",
       "      <td> FRA</td>\n",
       "      <td> IAD</td>\n",
       "      <td> NaN</td>\n",
       "      <td> NaN</td>\n",
       "      <td>NaN</td>\n",
       "    </tr>\n",
       "    <tr>\n",
       "      <th>47</th>\n",
       "      <td> 2013-01-01</td>\n",
       "      <td> STO</td>\n",
       "      <td> BKK</td>\n",
       "      <td> NaN</td>\n",
       "      <td> NaN</td>\n",
       "      <td>NaN</td>\n",
       "    </tr>\n",
       "    <tr>\n",
       "      <th>48</th>\n",
       "      <td> 2013-01-01</td>\n",
       "      <td> CPH</td>\n",
       "      <td> BKK</td>\n",
       "      <td> NaN</td>\n",
       "      <td> NaN</td>\n",
       "      <td>NaN</td>\n",
       "    </tr>\n",
       "    <tr>\n",
       "      <th>49</th>\n",
       "      <td> 2013-01-01</td>\n",
       "      <td> LON</td>\n",
       "      <td> BKK</td>\n",
       "      <td> NaN</td>\n",
       "      <td> NaN</td>\n",
       "      <td>NaN</td>\n",
       "    </tr>\n",
       "    <tr>\n",
       "      <th>50</th>\n",
       "      <td> 2013-01-01</td>\n",
       "      <td> LYS</td>\n",
       "      <td> SIN</td>\n",
       "      <td> NaN</td>\n",
       "      <td> NaN</td>\n",
       "      <td>NaN</td>\n",
       "    </tr>\n",
       "    <tr>\n",
       "      <th>51</th>\n",
       "      <td> 2013-01-01</td>\n",
       "      <td> HYD</td>\n",
       "      <td> LKO</td>\n",
       "      <td> NaN</td>\n",
       "      <td> NaN</td>\n",
       "      <td>NaN</td>\n",
       "    </tr>\n",
       "    <tr>\n",
       "      <th>52</th>\n",
       "      <td> 2013-01-01</td>\n",
       "      <td> GRZ</td>\n",
       "      <td> MUC</td>\n",
       "      <td> NaN</td>\n",
       "      <td> NaN</td>\n",
       "      <td>NaN</td>\n",
       "    </tr>\n",
       "    <tr>\n",
       "      <th>53</th>\n",
       "      <td> 2013-01-01</td>\n",
       "      <td> CGN</td>\n",
       "      <td> MUC</td>\n",
       "      <td> NaN</td>\n",
       "      <td> NaN</td>\n",
       "      <td>NaN</td>\n",
       "    </tr>\n",
       "    <tr>\n",
       "      <th>54</th>\n",
       "      <td> 2013-01-01</td>\n",
       "      <td> DMM</td>\n",
       "      <td> MNL</td>\n",
       "      <td> NaN</td>\n",
       "      <td> NaN</td>\n",
       "      <td>NaN</td>\n",
       "    </tr>\n",
       "    <tr>\n",
       "      <th>55</th>\n",
       "      <td> 2013-01-01</td>\n",
       "      <td> CPH</td>\n",
       "      <td> MNL</td>\n",
       "      <td> NaN</td>\n",
       "      <td> NaN</td>\n",
       "      <td>NaN</td>\n",
       "    </tr>\n",
       "    <tr>\n",
       "      <th>56</th>\n",
       "      <td> 2013-01-01</td>\n",
       "      <td> LON</td>\n",
       "      <td> MNL</td>\n",
       "      <td> NaN</td>\n",
       "      <td> NaN</td>\n",
       "      <td>NaN</td>\n",
       "    </tr>\n",
       "    <tr>\n",
       "      <th>57</th>\n",
       "      <td> 2013-01-01</td>\n",
       "      <td> MAA</td>\n",
       "      <td> BBI</td>\n",
       "      <td> NaN</td>\n",
       "      <td> NaN</td>\n",
       "      <td>NaN</td>\n",
       "    </tr>\n",
       "    <tr>\n",
       "      <th>58</th>\n",
       "      <td> 2013-01-01</td>\n",
       "      <td> BOS</td>\n",
       "      <td> RSW</td>\n",
       "      <td> NaN</td>\n",
       "      <td> NaN</td>\n",
       "      <td>NaN</td>\n",
       "    </tr>\n",
       "    <tr>\n",
       "      <th>59</th>\n",
       "      <td> 2013-01-01</td>\n",
       "      <td> PVG</td>\n",
       "      <td> CMH</td>\n",
       "      <td> NaN</td>\n",
       "      <td> NaN</td>\n",
       "      <td>NaN</td>\n",
       "    </tr>\n",
       "    <tr>\n",
       "      <th></th>\n",
       "      <td>...</td>\n",
       "      <td>...</td>\n",
       "      <td>...</td>\n",
       "      <td>...</td>\n",
       "      <td>...</td>\n",
       "      <td>...</td>\n",
       "    </tr>\n",
       "  </tbody>\n",
       "</table>\n",
       "<p>100 rows × 6 columns</p>\n",
       "</div>"
      ],
      "text/plain": [
       "          Date Origin_x Destination Origin_y DestinationCity  Pax\n",
       "0   2013-01-01      TXL         AUH      NaN             NaN  NaN\n",
       "1   2013-01-01      ATH         MIL      NaN             NaN  NaN\n",
       "2   2013-01-01      STR         MIL      NaN             NaN  NaN\n",
       "3   2013-01-01      ICT         SFO      NaN             NaN  NaN\n",
       "4   2013-01-01      QYG         SFO      NaN             NaN  NaN\n",
       "5   2013-01-01      RNB         ARN      NaN             NaN  NaN\n",
       "6   2013-01-01      OSL         MAD      NaN             NaN  NaN\n",
       "7   2013-01-01      IAH         BLR      NaN             NaN  NaN\n",
       "8   2013-01-01      CPH         PAR      NaN             NaN  NaN\n",
       "9   2013-01-01      MAH         PAR      NaN             NaN  NaN\n",
       "10  2013-01-01      PAR         DUB      NaN             NaN  NaN\n",
       "11  2013-01-01      DUS         ACE      NaN             NaN  NaN\n",
       "12  2013-01-01      FRA         BGW      NaN             NaN  NaN\n",
       "13  2013-01-01      PAR         BUD      NaN             NaN  NaN\n",
       "14  2013-01-01      LED         BUD      NaN             NaN  NaN\n",
       "15  2013-01-01      RIO         POA      NaN             NaN  NaN\n",
       "16  2013-01-01      HKG         MXP      NaN             NaN  NaN\n",
       "17  2013-01-01      BCN         LON      NaN             NaN  NaN\n",
       "18  2013-01-01      PHL         LON      NaN             NaN  NaN\n",
       "19  2013-01-01      CLE         SNN      NaN             NaN  NaN\n",
       "20  2013-01-01      BSB         SLZ      NaN             NaN  NaN\n",
       "21  2013-01-01      PEK         PHL      NaN             NaN  NaN\n",
       "22  2013-01-01      BOS         GRU      NaN             NaN  NaN\n",
       "23  2013-01-01      TBS         IKT      NaN             NaN  NaN\n",
       "24  2013-01-01      LON         HKG      NaN             NaN  NaN\n",
       "25  2013-01-01      MAD         SEA      NaN             NaN  NaN\n",
       "26  2013-01-01      OPO         SEA      NaN             NaN  NaN\n",
       "27  2013-01-01      DUS         STN      NaN             NaN  NaN\n",
       "28  2013-01-01      PAD         FUE      NaN             NaN  NaN\n",
       "29  2013-01-01      DUS         IST      NaN             NaN  NaN\n",
       "30  2013-01-01      BHX         VIE      NaN             NaN  NaN\n",
       "31  2013-01-01      BCN         VIE      NaN             NaN  NaN\n",
       "32  2013-01-01      JFK         VIE      NaN             NaN  NaN\n",
       "33  2013-01-01      CGB         SAO      NaN             NaN  NaN\n",
       "34  2013-01-01      ZRH         BRI      NaN             NaN  NaN\n",
       "35  2013-01-01      RUH         JED      NaN             NaN  NaN\n",
       "36  2013-01-01      UME         CPH      NaN             NaN  NaN\n",
       "37  2013-01-01      OTP         CPH      NaN             NaN  NaN\n",
       "38  2013-01-01      KEF         CPH      NaN             NaN  NaN\n",
       "39  2013-01-01      FRA         DRS      NaN             NaN  NaN\n",
       "40  2013-01-01      BER         DUS      NaN             NaN  NaN\n",
       "41  2013-01-01      ACE         DUS      NaN             NaN  NaN\n",
       "42  2013-01-01      SKG         DUS      NaN             NaN  NaN\n",
       "43  2013-01-01      WAW         VCE      NaN             NaN  NaN\n",
       "44  2013-01-01      MOW         NBC      NaN             NaN  NaN\n",
       "45  2013-01-01      FRA         USM      NaN             NaN  NaN\n",
       "46  2013-01-01      FRA         IAD      NaN             NaN  NaN\n",
       "47  2013-01-01      STO         BKK      NaN             NaN  NaN\n",
       "48  2013-01-01      CPH         BKK      NaN             NaN  NaN\n",
       "49  2013-01-01      LON         BKK      NaN             NaN  NaN\n",
       "50  2013-01-01      LYS         SIN      NaN             NaN  NaN\n",
       "51  2013-01-01      HYD         LKO      NaN             NaN  NaN\n",
       "52  2013-01-01      GRZ         MUC      NaN             NaN  NaN\n",
       "53  2013-01-01      CGN         MUC      NaN             NaN  NaN\n",
       "54  2013-01-01      DMM         MNL      NaN             NaN  NaN\n",
       "55  2013-01-01      CPH         MNL      NaN             NaN  NaN\n",
       "56  2013-01-01      LON         MNL      NaN             NaN  NaN\n",
       "57  2013-01-01      MAA         BBI      NaN             NaN  NaN\n",
       "58  2013-01-01      BOS         RSW      NaN             NaN  NaN\n",
       "59  2013-01-01      PVG         CMH      NaN             NaN  NaN\n",
       "           ...      ...         ...      ...             ...  ...\n",
       "\n",
       "[100 rows x 6 columns]"
      ]
     },
     "execution_count": 186,
     "metadata": {},
     "output_type": "execute_result"
    }
   ],
   "source": [
    "bookedSearches"
   ]
  },
  {
   "cell_type": "code",
   "execution_count": 211,
   "metadata": {
    "collapsed": false
   },
   "outputs": [
    {
     "data": {
      "text/plain": [
       "Date           object\n",
       "Origin         object\n",
       "Destination    object\n",
       "dtype: object"
      ]
     },
     "execution_count": 211,
     "metadata": {},
     "output_type": "execute_result"
    }
   ],
   "source": [
    "shortSearches.dtypes"
   ]
  },
  {
   "cell_type": "code",
   "execution_count": 212,
   "metadata": {
    "collapsed": false
   },
   "outputs": [
    {
     "data": {
      "text/plain": [
       "Origin              object\n",
       "Destination         object\n",
       "DestinationCity     object\n",
       "Pax                float64\n",
       "dtype: object"
      ]
     },
     "execution_count": 212,
     "metadata": {},
     "output_type": "execute_result"
    }
   ],
   "source": [
    "shortBookings.dtypes"
   ]
  },
  {
   "cell_type": "markdown",
   "metadata": {},
   "source": [
    "##### this should work but it doesn't"
   ]
  },
  {
   "cell_type": "code",
   "execution_count": 217,
   "metadata": {
    "collapsed": false
   },
   "outputs": [
    {
     "data": {
      "text/html": [
       "<div style=\"max-height:1000px;max-width:1500px;overflow:auto;\">\n",
       "<table border=\"1\" class=\"dataframe\">\n",
       "  <thead>\n",
       "    <tr style=\"text-align: right;\">\n",
       "      <th></th>\n",
       "      <th>Origin</th>\n",
       "      <th>Destination</th>\n",
       "      <th>DestinationCity</th>\n",
       "      <th>Pax</th>\n",
       "    </tr>\n",
       "  </thead>\n",
       "  <tbody>\n",
       "    <tr>\n",
       "      <th>0</th>\n",
       "      <td> ZRH     </td>\n",
       "      <td> LHR</td>\n",
       "      <td> LON     </td>\n",
       "      <td>-1</td>\n",
       "    </tr>\n",
       "  </tbody>\n",
       "</table>\n",
       "<p>1 rows × 4 columns</p>\n",
       "</div>"
      ],
      "text/plain": [
       "     Origin Destination DestinationCity  Pax\n",
       "0  ZRH              LHR        LON        -1\n",
       "\n",
       "[1 rows x 4 columns]"
      ]
     },
     "execution_count": 217,
     "metadata": {},
     "output_type": "execute_result"
    }
   ],
   "source": [
    "shortBookings[shortBookings['Destination'] == \"LHR\"]"
   ]
  },
  {
   "cell_type": "code",
   "execution_count": 218,
   "metadata": {
    "collapsed": false
   },
   "outputs": [
    {
     "data": {
      "text/html": [
       "<div style=\"max-height:1000px;max-width:1500px;overflow:auto;\">\n",
       "<table border=\"1\" class=\"dataframe\">\n",
       "  <thead>\n",
       "    <tr style=\"text-align: right;\">\n",
       "      <th></th>\n",
       "      <th>Origin</th>\n",
       "      <th>Destination</th>\n",
       "      <th>DestinationCity</th>\n",
       "      <th>Pax</th>\n",
       "    </tr>\n",
       "  </thead>\n",
       "  <tbody>\n",
       "    <tr>\n",
       "      <th>0</th>\n",
       "      <td> ZRH     </td>\n",
       "      <td> LHR</td>\n",
       "      <td> LON     </td>\n",
       "      <td>-1</td>\n",
       "    </tr>\n",
       "  </tbody>\n",
       "</table>\n",
       "<p>1 rows × 4 columns</p>\n",
       "</div>"
      ],
      "text/plain": [
       "     Origin Destination DestinationCity  Pax\n",
       "0  ZRH              LHR        LON        -1\n",
       "\n",
       "[1 rows x 4 columns]"
      ]
     },
     "execution_count": 218,
     "metadata": {},
     "output_type": "execute_result"
    }
   ],
   "source": [
    "shortBookings[shortBookings['Destination'].str.contains(\"LHR\")]"
   ]
  },
  {
   "cell_type": "code",
   "execution_count": 219,
   "metadata": {
    "collapsed": false
   },
   "outputs": [
    {
     "data": {
      "text/plain": [
       "'CLT'"
      ]
     },
     "execution_count": 219,
     "metadata": {},
     "output_type": "execute_result"
    }
   ],
   "source": [
    "shortBookings['Destination'][1]"
   ]
  },
  {
   "cell_type": "markdown",
   "metadata": {},
   "source": [
    "##### Ahaaa, that's why. Get the tab out of there!"
   ]
  },
  {
   "cell_type": "code",
   "execution_count": 220,
   "metadata": {
    "collapsed": false
   },
   "outputs": [
    {
     "data": {
      "text/plain": [
       "'CLT'"
      ]
     },
     "execution_count": 220,
     "metadata": {},
     "output_type": "execute_result"
    }
   ],
   "source": [
    "shortBookings['Destination'] = shortBookings['Destination'].str.strip()\n",
    "shortBookings['Destination'][1]"
   ]
  },
  {
   "cell_type": "markdown",
   "metadata": {},
   "source": [
    "##### Better. Now the rest..."
   ]
  },
  {
   "cell_type": "code",
   "execution_count": 221,
   "metadata": {
    "collapsed": false
   },
   "outputs": [
    {
     "data": {
      "text/plain": [
       "'SAL     '"
      ]
     },
     "execution_count": 221,
     "metadata": {},
     "output_type": "execute_result"
    }
   ],
   "source": [
    "shortBookings['Origin'][1]"
   ]
  },
  {
   "cell_type": "code",
   "execution_count": 222,
   "metadata": {
    "collapsed": false
   },
   "outputs": [
    {
     "data": {
      "text/plain": [
       "'CLT     '"
      ]
     },
     "execution_count": 222,
     "metadata": {},
     "output_type": "execute_result"
    }
   ],
   "source": [
    "shortBookings['DestinationCity'][1]"
   ]
  },
  {
   "cell_type": "code",
   "execution_count": 223,
   "metadata": {
    "collapsed": false
   },
   "outputs": [
    {
     "data": {
      "text/plain": [
       "1.0"
      ]
     },
     "execution_count": 223,
     "metadata": {},
     "output_type": "execute_result"
    }
   ],
   "source": [
    "shortBookings['Pax'][1]"
   ]
  },
  {
   "cell_type": "code",
   "execution_count": 224,
   "metadata": {
    "collapsed": false
   },
   "outputs": [
    {
     "data": {
      "text/plain": [
       "'SAL'"
      ]
     },
     "execution_count": 224,
     "metadata": {},
     "output_type": "execute_result"
    }
   ],
   "source": [
    "shortBookings['Origin'] = shortBookings['Origin'].str.strip()\n",
    "shortBookings['Origin'][1]"
   ]
  },
  {
   "cell_type": "code",
   "execution_count": 225,
   "metadata": {
    "collapsed": false
   },
   "outputs": [
    {
     "data": {
      "text/plain": [
       "'CLT'"
      ]
     },
     "execution_count": 225,
     "metadata": {},
     "output_type": "execute_result"
    }
   ],
   "source": [
    "shortBookings['DestinationCity'] = shortBookings['DestinationCity'].str.strip()\n",
    "shortBookings['DestinationCity'][1]"
   ]
  },
  {
   "cell_type": "code",
   "execution_count": null,
   "metadata": {
    "collapsed": true
   },
   "outputs": [],
   "source": []
  }
 ],
 "metadata": {
  "kernelspec": {
   "display_name": "Python 2",
   "language": "python",
   "name": "python2"
  },
  "language_info": {
   "codemirror_mode": {
    "name": "ipython",
    "version": 2
   },
   "file_extension": ".py",
   "mimetype": "text/x-python",
   "name": "python",
   "nbconvert_exporter": "python",
   "pygments_lexer": "ipython2",
   "version": "2.7.6"
  }
 },
 "nbformat": 4,
 "nbformat_minor": 0
}
